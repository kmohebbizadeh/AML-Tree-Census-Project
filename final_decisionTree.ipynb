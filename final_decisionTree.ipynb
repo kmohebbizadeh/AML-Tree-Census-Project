{
  "cells": [
    {
      "cell_type": "markdown",
      "id": "9e457747",
      "metadata": {
        "id": "9e457747"
      },
      "source": [
        "# Tree Census Final Project"
      ]
    },
    {
      "cell_type": "markdown",
      "id": "058f4338",
      "metadata": {
        "id": "058f4338"
      },
      "source": [
        "## Packages"
      ]
    },
    {
      "cell_type": "code",
      "execution_count": 94,
      "id": "f00fd78c",
      "metadata": {
        "id": "f00fd78c"
      },
      "outputs": [],
      "source": [
        "import numpy as np\n",
        "import pandas as pd\n",
        "import matplotlib.pyplot as plt\n",
        "import seaborn as sns\n",
        "\n",
        "from sklearn.preprocessing import OrdinalEncoder, OneHotEncoder, StandardScaler\n",
        "from sklearn.model_selection import train_test_split, RandomizedSearchCV\n",
        "from sklearn.linear_model import LogisticRegression\n",
        "from sklearn.svm import LinearSVC, SVC\n",
        "from sklearn.tree import DecisionTreeClassifier\n",
        "from sklearn.metrics import roc_auc_score, accuracy_score, f1_score, confusion_matrix, precision_recall_fscore_support, make_scorer, classification_report\n",
        "from imblearn.over_sampling import RandomOverSampler, SMOTE\n",
        "from imblearn.under_sampling import RandomUnderSampler\n",
        "from scipy import stats\n",
        "from sklearn.metrics import accuracy_score, f1_score, confusion_matrix,classification_report\n",
        "import warnings\n",
        "warnings.filterwarnings('ignore')"
      ]
    },
    {
      "cell_type": "markdown",
      "id": "c327c882",
      "metadata": {
        "id": "c327c882"
      },
      "source": [
        "## Preprocessing"
      ]
    },
    {
      "cell_type": "code",
      "execution_count": 70,
      "id": "46dc90d4",
      "metadata": {
        "id": "46dc90d4"
      },
      "outputs": [],
      "source": [
        "# load in data with relative path\n",
        "tree_df = pd.read_csv('sample_data/2015_Street_Tree_Census_-_Tree_Data.csv')"
      ]
    },
    {
      "cell_type": "code",
      "execution_count": 71,
      "id": "aa3d6a1f",
      "metadata": {
        "id": "aa3d6a1f"
      },
      "outputs": [],
      "source": [
        "# drop columns that arent useful, or suffer from multicolinearity\n",
        "tree_df = tree_df.drop(columns=[\n",
        "    'borocode', 'x_sp', 'y_sp', 'state', 'nta_name', 'zip_city', 'address',\n",
        "    'spc_latin', 'created_at', 'tree_id', 'block_id', 'user_type', 'bin',\n",
        "    'bbl', 'council district', 'boro_ct', 'census tract', 'problems', 'status',\n",
        "    'stump_diam', 'postcode', 'community board', 'cncldist', 'st_assem', 'st_senate', \n",
        "    'nta', 'spc_common'\n",
        "])"
      ]
    },
    {
      "cell_type": "code",
      "execution_count": 72,
      "id": "40691cff",
      "metadata": {
        "id": "40691cff"
      },
      "outputs": [],
      "source": [
        "# drop NA and dead tree values\n",
        "tree_df = tree_df[tree_df['health'].notna()]\n",
        "tree_df = tree_df.dropna(how='any')"
      ]
    },
    {
      "cell_type": "code",
      "execution_count": 73,
      "id": "18ad8832",
      "metadata": {
        "id": "18ad8832"
      },
      "outputs": [],
      "source": [
        "# scale diameters (only continuos numerical feature left)\n",
        "scaler = StandardScaler()\n",
        "tree_df['tree_dbh'] = scaler.fit_transform(tree_df[['tree_dbh']])"
      ]
    },
    {
      "cell_type": "code",
      "execution_count": 74,
      "id": "0d2275be",
      "metadata": {
        "id": "0d2275be"
      },
      "outputs": [],
      "source": [
        "# Ordinal Encode (categorical hierarchal features)\n",
        "health = ['Poor', 'Fair', 'Good']\n",
        "enc = OrdinalEncoder(categories=[health])\n",
        "tree_df['health'] = enc.fit_transform(tree_df[['health']])\n",
        "\n",
        "steward = ['None', '1or2', '3or4', '4orMore']\n",
        "enc = OrdinalEncoder(categories=[steward])\n",
        "tree_df['steward'] = enc.fit_transform(tree_df[['steward']])\n",
        "\n",
        "sidewalk = ['NoDamage', 'Damage']\n",
        "enc = OrdinalEncoder(categories=[sidewalk])\n",
        "tree_df['sidewalk'] = enc.fit_transform(tree_df[['sidewalk']])\n",
        "\n",
        "curbloc = ['OnCurb', 'OffsetFromCurb']\n",
        "enc = OrdinalEncoder(categories=[curbloc])\n",
        "tree_df['curb_loc'] = enc.fit_transform(tree_df[['curb_loc']])\n",
        "\n",
        "yes_no = ['No', 'Yes']\n",
        "enc = OrdinalEncoder(categories=[yes_no])\n",
        "\n",
        "yes_no_features = [\n",
        "    'brch_other', 'brch_shoe', 'brch_light', 'trnk_other', 'trnk_light',\n",
        "    'trunk_wire', 'root_other', 'root_grate', 'root_stone'\n",
        "]\n",
        "\n",
        "for feat in yes_no_features:\n",
        "    tree_df[feat] = enc.fit_transform(tree_df[[feat]])\n",
        "    \n",
        "# One Hot Encode (non-hierarchal categorical features)\n",
        "enc = OneHotEncoder()\n",
        "guards = enc.fit_transform(tree_df[['guards']])\n",
        "tree_df['guards_' + enc.categories_[0][:]] = guards.toarray()\n",
        "tree_df = tree_df.drop(columns=['guards'])\n",
        "\n",
        "guards = enc.fit_transform(tree_df[['borough']])\n",
        "tree_df['borough_' + enc.categories_[0][:]] = guards.toarray()\n",
        "tree_df = tree_df.drop(columns=['borough'])"
      ]
    },
    {
      "cell_type": "code",
      "execution_count": 75,
      "id": "23fba5d6",
      "metadata": {
        "id": "23fba5d6"
      },
      "outputs": [],
      "source": [
        "# split to x and y sets\n",
        "y = np.asarray(tree_df['health'])\n",
        "x = tree_df.drop(columns=['health'])"
      ]
    },
    {
      "cell_type": "code",
      "execution_count": 76,
      "id": "06a602a5",
      "metadata": {
        "id": "06a602a5"
      },
      "outputs": [],
      "source": [
        "# random sample (stratified) for dev, test, train and val\n",
        "x_dev, x_test, y_dev, y_test = train_test_split(x, y, test_size=0.2, random_state=42, stratify = y)\n",
        "x_train, x_val, y_train, y_val = train_test_split(x_dev, y_dev, test_size=0.2, random_state=42, stratify = y_dev)"
      ]
    },
    {
      "cell_type": "code",
      "execution_count": 77,
      "id": "df78bb2f",
      "metadata": {
        "id": "df78bb2f"
      },
      "outputs": [],
      "source": [
        "# over-sampling of training data\n",
        "ros = RandomOverSampler(random_state=42)\n",
        "x_ros, y_ros = ros.fit_resample(x_train, y_train)"
      ]
    },
    {
      "cell_type": "code",
      "execution_count": 78,
      "id": "dbc51372",
      "metadata": {
        "id": "dbc51372"
      },
      "outputs": [],
      "source": [
        "# under sampling of training data\n",
        "rus = RandomUnderSampler(random_state=42)\n",
        "x_rus, y_rus = rus.fit_resample(x_train, y_train)"
      ]
    },
    {
      "cell_type": "code",
      "execution_count": 79,
      "id": "045fcb15",
      "metadata": {
        "id": "045fcb15"
      },
      "outputs": [],
      "source": [
        "# smote sampling of training data\n",
        "smote = SMOTE(random_state=42)\n",
        "x_smote, y_smote = smote.fit_resample(x_train, y_train)"
      ]
    },
    {
      "cell_type": "markdown",
      "id": "273fcf2c",
      "metadata": {
        "id": "273fcf2c"
      },
      "source": [
        "## Decision Tree"
      ]
    },
    {
      "cell_type": "code",
      "execution_count": 80,
      "id": "37e07102",
      "metadata": {
        "id": "37e07102"
      },
      "outputs": [],
      "source": [
        "# function to evaluate the model\n",
        "\n",
        "def model_result(model, x_train, y_train, x_test, y_test):\n",
        "    model.fit(x_train, y_train)\n",
        "    # confusion_matrix\n",
        "    cf = confusion_matrix(y_test, model.predict(x_test))\n",
        "    sns.heatmap(cf, annot = True, fmt = 'g')\n",
        "    plt.show()\n",
        "    # result plot\n",
        "    print(classification_report(y_test, model.predict(x_test)))"
      ]
    },
    {
      "cell_type": "code",
      "execution_count": 81,
      "id": "452073fd",
      "metadata": {
        "id": "452073fd"
      },
      "outputs": [],
      "source": [
        "# function to fit and tune the model\n",
        "def dt_select(x_train,y_train,score):\n",
        "    # possible values for the model to be tuned on\n",
        "    param_grid = {\n",
        "        'max_depth': [4,8,10,12,15,20],\n",
        "        'min_samples_split': np.linspace(0.1, 0.3, 3, endpoint=True),\n",
        "        \"max_features\":[\"log2\",\"sqrt\",None],\n",
        "        \"max_leaf_nodes\": [None,10,20,30],\n",
        "        'ccp_alpha' : np.logspace(-6, -4, 3)\n",
        "    }\n",
        "    \n",
        "    # create a base model\n",
        "    dt = DecisionTreeClassifier(random_state=100)\n",
        "\n",
        "    # initantiate the random search model based on parameters defined above\n",
        "    randomized_search = RandomizedSearchCV(estimator = dt, param_distributions = param_grid, scoring=score,cv=5,random_state=100)\n",
        "\n",
        "    randomized_model=randomized_search.fit(x_train,y_train)\n",
        "    return randomized_model"
      ]
    },
    {
      "cell_type": "code",
      "source": [
        "\n",
        "#plot feature importance\n",
        "\n",
        "def feature_importance(x_train, model):\n",
        "  features = x_train.columns.values\n",
        "  plt.figure(figsize = (12, 6))\n",
        "  feat_imps = zip(features, model.best_estimator_.feature_importances_)\n",
        "  feats,imps = zip(*(sorted(list(filter(lambda x: x[1] != 0 , feat_imps)), key=lambda x: x[1], reverse=True)))\n",
        "  ax = sns.barplot(x = list(feats), y = list(imps))\n",
        "  ax.tick_params(axis = 'x', rotation = 90)"
      ],
      "metadata": {
        "id": "sPdAbChh4qZ5"
      },
      "id": "sPdAbChh4qZ5",
      "execution_count": 97,
      "outputs": []
    },
    {
      "cell_type": "markdown",
      "source": [
        "# random stratified sampling"
      ],
      "metadata": {
        "id": "CrV5VVDVlNFy"
      },
      "id": "CrV5VVDVlNFy"
    },
    {
      "cell_type": "code",
      "source": [
        "\n",
        "# accuracy as scoring metric\n",
        "random_best = dt_select(x_train,y_train,'accuracy')\n",
        "print(\"optimal hyperparameters\",random_best.best_params_)\n",
        "print(\"optimal score\", random_best.best_score_)\n",
        "print(\"test score\",random_best.score(x_test,y_test))\n",
        "\n",
        "#recall as metric for hyperparamter tuning\n",
        "model_result(random_best, x_train, y_train, x_test, y_test)"
      ],
      "metadata": {
        "colab": {
          "base_uri": "https://localhost:8080/",
          "height": 491
        },
        "id": "6D4tiywobucY",
        "outputId": "f3d9c45c-a2f4-4581-9986-978de1a973ef"
      },
      "id": "6D4tiywobucY",
      "execution_count": 82,
      "outputs": [
        {
          "output_type": "stream",
          "name": "stdout",
          "text": [
            "optimal hyperparameters {'min_samples_split': 0.2, 'max_leaf_nodes': None, 'max_features': None, 'max_depth': 12, 'ccp_alpha': 1e-06}\n",
            "optimal score 0.8109073571767318\n",
            "test score 0.8109081987825261\n"
          ]
        },
        {
          "output_type": "display_data",
          "data": {
            "text/plain": [
              "<Figure size 432x288 with 2 Axes>"
            ],
            "image/png": "[encoded data removed]"
          },
          "metadata": {
            "needs_background": "light"
          }
        },
        {
          "output_type": "stream",
          "name": "stdout",
          "text": [
            "              precision    recall  f1-score   support\n",
            "\n",
            "         0.0       0.00      0.00      0.00      5363\n",
            "         1.0       0.00      0.00      0.00     19301\n",
            "         2.0       0.81      1.00      0.90    105770\n",
            "\n",
            "    accuracy                           0.81    130434\n",
            "   macro avg       0.27      0.33      0.30    130434\n",
            "weighted avg       0.66      0.81      0.73    130434\n",
            "\n"
          ]
        }
      ]
    },
    {
      "cell_type": "code",
      "execution_count": 83,
      "id": "0ff88a99",
      "metadata": {
        "colab": {
          "base_uri": "https://localhost:8080/",
          "height": 491
        },
        "id": "0ff88a99",
        "outputId": "2bb5e64d-9274-47d4-ec82-ffd2d2e350f6"
      },
      "outputs": [
        {
          "output_type": "stream",
          "name": "stdout",
          "text": [
            "optimal hyperparameters {'min_samples_split': 0.2, 'max_leaf_nodes': None, 'max_features': None, 'max_depth': 12, 'ccp_alpha': 1e-06}\n",
            "optimal score 0.3333333333333333\n",
            "test score 0.3333333333333333\n"
          ]
        },
        {
          "output_type": "display_data",
          "data": {
            "text/plain": [
              "<Figure size 432x288 with 2 Axes>"
            ],
            "image/png": "[encoded data removed]"
          },
          "metadata": {
            "needs_background": "light"
          }
        },
        {
          "output_type": "stream",
          "name": "stdout",
          "text": [
            "              precision    recall  f1-score   support\n",
            "\n",
            "         0.0       0.00      0.00      0.00      5363\n",
            "         1.0       0.00      0.00      0.00     19301\n",
            "         2.0       0.81      1.00      0.90    105770\n",
            "\n",
            "    accuracy                           0.81    130434\n",
            "   macro avg       0.27      0.33      0.30    130434\n",
            "weighted avg       0.66      0.81      0.73    130434\n",
            "\n"
          ]
        }
      ],
      "source": [
        "# random stratified sampling\n",
        "# recall as scoring metric\n",
        "random_best = dt_select(x_train,y_train,'recall_macro')\n",
        "print(\"optimal hyperparameters\",random_best.best_params_)\n",
        "print(\"optimal score\", random_best.best_score_)\n",
        "print(\"test score\",random_best.score(x_test,y_test))\n",
        "\n",
        "#recall as metric for hyperparamter tuning\n",
        "model_result(random_best, x_train, y_train, x_test, y_test)\n",
        "\n"
      ]
    },
    {
      "cell_type": "code",
      "source": [
        "#f1 as scoring metric\n",
        "random_best = dt_select(x_train,y_train,'f1_macro')\n",
        "print(\"optimal hyperparameters\",random_best.best_params_)\n",
        "print(\"optimal f1 score\", random_best.best_score_)\n",
        "print(\"test f1 score\",random_best.score(x_test,y_test))\n",
        "#f1 as metric for hyperparamter tuning\n",
        "model_result(random_best, x_train, y_train, x_test, y_test)"
      ],
      "metadata": {
        "colab": {
          "base_uri": "https://localhost:8080/",
          "height": 491
        },
        "id": "vieNtozt86qo",
        "outputId": "7f0fb22e-91fc-40ef-867f-569dd8ed2cbf"
      },
      "id": "vieNtozt86qo",
      "execution_count": 84,
      "outputs": [
        {
          "output_type": "stream",
          "name": "stdout",
          "text": [
            "optimal hyperparameters {'min_samples_split': 0.2, 'max_leaf_nodes': None, 'max_features': None, 'max_depth': 12, 'ccp_alpha': 1e-06}\n",
            "optimal f1 score 0.29852709065529426\n",
            "test f1 score 0.2985272617454969\n"
          ]
        },
        {
          "output_type": "display_data",
          "data": {
            "text/plain": [
              "<Figure size 432x288 with 2 Axes>"
            ],
            "image/png": "[encoded data removed]"
          },
          "metadata": {
            "needs_background": "light"
          }
        },
        {
          "output_type": "stream",
          "name": "stdout",
          "text": [
            "              precision    recall  f1-score   support\n",
            "\n",
            "         0.0       0.00      0.00      0.00      5363\n",
            "         1.0       0.00      0.00      0.00     19301\n",
            "         2.0       0.81      1.00      0.90    105770\n",
            "\n",
            "    accuracy                           0.81    130434\n",
            "   macro avg       0.27      0.33      0.30    130434\n",
            "weighted avg       0.66      0.81      0.73    130434\n",
            "\n"
          ]
        }
      ]
    },
    {
      "cell_type": "markdown",
      "source": [
        "# random over sampling"
      ],
      "metadata": {
        "id": "xz4sQD11lE99"
      },
      "id": "xz4sQD11lE99"
    },
    {
      "cell_type": "code",
      "source": [
        "\n",
        "# recall as scoring metric\n",
        "over_best_recall = dt_select(x_ros, y_ros,'recall_macro')\n",
        "print(\"optimal hyperparameters\",over_best_recall.best_params_)\n",
        "print(\"optimal score\", over_best_recall.best_score_)\n",
        "print(\"test score\",over_best_recall.score(x_test,y_test))\n",
        "\n",
        "# recallmacro as metric for hyperparamter tuning\n",
        "model_result(over_best_recall, x_ros, y_ros, x_test, y_test)"
      ],
      "metadata": {
        "colab": {
          "base_uri": "https://localhost:8080/",
          "height": 491
        },
        "id": "Ho1fuUdqpo3D",
        "outputId": "d9401703-48e8-4dfe-d4c7-de3c78afb09a"
      },
      "id": "Ho1fuUdqpo3D",
      "execution_count": 85,
      "outputs": [
        {
          "output_type": "stream",
          "name": "stdout",
          "text": [
            "optimal hyperparameters {'min_samples_split': 0.1, 'max_leaf_nodes': None, 'max_features': None, 'max_depth': 20, 'ccp_alpha': 1e-05}\n",
            "optimal score 0.42521139435335636\n",
            "test score 0.4216232268146592\n"
          ]
        },
        {
          "output_type": "display_data",
          "data": {
            "text/plain": [
              "<Figure size 432x288 with 2 Axes>"
            ],
            "image/png": "[encoded data removed]"
          },
          "metadata": {
            "needs_background": "light"
          }
        },
        {
          "output_type": "stream",
          "name": "stdout",
          "text": [
            "              precision    recall  f1-score   support\n",
            "\n",
            "         0.0       0.07      0.49      0.12      5363\n",
            "         1.0       0.19      0.15      0.17     19301\n",
            "         2.0       0.85      0.63      0.72    105770\n",
            "\n",
            "    accuracy                           0.55    130434\n",
            "   macro avg       0.37      0.42      0.34    130434\n",
            "weighted avg       0.72      0.55      0.62    130434\n",
            "\n"
          ]
        }
      ]
    },
    {
      "cell_type": "code",
      "source": [
        "# accuracy as score metric\n",
        "over_best_acc = dt_select(x_ros, y_ros,'accuracy')\n",
        "print(\"optimal hyperparameters\",over_best_acc.best_params_)\n",
        "print(\"optimal accuracy score\", over_best_acc.best_score_)\n",
        "print(\"test accuracy\",over_best_acc.score(x_test,y_test))\n",
        "\n",
        "# as metric for hyperparamter tuning\n",
        "model_result(over_best_acc, x_ros, y_ros, x_test, y_test)"
      ],
      "metadata": {
        "colab": {
          "base_uri": "https://localhost:8080/",
          "height": 491
        },
        "id": "lWd7mX4ydrp1",
        "outputId": "8d5b13e5-78a6-4e8c-ba8f-22b745615c34"
      },
      "id": "lWd7mX4ydrp1",
      "execution_count": 86,
      "outputs": [
        {
          "output_type": "stream",
          "name": "stdout",
          "text": [
            "optimal hyperparameters {'min_samples_split': 0.1, 'max_leaf_nodes': None, 'max_features': None, 'max_depth': 20, 'ccp_alpha': 1e-05}\n",
            "optimal accuracy score 0.4252114213595847\n",
            "test accuracy 0.552677982734563\n"
          ]
        },
        {
          "output_type": "display_data",
          "data": {
            "text/plain": [
              "<Figure size 432x288 with 2 Axes>"
            ],
            "image/png": "[encoded data removed]"
          },
          "metadata": {
            "needs_background": "light"
          }
        },
        {
          "output_type": "stream",
          "name": "stdout",
          "text": [
            "              precision    recall  f1-score   support\n",
            "\n",
            "         0.0       0.07      0.49      0.12      5363\n",
            "         1.0       0.19      0.15      0.17     19301\n",
            "         2.0       0.85      0.63      0.72    105770\n",
            "\n",
            "    accuracy                           0.55    130434\n",
            "   macro avg       0.37      0.42      0.34    130434\n",
            "weighted avg       0.72      0.55      0.62    130434\n",
            "\n"
          ]
        }
      ]
    },
    {
      "cell_type": "code",
      "source": [
        "# f1 as score metric\n",
        "over_best_f1 = dt_select(x_ros, y_ros,'f1_macro')\n",
        "print(\"optimal hyperparameters\",over_best_f1.best_params_)\n",
        "print(\"optimal f1 score\", over_best_f1.best_score_)\n",
        "print(\"test f1 score\",over_best_f1.score(x_test,y_test))\n",
        "\n",
        "#f1 as metric for hyperparamter tuning\n",
        "model_result(over_best_f1, x_ros, y_ros, x_test, y_test)"
      ],
      "metadata": {
        "colab": {
          "base_uri": "https://localhost:8080/",
          "height": 491
        },
        "id": "RYNneMIuc_Ix",
        "outputId": "e6d001e6-54d5-4435-e30a-0adcca44f5cc"
      },
      "id": "RYNneMIuc_Ix",
      "execution_count": 87,
      "outputs": [
        {
          "output_type": "stream",
          "name": "stdout",
          "text": [
            "optimal hyperparameters {'min_samples_split': 0.2, 'max_leaf_nodes': None, 'max_features': None, 'max_depth': 12, 'ccp_alpha': 1e-06}\n",
            "optimal f1 score 0.40025096917702496\n",
            "test f1 score 0.3201379887339995\n"
          ]
        },
        {
          "output_type": "display_data",
          "data": {
            "text/plain": [
              "<Figure size 432x288 with 2 Axes>"
            ],
            "image/png": "[encoded data removed]"
          },
          "metadata": {
            "needs_background": "light"
          }
        },
        {
          "output_type": "stream",
          "name": "stdout",
          "text": [
            "              precision    recall  f1-score   support\n",
            "\n",
            "         0.0       0.07      0.47      0.12      5363\n",
            "         1.0       0.16      0.26      0.20     19301\n",
            "         2.0       0.85      0.51      0.64    105770\n",
            "\n",
            "    accuracy                           0.47    130434\n",
            "   macro avg       0.36      0.41      0.32    130434\n",
            "weighted avg       0.72      0.47      0.55    130434\n",
            "\n"
          ]
        }
      ]
    },
    {
      "cell_type": "markdown",
      "source": [
        "# random under sampling"
      ],
      "metadata": {
        "id": "4Drp3wnRlbmm"
      },
      "id": "4Drp3wnRlbmm"
    },
    {
      "cell_type": "code",
      "source": [
        "# random under sampling\n",
        "# accuracy as scoring metric\n",
        "\n",
        "under_best_acc = dt_select(x_rus, y_rus,'accuracy')\n",
        "print(\"optimal hyperparameters\",under_best_acc.best_params_)\n",
        "print(\"optimal accuracy score\", under_best_acc.best_score_)\n",
        "print(\"test accuracy score\",under_best_acc.score(x_test,y_test))\n",
        "# accuracy as metric for hyperparamter pruning\n",
        "model_result(under_best_acc, x_rus, y_rus, x_test, y_test)"
      ],
      "metadata": {
        "colab": {
          "base_uri": "https://localhost:8080/",
          "height": 494
        },
        "id": "Q7piVgS6e3sa",
        "outputId": "a6247cac-37a6-48eb-c9c6-52984ae81491"
      },
      "id": "Q7piVgS6e3sa",
      "execution_count": 88,
      "outputs": [
        {
          "output_type": "stream",
          "name": "stdout",
          "text": [
            "optimal hyperparameters {'min_samples_split': 0.1, 'max_leaf_nodes': None, 'max_features': None, 'max_depth': 20, 'ccp_alpha': 1e-05}\n",
            "optimal accuracy score 0.42282814886132025\n",
            "test accuracy score 0.5130334115338026\n"
          ]
        },
        {
          "output_type": "display_data",
          "data": {
            "text/plain": [
              "<Figure size 432x288 with 2 Axes>"
            ],
            "image/png": "[encoded data removed]"
          },
          "metadata": {
            "needs_background": "light"
          }
        },
        {
          "output_type": "stream",
          "name": "stdout",
          "text": [
            "              precision    recall  f1-score   support\n",
            "\n",
            "         0.0       0.07      0.49      0.12      5363\n",
            "         1.0       0.17      0.20      0.18     19301\n",
            "         2.0       0.85      0.57      0.68    105770\n",
            "\n",
            "    accuracy                           0.51    130434\n",
            "   macro avg       0.36      0.42      0.33    130434\n",
            "weighted avg       0.72      0.51      0.59    130434\n",
            "\n"
          ]
        }
      ]
    },
    {
      "cell_type": "code",
      "execution_count": 89,
      "id": "7946bf4c",
      "metadata": {
        "colab": {
          "base_uri": "https://localhost:8080/",
          "height": 494
        },
        "id": "7946bf4c",
        "outputId": "f13abea2-354a-460e-f6b2-b8125a348126"
      },
      "outputs": [
        {
          "output_type": "stream",
          "name": "stdout",
          "text": [
            "optimal hyperparameters {'min_samples_split': 0.1, 'max_leaf_nodes': None, 'max_features': None, 'max_depth': 20, 'ccp_alpha': 1e-05}\n",
            "optimal recall score 0.4228293714894356\n",
            "test recall score 0.4202120521676436\n"
          ]
        },
        {
          "output_type": "display_data",
          "data": {
            "text/plain": [
              "<Figure size 432x288 with 2 Axes>"
            ],
            "image/png": "[encoded data removed]"
          },
          "metadata": {
            "needs_background": "light"
          }
        },
        {
          "output_type": "stream",
          "name": "stdout",
          "text": [
            "              precision    recall  f1-score   support\n",
            "\n",
            "         0.0       0.07      0.49      0.12      5363\n",
            "         1.0       0.17      0.20      0.18     19301\n",
            "         2.0       0.85      0.57      0.68    105770\n",
            "\n",
            "    accuracy                           0.51    130434\n",
            "   macro avg       0.36      0.42      0.33    130434\n",
            "weighted avg       0.72      0.51      0.59    130434\n",
            "\n"
          ]
        }
      ],
      "source": [
        "\n",
        "# recall as scoring metric\n",
        "under_best_recall = dt_select(x_rus, y_rus,'recall_macro')\n",
        "print(\"optimal hyperparameters\",under_best_recall.best_params_)\n",
        "print(\"optimal recall score\", under_best_recall.best_score_)\n",
        "print(\"test recall score\",under_best_recall.score(x_test,y_test))\n",
        "\n",
        "# recall as metric for hyperparamter tuning\n",
        "model_result(under_best_recall, x_rus, y_rus, x_test, y_test)\n",
        "\n"
      ]
    },
    {
      "cell_type": "code",
      "source": [
        "feature_importance(x_rus, under_best_recall)"
      ],
      "metadata": {
        "colab": {
          "base_uri": "https://localhost:8080/",
          "height": 450
        },
        "id": "L5b4z2FJ47is",
        "outputId": "d5a91026-6769-4b9f-e9d3-ac089e2140d6"
      },
      "id": "L5b4z2FJ47is",
      "execution_count": 98,
      "outputs": [
        {
          "output_type": "display_data",
          "data": {
            "text/plain": [
              "<Figure size 864x432 with 1 Axes>"
            ],
            "image/png": "[encoded data removed]"
          },
          "metadata": {
            "needs_background": "light"
          }
        }
      ]
    },
    {
      "cell_type": "code",
      "source": [
        "# f1 as score metric\n",
        "under_best_f1 = dt_select(x_rus, y_rus,'f1_macro')\n",
        "print(\"optimal hyperparameters\",under_best_f1.best_params_)\n",
        "print(\"optimal f1 score\", under_best_f1.best_score_)\n",
        "print(\"test f1 score\",under_best_f1.score(x_test,y_test))\n",
        "# f1 as metric for hyperparamter pruning\n",
        "model_result(under_best_f1, x_rus, y_rus, x_test, y_test)"
      ],
      "metadata": {
        "colab": {
          "base_uri": "https://localhost:8080/",
          "height": 494
        },
        "id": "9NOvU47SePvG",
        "outputId": "732b1e59-a608-420b-b8d8-796dd83f7d0c"
      },
      "id": "9NOvU47SePvG",
      "execution_count": 90,
      "outputs": [
        {
          "output_type": "stream",
          "name": "stdout",
          "text": [
            "optimal hyperparameters {'min_samples_split': 0.1, 'max_leaf_nodes': None, 'max_features': None, 'max_depth': 20, 'ccp_alpha': 1e-05}\n",
            "optimal f1 score 0.4097896911316369\n",
            "test f1 score 0.3311391234276632\n"
          ]
        },
        {
          "output_type": "display_data",
          "data": {
            "text/plain": [
              "<Figure size 432x288 with 2 Axes>"
            ],
            "image/png": "[encoded data removed]"
          },
          "metadata": {
            "needs_background": "light"
          }
        },
        {
          "output_type": "stream",
          "name": "stdout",
          "text": [
            "              precision    recall  f1-score   support\n",
            "\n",
            "         0.0       0.07      0.49      0.12      5363\n",
            "         1.0       0.17      0.20      0.18     19301\n",
            "         2.0       0.85      0.57      0.68    105770\n",
            "\n",
            "    accuracy                           0.51    130434\n",
            "   macro avg       0.36      0.42      0.33    130434\n",
            "weighted avg       0.72      0.51      0.59    130434\n",
            "\n"
          ]
        }
      ]
    },
    {
      "cell_type": "markdown",
      "source": [
        "# smote sampling"
      ],
      "metadata": {
        "id": "kDEc_pfGlgRB"
      },
      "id": "kDEc_pfGlgRB"
    },
    {
      "cell_type": "code",
      "source": [
        "\n",
        "# recall as metric\n",
        "smote_best = dt_select(x_smote, y_smote,\"recall_macro\")\n",
        "print(\"optimal hyperparameters\",smote_best.best_params_)\n",
        "print(\"optimal recall score\", smote_best.best_score_)\n",
        "print(\"test recall score\",smote_best.score(x_test,y_test))\n",
        "\n",
        "#recall as metric for hyperparamter pruning\n",
        "model_result(smote_best, x_smote, y_smote, x_test, y_test)"
      ],
      "metadata": {
        "colab": {
          "base_uri": "https://localhost:8080/",
          "height": 491
        },
        "id": "qw1iLp8lidPG",
        "outputId": "390401c2-d86c-4e96-8c2a-3062c111f656"
      },
      "id": "qw1iLp8lidPG",
      "execution_count": 91,
      "outputs": [
        {
          "output_type": "stream",
          "name": "stdout",
          "text": [
            "optimal hyperparameters {'min_samples_split': 0.1, 'max_leaf_nodes': None, 'max_features': None, 'max_depth': 20, 'ccp_alpha': 1e-05}\n",
            "optimal recall score 0.42784390717769993\n",
            "test recall score 0.41559624496818587\n"
          ]
        },
        {
          "output_type": "display_data",
          "data": {
            "text/plain": [
              "<Figure size 432x288 with 2 Axes>"
            ],
            "image/png": "[encoded data removed]"
          },
          "metadata": {
            "needs_background": "light"
          }
        },
        {
          "output_type": "stream",
          "name": "stdout",
          "text": [
            "              precision    recall  f1-score   support\n",
            "\n",
            "         0.0       0.07      0.46      0.12      5363\n",
            "         1.0       0.17      0.19      0.18     19301\n",
            "         2.0       0.85      0.60      0.70    105770\n",
            "\n",
            "    accuracy                           0.53    130434\n",
            "   macro avg       0.36      0.42      0.34    130434\n",
            "weighted avg       0.72      0.53      0.60    130434\n",
            "\n"
          ]
        }
      ]
    },
    {
      "cell_type": "code",
      "source": [
        "# accuracy as metric\n",
        "smote_best_acc = dt_select(x_smote, y_smote,\"accuracy\")\n",
        "print(\"optimal hyperparameters\",smote_best_acc.best_params_)\n",
        "print(\"optimal score\", smote_best_acc.best_score_)\n",
        "print(\"test score\",smote_best_acc.score(x_test,y_test))\n",
        "\n",
        "#accuracy as metric for hyperparamter pruning\n",
        "model_result(smote_best_acc, x_smote, y_smote, x_test, y_test)"
      ],
      "metadata": {
        "colab": {
          "base_uri": "https://localhost:8080/",
          "height": 491
        },
        "id": "UwskefVffcyf",
        "outputId": "e1bb6ac0-7c77-4ce7-e680-dc9a14b4deb4"
      },
      "id": "UwskefVffcyf",
      "execution_count": 92,
      "outputs": [
        {
          "output_type": "stream",
          "name": "stdout",
          "text": [
            "optimal hyperparameters {'min_samples_split': 0.1, 'max_leaf_nodes': None, 'max_features': None, 'max_depth': 20, 'ccp_alpha': 1e-05}\n",
            "optimal score 0.427843910192804\n",
            "test score 0.5342548721958998\n"
          ]
        },
        {
          "output_type": "display_data",
          "data": {
            "text/plain": [
              "<Figure size 432x288 with 2 Axes>"
            ],
            "image/png": "[encoded data removed]"
          },
          "metadata": {
            "needs_background": "light"
          }
        },
        {
          "output_type": "stream",
          "name": "stdout",
          "text": [
            "              precision    recall  f1-score   support\n",
            "\n",
            "         0.0       0.07      0.46      0.12      5363\n",
            "         1.0       0.17      0.19      0.18     19301\n",
            "         2.0       0.85      0.60      0.70    105770\n",
            "\n",
            "    accuracy                           0.53    130434\n",
            "   macro avg       0.36      0.42      0.34    130434\n",
            "weighted avg       0.72      0.53      0.60    130434\n",
            "\n"
          ]
        }
      ]
    },
    {
      "cell_type": "code",
      "execution_count": 93,
      "id": "632b22bd",
      "metadata": {
        "colab": {
          "base_uri": "https://localhost:8080/",
          "height": 491
        },
        "id": "632b22bd",
        "outputId": "580becfc-5616-423c-fb1c-5d5f6db0bfd8"
      },
      "outputs": [
        {
          "output_type": "stream",
          "name": "stdout",
          "text": [
            "optimal hyperparameters {'min_samples_split': 0.1, 'max_leaf_nodes': None, 'max_features': None, 'max_depth': 20, 'ccp_alpha': 1e-05}\n",
            "optimal f1 score 0.4084079737595042\n",
            "test f1 score 0.33512061923807873\n"
          ]
        },
        {
          "output_type": "display_data",
          "data": {
            "text/plain": [
              "<Figure size 432x288 with 2 Axes>"
            ],
            "image/png": "[encoded data removed]"
          },
          "metadata": {
            "needs_background": "light"
          }
        },
        {
          "output_type": "stream",
          "name": "stdout",
          "text": [
            "              precision    recall  f1-score   support\n",
            "\n",
            "         0.0       0.07      0.46      0.12      5363\n",
            "         1.0       0.17      0.19      0.18     19301\n",
            "         2.0       0.85      0.60      0.70    105770\n",
            "\n",
            "    accuracy                           0.53    130434\n",
            "   macro avg       0.36      0.42      0.34    130434\n",
            "weighted avg       0.72      0.53      0.60    130434\n",
            "\n"
          ]
        }
      ],
      "source": [
        "# f1 sccore as metric\n",
        "smote_best_f1 = dt_select(x_smote, y_smote,'f1_macro')\n",
        "print(\"optimal hyperparameters\",smote_best_f1.best_params_)\n",
        "print(\"optimal f1 score\", smote_best_f1.best_score_)\n",
        "print(\"test f1 score\",smote_best_f1.score(x_test,y_test))\n",
        "# f1 as metric for hyperparamter pruning\n",
        "model_result(smote_best_f1, x_smote, y_smote, x_test, y_test)\n",
        "\n"
      ]
    },
    {
      "cell_type": "markdown",
      "source": [
        "overall, recall as a scoring metric for tunning is best for predicting bad and fair trees well.\n",
        "\n",
        "under sampling is best in having highest recall in poor and fair trees, which means have highest rate in predicting correct poor and fair trees."
      ],
      "metadata": {
        "id": "JfgVcmm7BKCm"
      },
      "id": "JfgVcmm7BKCm"
    }
  ],
  "metadata": {
    "kernelspec": {
      "display_name": "Python 3 (ipykernel)",
      "language": "python",
      "name": "python3"
    },
    "language_info": {
      "codemirror_mode": {
        "name": "ipython",
        "version": 3
      },
      "file_extension": ".py",
      "mimetype": "text/x-python",
      "name": "python",
      "nbconvert_exporter": "python",
      "pygments_lexer": "ipython3",
      "version": "3.9.12"
    },
    "colab": {
      "provenance": []
    },
    "accelerator": "GPU",
    "gpuClass": "standard"
  },
  "nbformat": 4,
  "nbformat_minor": 5
}