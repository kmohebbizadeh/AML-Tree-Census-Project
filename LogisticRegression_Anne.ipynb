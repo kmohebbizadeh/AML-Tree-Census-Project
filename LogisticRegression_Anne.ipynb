{
 "cells": [
  {
   "cell_type": "markdown",
   "source": [
    "# Preprocessing"
   ],
   "metadata": {}
  },
  {
   "cell_type": "code",
   "execution_count": 53,
   "source": [
    "# import libraries\n",
    "import numpy as np\n",
    "import pandas as pd\n",
    "from sklearn.preprocessing import OrdinalEncoder, OneHotEncoder, StandardScaler\n",
    "from sklearn.model_selection import train_test_split\n",
    "from imblearn.over_sampling import RandomOverSampler, SMOTE\n",
    "from imblearn.under_sampling import RandomUnderSampler"
   ],
   "outputs": [],
   "metadata": {}
  },
  {
   "cell_type": "code",
   "execution_count": 54,
   "source": [
    "# load in data with relative path\n",
    "tree_df = pd.read_csv('2015_Street_Tree_Census_-_Tree_Data.csv')"
   ],
   "outputs": [],
   "metadata": {}
  },
  {
   "cell_type": "code",
   "execution_count": 55,
   "source": [
    "# drop columns\n",
    "tree_df = tree_df.drop(columns=[\n",
    "    'borocode', 'x_sp', 'y_sp', 'state', 'nta_name', 'zip_city', 'address',\n",
    "    'spc_latin', 'created_at', 'tree_id', 'block_id', 'user_type', 'bin',\n",
    "    'bbl', 'council district', 'boro_ct', 'census tract', 'problems', 'status',\n",
    "    'stump_diam', 'postcode', 'community board', 'cncldist', 'st_assem', 'st_senate', \n",
    "    'nta', 'spc_common'\n",
    "])\n",
    "\n",
    "# drop NA and dead tree values\n",
    "tree_df = tree_df[tree_df['health'].notna()]\n",
    "tree_df = tree_df.dropna(how='any')"
   ],
   "outputs": [],
   "metadata": {}
  },
  {
   "cell_type": "code",
   "execution_count": 56,
   "source": [
    "# scale diameters \n",
    "scaler = StandardScaler()\n",
    "tree_df['tree_dbh'] = scaler.fit_transform(tree_df[['tree_dbh']])\n",
    "\n",
    "# Ordinal Encode\n",
    "health = ['Poor', 'Fair', 'Good']\n",
    "enc = OrdinalEncoder(categories=[health])\n",
    "tree_df['health'] = enc.fit_transform(tree_df[['health']])\n",
    "\n",
    "steward = ['None', '1or2', '3or4', '4orMore']\n",
    "enc = OrdinalEncoder(categories=[steward])\n",
    "tree_df['steward'] = enc.fit_transform(tree_df[['steward']])\n",
    "\n",
    "sidewalk = ['NoDamage', 'Damage']\n",
    "enc = OrdinalEncoder(categories=[sidewalk])\n",
    "tree_df['sidewalk'] = enc.fit_transform(tree_df[['sidewalk']])\n",
    "\n",
    "curbloc = ['OnCurb', 'OffsetFromCurb']\n",
    "enc = OrdinalEncoder(categories=[curbloc])\n",
    "tree_df['curb_loc'] = enc.fit_transform(tree_df[['curb_loc']])\n",
    "\n",
    "yes_no = ['No', 'Yes']\n",
    "enc = OrdinalEncoder(categories=[yes_no])\n",
    "\n",
    "yes_no_features = [\n",
    "    'brch_other', 'brch_shoe', 'brch_light', 'trnk_other', 'trnk_light',\n",
    "    'trunk_wire', 'root_other', 'root_grate', 'root_stone'\n",
    "]\n",
    "\n",
    "for feat in yes_no_features:\n",
    "    tree_df[feat] = enc.fit_transform(tree_df[[feat]])\n",
    "    \n",
    "# One Hot Encode\n",
    "enc = OneHotEncoder()\n",
    "guards = enc.fit_transform(tree_df[['guards']])\n",
    "tree_df['guards_' + enc.categories_[0][:]] = guards.toarray()\n",
    "tree_df = tree_df.drop(columns=['guards'])\n",
    "\n",
    "guards = enc.fit_transform(tree_df[['borough']])\n",
    "tree_df['borough_' + enc.categories_[0][:]] = guards.toarray()\n",
    "tree_df = tree_df.drop(columns=['borough'])"
   ],
   "outputs": [],
   "metadata": {}
  },
  {
   "cell_type": "code",
   "execution_count": 57,
   "source": [
    "# split to x and y sets\n",
    "y = np.asarray(tree_df['health'])\n",
    "x = tree_df.drop(columns=['health'])"
   ],
   "outputs": [],
   "metadata": {}
  },
  {
   "cell_type": "code",
   "execution_count": 58,
   "source": [
    "# random sample (stratified) for dev, test, train and val\n",
    "x_dev, x_test, y_dev, y_test = train_test_split(x, y, test_size=0.2, random_state=42, stratify = y)\n",
    "x_train, x_val, y_train, y_val = train_test_split(x_dev, y_dev, test_size=0.2, random_state=42, stratify = y_dev)"
   ],
   "outputs": [],
   "metadata": {}
  },
  {
   "cell_type": "code",
   "execution_count": 59,
   "source": [
    "# over-sampling of training data\n",
    "ros = RandomOverSampler(random_state=42)\n",
    "x_ros, y_ros = ros.fit_resample(x_train, y_train)"
   ],
   "outputs": [],
   "metadata": {}
  },
  {
   "cell_type": "code",
   "execution_count": 60,
   "source": [
    "# under sampling of training data\n",
    "rus = RandomUnderSampler(random_state=42)\n",
    "x_rus, y_rus = rus.fit_resample(x_train, y_train)"
   ],
   "outputs": [],
   "metadata": {}
  },
  {
   "cell_type": "code",
   "execution_count": 61,
   "source": [
    "# smote sampling of training data\n",
    "smote = SMOTE(random_state=42)\n",
    "x_smote, y_smote = smote.fit_resample(x_train, y_train)"
   ],
   "outputs": [],
   "metadata": {}
  },
  {
   "cell_type": "markdown",
   "source": [
    "# Logistic Regression Model\n",
    "\n",
    "Motivation: The main reason I want to use logistic regression model with multiple classes is to set a reference for all other more complicated models to better evaluate their performances as logistic regression is the simplest one.\n",
    "\n",
    "Metrics:\n",
    "Accuracy\n",
    "\n",
    "Hyperparameters tuning:\n",
    "penalty: l1, l2, elasticnet (solver = saga)\n",
    "\n",
    "class_weight: balanced or default\n",
    "\n",
    "multi_class: multinomial (solver = lbfgs), ovr (solver = liblinear)"
   ],
   "metadata": {}
  },
  {
   "cell_type": "code",
   "execution_count": 62,
   "source": [
    "from sklearn.linear_model import LogisticRegression\n",
    "from sklearn.metrics import roc_auc_score\n",
    "import matplotlib.pyplot as plt"
   ],
   "outputs": [],
   "metadata": {}
  },
  {
   "cell_type": "code",
   "execution_count": 63,
   "source": [
    "penalty = ['l1', 'l2', 'elasticnet']\n",
    "class_weight = ['balanced','']\n",
    "multi_class = ['multinomial', 'ovr']\n",
    "l1_ratio = [0.2, 0.4, 0.6, 0.8]"
   ],
   "outputs": [],
   "metadata": {}
  },
  {
   "cell_type": "code",
   "execution_count": 64,
   "source": [
    "def logReg(x_train, y_train, x_val, y_val, penalty, weight, multi, l1_ratio):\n",
    "    score = []\n",
    "    auc = []\n",
    "    hyper = []\n",
    "    tracker = 0\n",
    "\n",
    "    # when multi_class == 'ovr', the solver must be liblinear.\n",
    "    # liblinear only support l1 and l2 penalty, and l1 doesn't work on my laptop\n",
    "    model = LogisticRegression(penalty='l2', class_weight='balanced', multi_class=multi[1], solver='liblinear')\n",
    "    model.fit(x_train, y_train)\n",
    "    score.append(model.score(x_val, y_val))\n",
    "    hyper.append(['l2','balanced','ovr'])\n",
    "    auc.append(roc_auc_score(y_val, model.predict_proba(x_val), average='weighted', multi_class='ovr'))\n",
    "\n",
    "    model = LogisticRegression(penalty='l2', class_weight='', multi_class=multi[1], solver='liblinear')\n",
    "    model.fit(x_train, y_train)\n",
    "    score.append(model.score(x_val, y_val))\n",
    "    hyper.append(['l2','','ovr'])\n",
    "    auc.append(roc_auc_score(y_val, model.predict_proba(x_val), average='weighted', multi_class='ovr'))\n",
    "\n",
    "    for i in penalty:\n",
    "        for j in weight:\n",
    "            tracker = 0\n",
    "            if i != 'elasticnet':\n",
    "                model = LogisticRegression(penalty=i, class_weight=j, multi_class=multi[0], solver='saga')\n",
    "            else:\n",
    "                while tracker != len(l1_ratio):\n",
    "                    model = LogisticRegression(penalty=i, class_weight=j, multi_class=multi[0], solver='saga',l1_ratio=l1_ratio[tracker])\n",
    "                    model.fit(x_train, y_train)\n",
    "                    score.append(model.score(x_val, y_val))\n",
    "                    hyper.append([i, j, multi[0], l1_ratio[tracker]])\n",
    "                    auc.append(roc_auc_score(y_val, model.predict_proba(x_val), average='macro', multi_class='ovr'))\n",
    "                    tracker += 1\n",
    "\n",
    "                continue\n",
    "            model.fit(x_train, y_train)\n",
    "            score.append(model.score(x_val, y_val))\n",
    "            hyper.append([i, j, multi[0]])\n",
    "            auc.append(roc_auc_score(y_val, model.predict_proba(x_val), average='weighted', multi_class='ovr'))\n",
    "\n",
    "    return hyper, score, auc\n"
   ],
   "outputs": [],
   "metadata": {}
  },
  {
   "cell_type": "code",
   "execution_count": 65,
   "source": [
    "## Original data (best model)\n",
    "\n",
    "# Tuning hyperparameter\n",
    "hyper, val_score, auc = logReg(x_train, y_train, x_val, y_val, penalty, class_weight, multi_class, l1_ratio)\n",
    "\n",
    "print(\"Best auc: \", max(auc), \"using hyperparameters \", hyper[np.argmax(auc)])\n",
    "print(\"Bes accuracy: \", max(val_score), \"using hyperparameters \", hyper[np.argmax(val_score)])\n"
   ],
   "outputs": [
    {
     "output_type": "stream",
     "name": "stderr",
     "text": [
      "/Users/yuanchenwei/opt/anaconda3/lib/python3.8/site-packages/sklearn/linear_model/_sag.py:350: ConvergenceWarning: The max_iter was reached which means the coef_ did not converge\n",
      "  warnings.warn(\n",
      "/Users/yuanchenwei/opt/anaconda3/lib/python3.8/site-packages/sklearn/linear_model/_sag.py:350: ConvergenceWarning: The max_iter was reached which means the coef_ did not converge\n",
      "  warnings.warn(\n",
      "/Users/yuanchenwei/opt/anaconda3/lib/python3.8/site-packages/sklearn/linear_model/_sag.py:350: ConvergenceWarning: The max_iter was reached which means the coef_ did not converge\n",
      "  warnings.warn(\n",
      "/Users/yuanchenwei/opt/anaconda3/lib/python3.8/site-packages/sklearn/linear_model/_sag.py:350: ConvergenceWarning: The max_iter was reached which means the coef_ did not converge\n",
      "  warnings.warn(\n",
      "/Users/yuanchenwei/opt/anaconda3/lib/python3.8/site-packages/sklearn/linear_model/_sag.py:350: ConvergenceWarning: The max_iter was reached which means the coef_ did not converge\n",
      "  warnings.warn(\n",
      "/Users/yuanchenwei/opt/anaconda3/lib/python3.8/site-packages/sklearn/linear_model/_sag.py:350: ConvergenceWarning: The max_iter was reached which means the coef_ did not converge\n",
      "  warnings.warn(\n",
      "/Users/yuanchenwei/opt/anaconda3/lib/python3.8/site-packages/sklearn/linear_model/_sag.py:350: ConvergenceWarning: The max_iter was reached which means the coef_ did not converge\n",
      "  warnings.warn(\n",
      "/Users/yuanchenwei/opt/anaconda3/lib/python3.8/site-packages/sklearn/linear_model/_sag.py:350: ConvergenceWarning: The max_iter was reached which means the coef_ did not converge\n",
      "  warnings.warn(\n",
      "/Users/yuanchenwei/opt/anaconda3/lib/python3.8/site-packages/sklearn/linear_model/_sag.py:350: ConvergenceWarning: The max_iter was reached which means the coef_ did not converge\n",
      "  warnings.warn(\n",
      "/Users/yuanchenwei/opt/anaconda3/lib/python3.8/site-packages/sklearn/linear_model/_sag.py:350: ConvergenceWarning: The max_iter was reached which means the coef_ did not converge\n",
      "  warnings.warn(\n",
      "/Users/yuanchenwei/opt/anaconda3/lib/python3.8/site-packages/sklearn/linear_model/_sag.py:350: ConvergenceWarning: The max_iter was reached which means the coef_ did not converge\n",
      "  warnings.warn(\n"
     ]
    },
    {
     "output_type": "stream",
     "name": "stdout",
     "text": [
      "Best auc:  0.6254231337401052 using hyperparameters  ['elasticnet', '', 'multinomial', 0.8]\n",
      "Bes accuracy:  0.8110265649557251 using hyperparameters  ['l2', '', 'ovr']\n"
     ]
    },
    {
     "output_type": "stream",
     "name": "stderr",
     "text": [
      "/Users/yuanchenwei/opt/anaconda3/lib/python3.8/site-packages/sklearn/linear_model/_sag.py:350: ConvergenceWarning: The max_iter was reached which means the coef_ did not converge\n",
      "  warnings.warn(\n"
     ]
    }
   ],
   "metadata": {}
  },
  {
   "cell_type": "code",
   "execution_count": 66,
   "source": [
    "plt.plot(val_score, label = \"validation score\")\n",
    "plt.plot(auc, label = \"AUC\")\n",
    "plt.legend()\n",
    "\n",
    "plt.show()\n"
   ],
   "outputs": [
    {
     "output_type": "display_data",
     "data": {
      "image/png": "[encoded data removed]",
      "text/plain": [
       "<Figure size 640x480 with 1 Axes>"
      ]
     },
     "metadata": {}
    }
   ],
   "metadata": {}
  },
  {
   "cell_type": "code",
   "execution_count": 67,
   "source": [
    "# Score on test set\n",
    "model = LogisticRegression(penalty='l2', class_weight='', multi_class='ovr', solver='liblinear')\n",
    "model.fit(x_train, y_train)\n",
    "test_score = model.score(x_test, y_test)\n",
    "\n",
    "print(\"Test accuracy: \", test_score)"
   ],
   "outputs": [
    {
     "output_type": "stream",
     "name": "stdout",
     "text": [
      "Test accuracy:  0.8108085315178558\n"
     ]
    }
   ],
   "metadata": {}
  },
  {
   "cell_type": "code",
   "execution_count": 68,
   "source": [
    "## Oversampling on train data\n",
    "\n",
    "# Tuning hyperparameter\n",
    "hyper, val_score, auc = logReg(x_ros, y_ros, x_val, y_val, penalty, class_weight, multi_class, l1_ratio)\n",
    "\n",
    "print(\"Best auc: \", max(auc), \"using hyperparameters \", hyper[np.argmax(auc)])\n",
    "print(\"Bes accuracy: \", max(val_score), \"using hyperparameters \", hyper[np.argmax(val_score)])\n",
    "\n"
   ],
   "outputs": [
    {
     "output_type": "stream",
     "name": "stderr",
     "text": [
      "/Users/yuanchenwei/opt/anaconda3/lib/python3.8/site-packages/sklearn/linear_model/_sag.py:350: ConvergenceWarning: The max_iter was reached which means the coef_ did not converge\n",
      "  warnings.warn(\n",
      "/Users/yuanchenwei/opt/anaconda3/lib/python3.8/site-packages/sklearn/linear_model/_sag.py:350: ConvergenceWarning: The max_iter was reached which means the coef_ did not converge\n",
      "  warnings.warn(\n",
      "/Users/yuanchenwei/opt/anaconda3/lib/python3.8/site-packages/sklearn/linear_model/_sag.py:350: ConvergenceWarning: The max_iter was reached which means the coef_ did not converge\n",
      "  warnings.warn(\n",
      "/Users/yuanchenwei/opt/anaconda3/lib/python3.8/site-packages/sklearn/linear_model/_sag.py:350: ConvergenceWarning: The max_iter was reached which means the coef_ did not converge\n",
      "  warnings.warn(\n",
      "/Users/yuanchenwei/opt/anaconda3/lib/python3.8/site-packages/sklearn/linear_model/_sag.py:350: ConvergenceWarning: The max_iter was reached which means the coef_ did not converge\n",
      "  warnings.warn(\n",
      "/Users/yuanchenwei/opt/anaconda3/lib/python3.8/site-packages/sklearn/linear_model/_sag.py:350: ConvergenceWarning: The max_iter was reached which means the coef_ did not converge\n",
      "  warnings.warn(\n",
      "/Users/yuanchenwei/opt/anaconda3/lib/python3.8/site-packages/sklearn/linear_model/_sag.py:350: ConvergenceWarning: The max_iter was reached which means the coef_ did not converge\n",
      "  warnings.warn(\n",
      "/Users/yuanchenwei/opt/anaconda3/lib/python3.8/site-packages/sklearn/linear_model/_sag.py:350: ConvergenceWarning: The max_iter was reached which means the coef_ did not converge\n",
      "  warnings.warn(\n",
      "/Users/yuanchenwei/opt/anaconda3/lib/python3.8/site-packages/sklearn/linear_model/_sag.py:350: ConvergenceWarning: The max_iter was reached which means the coef_ did not converge\n",
      "  warnings.warn(\n",
      "/Users/yuanchenwei/opt/anaconda3/lib/python3.8/site-packages/sklearn/linear_model/_sag.py:350: ConvergenceWarning: The max_iter was reached which means the coef_ did not converge\n",
      "  warnings.warn(\n",
      "/Users/yuanchenwei/opt/anaconda3/lib/python3.8/site-packages/sklearn/linear_model/_sag.py:350: ConvergenceWarning: The max_iter was reached which means the coef_ did not converge\n",
      "  warnings.warn(\n"
     ]
    },
    {
     "output_type": "stream",
     "name": "stdout",
     "text": [
      "Best auc:  0.6073336397717372 using hyperparameters  ['elasticnet', '', 'multinomial', 0.2]\n",
      "Bes accuracy:  0.5042645762257063 using hyperparameters  ['l2', 'balanced', 'ovr']\n"
     ]
    },
    {
     "output_type": "stream",
     "name": "stderr",
     "text": [
      "/Users/yuanchenwei/opt/anaconda3/lib/python3.8/site-packages/sklearn/linear_model/_sag.py:350: ConvergenceWarning: The max_iter was reached which means the coef_ did not converge\n",
      "  warnings.warn(\n"
     ]
    }
   ],
   "metadata": {}
  },
  {
   "cell_type": "code",
   "execution_count": 69,
   "source": [
    "plt.plot(val_score, label = \"validation score\")\n",
    "plt.plot(auc, label = \"AUC\")\n",
    "plt.legend()\n",
    "\n",
    "plt.show()"
   ],
   "outputs": [
    {
     "output_type": "display_data",
     "data": {
      "image/png": "[encoded data removed]",
      "text/plain": [
       "<Figure size 640x480 with 1 Axes>"
      ]
     },
     "metadata": {}
    }
   ],
   "metadata": {}
  },
  {
   "cell_type": "code",
   "execution_count": 70,
   "source": [
    "# Score on test set\n",
    "model = LogisticRegression(penalty='l2', class_weight='balanced', multi_class='ovr', solver='liblinear')\n",
    "model.fit(x_ros, y_ros)\n",
    "test_score = model.score(x_test, y_test)\n",
    "\n",
    "print(\"Test accuracy: \", test_score)"
   ],
   "outputs": [
    {
     "output_type": "stream",
     "name": "stdout",
     "text": [
      "Test accuracy:  0.5047763619915053\n"
     ]
    }
   ],
   "metadata": {}
  },
  {
   "cell_type": "code",
   "execution_count": 71,
   "source": [
    "## Undersampling on train data\n",
    "\n",
    "# Tuning hyperparameter\n",
    "hyper, val_score, auc = logReg(x_rus, y_rus, x_val, y_val, penalty, class_weight, multi_class, l1_ratio)\n",
    "\n",
    "print(\"Best auc: \", max(auc), \"using hyperparameters \", hyper[np.argmax(auc)])\n",
    "print(\"Bes accuracy: \", max(val_score), \"using hyperparameters \", hyper[np.argmax(val_score)])\n"
   ],
   "outputs": [
    {
     "output_type": "stream",
     "name": "stderr",
     "text": [
      "/Users/yuanchenwei/opt/anaconda3/lib/python3.8/site-packages/sklearn/linear_model/_sag.py:350: ConvergenceWarning: The max_iter was reached which means the coef_ did not converge\n",
      "  warnings.warn(\n",
      "/Users/yuanchenwei/opt/anaconda3/lib/python3.8/site-packages/sklearn/linear_model/_sag.py:350: ConvergenceWarning: The max_iter was reached which means the coef_ did not converge\n",
      "  warnings.warn(\n",
      "/Users/yuanchenwei/opt/anaconda3/lib/python3.8/site-packages/sklearn/linear_model/_sag.py:350: ConvergenceWarning: The max_iter was reached which means the coef_ did not converge\n",
      "  warnings.warn(\n",
      "/Users/yuanchenwei/opt/anaconda3/lib/python3.8/site-packages/sklearn/linear_model/_sag.py:350: ConvergenceWarning: The max_iter was reached which means the coef_ did not converge\n",
      "  warnings.warn(\n",
      "/Users/yuanchenwei/opt/anaconda3/lib/python3.8/site-packages/sklearn/linear_model/_sag.py:350: ConvergenceWarning: The max_iter was reached which means the coef_ did not converge\n",
      "  warnings.warn(\n",
      "/Users/yuanchenwei/opt/anaconda3/lib/python3.8/site-packages/sklearn/linear_model/_sag.py:350: ConvergenceWarning: The max_iter was reached which means the coef_ did not converge\n",
      "  warnings.warn(\n",
      "/Users/yuanchenwei/opt/anaconda3/lib/python3.8/site-packages/sklearn/linear_model/_sag.py:350: ConvergenceWarning: The max_iter was reached which means the coef_ did not converge\n",
      "  warnings.warn(\n",
      "/Users/yuanchenwei/opt/anaconda3/lib/python3.8/site-packages/sklearn/linear_model/_sag.py:350: ConvergenceWarning: The max_iter was reached which means the coef_ did not converge\n",
      "  warnings.warn(\n",
      "/Users/yuanchenwei/opt/anaconda3/lib/python3.8/site-packages/sklearn/linear_model/_sag.py:350: ConvergenceWarning: The max_iter was reached which means the coef_ did not converge\n",
      "  warnings.warn(\n",
      "/Users/yuanchenwei/opt/anaconda3/lib/python3.8/site-packages/sklearn/linear_model/_sag.py:350: ConvergenceWarning: The max_iter was reached which means the coef_ did not converge\n",
      "  warnings.warn(\n",
      "/Users/yuanchenwei/opt/anaconda3/lib/python3.8/site-packages/sklearn/linear_model/_sag.py:350: ConvergenceWarning: The max_iter was reached which means the coef_ did not converge\n",
      "  warnings.warn(\n"
     ]
    },
    {
     "output_type": "stream",
     "name": "stdout",
     "text": [
      "Best auc:  0.6051103428856313 using hyperparameters  ['elasticnet', '', 'multinomial', 0.2]\n",
      "Bes accuracy:  0.4995208341319431 using hyperparameters  ['l2', 'balanced', 'ovr']\n"
     ]
    },
    {
     "output_type": "stream",
     "name": "stderr",
     "text": [
      "/Users/yuanchenwei/opt/anaconda3/lib/python3.8/site-packages/sklearn/linear_model/_sag.py:350: ConvergenceWarning: The max_iter was reached which means the coef_ did not converge\n",
      "  warnings.warn(\n"
     ]
    }
   ],
   "metadata": {}
  },
  {
   "cell_type": "code",
   "execution_count": 72,
   "source": [
    "plt.plot(val_score, label = \"validation score\")\n",
    "plt.plot(auc, label = \"AUC\")\n",
    "plt.legend()\n",
    "\n",
    "plt.show()"
   ],
   "outputs": [
    {
     "output_type": "display_data",
     "data": {
      "image/png": "[encoded data removed]",
      "text/plain": [
       "<Figure size 640x480 with 1 Axes>"
      ]
     },
     "metadata": {}
    }
   ],
   "metadata": {}
  },
  {
   "cell_type": "code",
   "execution_count": 73,
   "source": [
    "# Score on test set using hyperparameters with best accuracy\n",
    "model = LogisticRegression(penalty='l2', class_weight='balanced', multi_class='ovr', solver='liblinear')\n",
    "model.fit(x_rus, y_rus)\n",
    "test_score = model.score(x_test, y_test)\n",
    "\n",
    "print(\"Test accuracy: \", test_score)"
   ],
   "outputs": [
    {
     "output_type": "stream",
     "name": "stdout",
     "text": [
      "Test accuracy:  0.4997163316313231\n"
     ]
    }
   ],
   "metadata": {}
  },
  {
   "cell_type": "code",
   "execution_count": 74,
   "source": [
    "## SMOTE on train data\n",
    "\n",
    "# Tuning hyperparameter\n",
    "hyper, val_score, auc = logReg(x_smote, y_smote, x_val, y_val, penalty, class_weight, multi_class, l1_ratio)\n",
    "\n",
    "print(\"Best auc: \", max(auc), \"using hyperparameters \", hyper[np.argmax(auc)])\n",
    "print(\"Bes accuracy: \", max(val_score), \"using hyperparameters \", hyper[np.argmax(val_score)])\n"
   ],
   "outputs": [
    {
     "output_type": "stream",
     "name": "stderr",
     "text": [
      "/Users/yuanchenwei/opt/anaconda3/lib/python3.8/site-packages/sklearn/linear_model/_sag.py:350: ConvergenceWarning: The max_iter was reached which means the coef_ did not converge\n",
      "  warnings.warn(\n",
      "/Users/yuanchenwei/opt/anaconda3/lib/python3.8/site-packages/sklearn/linear_model/_sag.py:350: ConvergenceWarning: The max_iter was reached which means the coef_ did not converge\n",
      "  warnings.warn(\n",
      "/Users/yuanchenwei/opt/anaconda3/lib/python3.8/site-packages/sklearn/linear_model/_sag.py:350: ConvergenceWarning: The max_iter was reached which means the coef_ did not converge\n",
      "  warnings.warn(\n"
     ]
    }
   ],
   "metadata": {}
  },
  {
   "cell_type": "code",
   "execution_count": null,
   "source": [
    "plt.plot(val_score, label = \"validation score\")\n",
    "plt.plot(auc, label = \"AUC\")\n",
    "plt.legend()\n",
    "\n",
    "plt.show()"
   ],
   "outputs": [
    {
     "output_type": "display_data",
     "data": {
      "image/png": "[encoded data removed]",
      "text/plain": [
       "<Figure size 640x480 with 1 Axes>"
      ]
     },
     "metadata": {}
    }
   ],
   "metadata": {}
  },
  {
   "cell_type": "code",
   "execution_count": null,
   "source": [
    "# Score on test set using hyperparameters with best accuracy\n",
    "model = LogisticRegression(penalty='l2', class_weight='balanced', multi_class='ovr', solver='liblinear')\n",
    "model.fit(x_smote, y_smote)\n",
    "test_score = model.score(x_test, y_test)\n",
    "\n",
    "print(\"Test accuracy: \", test_score)"
   ],
   "outputs": [
    {
     "output_type": "stream",
     "name": "stdout",
     "text": [
      "Test accuracy:  0.49366729533710535\n"
     ]
    }
   ],
   "metadata": {}
  }
 ],
 "metadata": {
  "orig_nbformat": 4,
  "language_info": {
   "name": "python",
   "version": "3.8.13",
   "mimetype": "text/x-python",
   "codemirror_mode": {
    "name": "ipython",
    "version": 3
   },
   "pygments_lexer": "ipython3",
   "nbconvert_exporter": "python",
   "file_extension": ".py"
  },
  "kernelspec": {
   "name": "python3",
   "display_name": "Python 3.8.13 64-bit ('base': conda)"
  },
  "interpreter": {
   "hash": "00f594f41d83bcb31ed0cd3b5d571f49657463d60f75121ee5a593371a79adcd"
  }
 },
 "nbformat": 4,
 "nbformat_minor": 2
}