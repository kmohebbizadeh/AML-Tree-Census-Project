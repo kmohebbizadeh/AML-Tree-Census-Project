{
 "cells": [
  {
   "cell_type": "code",
   "execution_count": null,
   "id": "d15a4bf6",
   "metadata": {},
   "outputs": [],
   "source": [
    "import numpy as np\n",
    "import pandas as pd\n",
    "import matplotlib.pyplot as plt\n",
    "import seaborn as sns\n",
    "from sklearn.preprocessing import OrdinalEncoder, OneHotEncoder, StandardScaler\n",
    "from sklearn.model_selection import train_test_split, RandomizedSearchCV\n",
    "from sklearn.linear_model import LogisticRegression\n",
    "from sklearn.svm import LinearSVC, SVC\n",
    "from sklearn.tree import DecisionTreeClassifier\n",
    "from sklearn.metrics import roc_auc_score, accuracy_score, f1_score, confusion_matrix, precision_recall_fscore_support, make_scorer\n",
    "from imblearn.over_sampling import RandomOverSampler, SMOTE\n",
    "from imblearn.under_sampling import RandomUnderSampler\n",
    "from scipy import stats\n",
    "import warnings\n",
    "warnings.filterwarnings(\"ignore\")"
   ]
  },
  {
   "cell_type": "code",
   "execution_count": null,
   "id": "52351c86",
   "metadata": {},
   "outputs": [],
   "source": [
    "# load in data with relative path\n",
    "tree_df = pd.read_csv('2015_Street_Tree_Census_-_Tree_Data.csv')"
   ]
  },
  {
   "cell_type": "code",
   "execution_count": null,
   "id": "08adc696",
   "metadata": {},
   "outputs": [],
   "source": [
    "# drop columns that arent useful, or suffer from multicolinearity\n",
    "tree_df = tree_df.drop(columns=[\n",
    "    'borocode', 'x_sp', 'y_sp', 'state', 'nta_name', 'zip_city', 'address',\n",
    "    'spc_latin', 'created_at', 'tree_id', 'block_id', 'user_type', 'bin',\n",
    "    'bbl', 'council district', 'boro_ct', 'census tract', 'problems', 'status',\n",
    "    'stump_diam', 'postcode', 'community board', 'cncldist', 'st_assem', 'st_senate', \n",
    "    'nta', 'spc_common'\n",
    "])"
   ]
  },
  {
   "cell_type": "code",
   "execution_count": null,
   "id": "8908422a",
   "metadata": {},
   "outputs": [],
   "source": [
    "# drop NA and dead tree values\n",
    "tree_df = tree_df[tree_df['health'].notna()]\n",
    "tree_df = tree_df.dropna(how='any')"
   ]
  },
  {
   "cell_type": "code",
   "execution_count": null,
   "id": "5175c1b3",
   "metadata": {},
   "outputs": [],
   "source": [
    "# scale diameters (only continuos numerical feature left)\n",
    "scaler = StandardScaler()\n",
    "tree_df['tree_dbh'] = scaler.fit_transform(tree_df[['tree_dbh']])"
   ]
  },
  {
   "cell_type": "code",
   "execution_count": null,
   "id": "98a29211",
   "metadata": {},
   "outputs": [],
   "source": [
    "# Ordinal Encode (categorical hierarchal features)\n",
    "health = ['Poor', 'Fair', 'Good']\n",
    "enc = OrdinalEncoder(categories=[health])\n",
    "tree_df['health'] = enc.fit_transform(tree_df[['health']])\n",
    "\n",
    "steward = ['None', '1or2', '3or4', '4orMore']\n",
    "enc = OrdinalEncoder(categories=[steward])\n",
    "tree_df['steward'] = enc.fit_transform(tree_df[['steward']])\n",
    "\n",
    "sidewalk = ['NoDamage', 'Damage']\n",
    "enc = OrdinalEncoder(categories=[sidewalk])\n",
    "tree_df['sidewalk'] = enc.fit_transform(tree_df[['sidewalk']])\n",
    "\n",
    "curbloc = ['OnCurb', 'OffsetFromCurb']\n",
    "enc = OrdinalEncoder(categories=[curbloc])\n",
    "tree_df['curb_loc'] = enc.fit_transform(tree_df[['curb_loc']])\n",
    "\n",
    "yes_no = ['No', 'Yes']\n",
    "enc = OrdinalEncoder(categories=[yes_no])\n",
    "\n",
    "yes_no_features = [\n",
    "    'brch_other', 'brch_shoe', 'brch_light', 'trnk_other', 'trnk_light',\n",
    "    'trunk_wire', 'root_other', 'root_grate', 'root_stone'\n",
    "]\n",
    "\n",
    "for feat in yes_no_features:\n",
    "    tree_df[feat] = enc.fit_transform(tree_df[[feat]])\n",
    "    \n",
    "# One Hot Encode (non-hierarchal categorical features)\n",
    "enc = OneHotEncoder()\n",
    "guards = enc.fit_transform(tree_df[['guards']])\n",
    "tree_df['guards_' + enc.categories_[0][:]] = guards.toarray()\n",
    "tree_df = tree_df.drop(columns=['guards'])\n",
    "\n",
    "guards = enc.fit_transform(tree_df[['borough']])\n",
    "tree_df['borough_' + enc.categories_[0][:]] = guards.toarray()\n",
    "tree_df = tree_df.drop(columns=['borough'])"
   ]
  },
  {
   "cell_type": "code",
   "execution_count": null,
   "id": "ba9eb1cb",
   "metadata": {},
   "outputs": [],
   "source": [
    "# split to x and y sets\n",
    "y = np.asarray(tree_df['health'])\n",
    "x = tree_df.drop(columns=['health'])"
   ]
  },
  {
   "cell_type": "code",
   "execution_count": null,
   "id": "c4670542",
   "metadata": {},
   "outputs": [],
   "source": [
    "# random sample (stratified) for dev, test, train and val\n",
    "x_dev, x_test, y_dev, y_test = train_test_split(x, y, test_size=0.2, random_state=42, stratify = y)\n",
    "x_train, x_val, y_train, y_val = train_test_split(x_dev, y_dev, test_size=0.2, random_state=42, stratify = y_dev)"
   ]
  },
  {
   "cell_type": "code",
   "execution_count": null,
   "id": "97dbe139",
   "metadata": {},
   "outputs": [],
   "source": [
    "# over-sampling of training data\n",
    "ros = RandomOverSampler(random_state=42)\n",
    "x_ros, y_ros = ros.fit_resample(x_train, y_train)"
   ]
  },
  {
   "cell_type": "code",
   "execution_count": null,
   "id": "4127a92d",
   "metadata": {},
   "outputs": [],
   "source": [
    "# under sampling of training data\n",
    "rus = RandomUnderSampler(random_state=42)\n",
    "x_rus, y_rus = rus.fit_resample(x_train, y_train)"
   ]
  },
  {
   "cell_type": "code",
   "execution_count": null,
   "id": "0772d2e3",
   "metadata": {},
   "outputs": [],
   "source": [
    "# smote sampling of training data\n",
    "smote = SMOTE(random_state=42)\n",
    "x_smote, y_smote = smote.fit_resample(x_train, y_train)"
   ]
  },
  {
   "cell_type": "markdown",
   "id": "4e179e21",
   "metadata": {},
   "source": [
    "Log Reg"
   ]
  },
  {
   "cell_type": "code",
   "execution_count": null,
   "id": "cdbf9376",
   "metadata": {},
   "outputs": [],
   "source": [
    "# model evaluation function\n",
    "def lr_result(model, X_train, y_train, X_test, y_test, report = False):\n",
    "    # predict \n",
    "    y_train_predict = model.predict(X_train)\n",
    "    y_test_predict = model.predict(X_test)\n",
    "    \n",
    "    # print trainind and testing accuracy\n",
    "    print(\"Accuracy of Training data: \", model.score(x_train,y_train))\n",
    "    print(\"Accuracy of Testing data: \", model.score(x_test,y_test))\n",
    "    print(\"Accuracy of Training data: \", f1_score(y_train, y_train_predict, average='weighted'))\n",
    "    print(\"Accuracy of Testing data: \", f1_score(y_test, y_test_predict, average='weighted'))\n",
    "    \n",
    "    # show result report\n",
    "    if (report):\n",
    "        print(classification_report(y_test, y_test_predict))\n",
    "        \n",
    "    # show confusion_matrix\n",
    "    cf = confusion_matrix(y_test, y_test_predict)\n",
    "    sns.heatmap(cf, annot = True, fmt = 'g')\n",
    "    plt.show()"
   ]
  },
  {
   "cell_type": "code",
   "execution_count": null,
   "id": "432bc380",
   "metadata": {},
   "outputs": [],
   "source": [
    "def feature_importance(x_train, model):\n",
    "  features = x_train.columns.values\n",
    "  plt.figure(figsize = (12, 6))\n",
    "  ax = sns.barplot(x = features, y = model.best_estimator_.feature_importances_)\n",
    "  ax.tick_params(axis = 'x', rotation = 90)"
   ]
  },
  {
   "cell_type": "code",
   "execution_count": null,
   "id": "94bcc5f0",
   "metadata": {},
   "outputs": [],
   "source": [
    "# base SVM model\n",
    "lr = LogisticRegression(random_state = 2022)\n",
    "\n",
    "# random search for hyperparameter tuning\n",
    "param_list = {'C': [.1, 1, 10, 50, 100], \n",
    "              'tol': [.0001, .001, .01, .1, 1], \n",
    "              'max_iter': [10, 20, 50, 100]}\n",
    "\n",
    "lr_rand_search_ac = RandomizedSearchCV(lr, \n",
    "                                       param_distributions = param_list, \n",
    "                                       cv = 5,\n",
    "                                       scoring = 'accuracy',\n",
    "                                       n_jobs=-1,\n",
    "                                       random_state = 2022) \n",
    "\n",
    "lr_rand_search_f1 = RandomizedSearchCV(lr, \n",
    "                                       param_distributions = param_list, \n",
    "                                       cv = 5,\n",
    "                                       scoring = 'f1_macro',\n",
    "                                       n_jobs=-1,\n",
    "                                       random_state = 2022) \n",
    "\n",
    "lr_rand_search_recall = RandomizedSearchCV(lr, \n",
    "                                           param_distributions = param_list, \n",
    "                                           cv = 5,scoring = 'recall_macro',\n",
    "                                           n_jobs=-1,\n",
    "                                           random_state = 2022) "
   ]
  },
  {
   "cell_type": "code",
   "execution_count": null,
   "id": "c153c7f4",
   "metadata": {},
   "outputs": [],
   "source": [
    "# Hyperparameter tuning random stratified sampling\n",
    "print('Random Stratified Sampling')\n",
    "# accuracy as scoring metric\n",
    "print('Accuracy')\n",
    "lr_rand_search_ac.fit(x_train, y_train) \n",
    "feature_importance(x_train, lr_rand_search_ac)\n",
    "print('Best Parameters:', lr_rand_search_ac.best_params_)\n",
    "lr_best = lr_rand_search_ac.best_estimator_\n",
    "lr_result(lr_best, x_train, y_train, x_test, y_test)\n",
    "\n",
    "# f1 as scoring metric\n",
    "print('F1 Score')\n",
    "lr_rand_search_f1.fit(x_train, y_train) \n",
    "feature_importance(x_train, lr_rand_search_f1)\n",
    "print('Best Parameters:', lr_rand_search_f1.best_params_)\n",
    "lr_best = lr_rand_search_f1.best_estimator_\n",
    "lr_result(lr_best, x_train, y_train, x_test, y_test)\n",
    "\n",
    "# recall as scoring metric\n",
    "print('Recall')\n",
    "lr_rand_search_recall.fit(x_train, y_train) \n",
    "feature_importance(x_train, lr_rand_search_recall)\n",
    "print('Best Parameters:', lr_rand_search_recall.best_params_)\n",
    "lr_best = lr_rand_search_recall.best_estimator_\n",
    "lr_result(lr_best, x_train, y_train, x_test, y_test)"
   ]
  },
  {
   "cell_type": "code",
   "execution_count": null,
   "id": "bfc29571",
   "metadata": {},
   "outputs": [],
   "source": [
    "# Hyperparameter tuning random over sampling\n",
    "print('Random Over Sampling')\n",
    "# accuracy as scoring metric\n",
    "print('Accuracy')\n",
    "lr_rand_search_ac.fit(x_ros, y_ros) \n",
    "feature_importance(x_ros, lr_rand_search_ac)\n",
    "print('Best Parameters:', lr_rand_search_ac.best_params_)\n",
    "lr_best = lr_rand_search_ac.best_estimator_\n",
    "lr_result(lr_best, x_ros, y_ros, x_test, y_test)\n",
    "\n",
    "# f1 as scoring metric\n",
    "print('F1 Score')\n",
    "lr_rand_search_f1.fit(x_ros, y_ros) \n",
    "feature_importance(x_ros, lr_rand_search_f1)\n",
    "print('Best Parameters:', lr_rand_search_f1.best_params_)\n",
    "lr_best = lr_rand_search_f1.best_estimator_\n",
    "lr_result(lr_best, x_ros, y_ros, x_test, y_test)\n",
    "\n",
    "# recall as scoring metric\n",
    "print('Recall')\n",
    "lr_rand_search_recall.fit(x_ros, y_ros)\n",
    "feature_importance(x_ros, lr_rand_search_recall)\n",
    "print('Best Parameters:', lr_rand_search_recall.best_params_)\n",
    "lr_best = lr_rand_search_recall.best_estimator_\n",
    "lr_result(lr_best, x_ros, y_ros, x_test, y_test)"
   ]
  },
  {
   "cell_type": "code",
   "execution_count": null,
   "id": "58ce2b24",
   "metadata": {},
   "outputs": [],
   "source": [
    "# Hyperparameter tuning random under sampling\n",
    "print('Random Under Sampling')\n",
    "# accuracy as scoring metric\n",
    "print('Accuracy')\n",
    "lr_rand_search_ac.fit(x_rus, y_rus)\n",
    "feature_importance(x_rus, lr_rand_search_ac)\n",
    "print('Best Parameters:', lr_rand_search_ac.best_params_)\n",
    "lr_best = lr_rand_search_ac.best_estimator_\n",
    "lr_result(lr_best, x_rus, y_rus, x_test, y_test)\n",
    "\n",
    "# f1 as scoring metric\n",
    "print('F1 Score')\n",
    "lr_rand_search_f1.fit(x_rus, y_rus) \n",
    "feature_importance(x_rus, lr_rand_search_f1)\n",
    "print('Best Parameters:', lr_rand_search_f1.best_params_)\n",
    "lr_best = lr_rand_search_f1.best_estimator_\n",
    "lr_result(lr_best, x_rus, y_rus, x_test, y_test)\n",
    "\n",
    "# recall as scoring metric\n",
    "print('Recall')\n",
    "lr_rand_search_recall.fit(x_rus, y_rus) \n",
    "feature_importance(x_rus, lr_rand_search_recall)\n",
    "print('Best Parameters:', lr_rand_search_recall.best_params_)\n",
    "lr_best = lr_rand_search_recall.best_estimator_\n",
    "lr_result(lr_best, x_rus, y_rus, x_test, y_test)"
   ]
  },
  {
   "cell_type": "code",
   "execution_count": null,
   "id": "b259909c",
   "metadata": {},
   "outputs": [],
   "source": [
    "# Hyperparameter tuning random over sampling\n",
    "print('SMOTE Sampling')\n",
    "# accuracy as scoring metric\n",
    "print('Accuracy')\n",
    "lr_rand_search_ac.fit(x_smote, y_smote) \n",
    "feature_importance(x_smote, lr_rand_search_ac)\n",
    "print('Best Parameters:', lr_rand_search_ac.best_params_)\n",
    "lr_best = lr_rand_search_ac.best_estimator_\n",
    "lr_result(lr_best, x_smote, y_smote, x_test, y_test)\n",
    "\n",
    "# f1 as scoring metric\n",
    "print('F1 Score')\n",
    "lr_rand_search_f1.fit(x_smote, y_smote) \n",
    "feature_importance(x_smote, lr_rand_search_f1)\n",
    "print('Best Parameters:', lr_rand_search_f1.best_params_)\n",
    "lr_best = lr_rand_search_f1.best_estimator_\n",
    "lr_result(lr_best, x_smote, y_smote, x_test, y_test)\n",
    "\n",
    "# recall as scoring metric\n",
    "print('Recall')\n",
    "lr_rand_search_recall.fit(x_smote, y_smote) \n",
    "feature_importance(x_smote, lr_rand_search_recall)\n",
    "print('Best Parameters:', lr_rand_search_recall.best_params_)\n",
    "lr_best = lr_rand_search_recall.best_estimator_\n",
    "lr_result(lr_best, x_smote, y_smote, x_test, y_test)"
   ]
  }
 ],
 "metadata": {
  "kernelspec": {
   "display_name": "Python 3 (ipykernel)",
   "language": "python",
   "name": "python3"
  },
  "language_info": {
   "codemirror_mode": {
    "name": "ipython",
    "version": 3
   },
   "file_extension": ".py",
   "mimetype": "text/x-python",
   "name": "python",
   "nbconvert_exporter": "python",
   "pygments_lexer": "ipython3",
   "version": "3.9.12"
  }
 },
 "nbformat": 4,
 "nbformat_minor": 5
}
