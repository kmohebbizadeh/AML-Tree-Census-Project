{
  "cells": [
    {
      "cell_type": "markdown",
      "id": "9e457747",
      "metadata": {
        "id": "9e457747"
      },
      "source": [
        "# Tree Census Final Project"
      ]
    },
    {
      "cell_type": "markdown",
      "id": "058f4338",
      "metadata": {
        "id": "058f4338"
      },
      "source": [
        "## Packages"
      ]
    },
    {
      "cell_type": "code",
      "execution_count": 42,
      "id": "f00fd78c",
      "metadata": {
        "id": "f00fd78c"
      },
      "outputs": [],
      "source": [
        "import numpy as np\n",
        "import pandas as pd\n",
        "import matplotlib.pyplot as plt\n",
        "import seaborn as sns\n",
        "import warnings\n",
        "from scipy import stats\n",
        "from sklearn.preprocessing import OrdinalEncoder, OneHotEncoder, StandardScaler\n",
        "from sklearn.model_selection import train_test_split, RandomizedSearchCV\n",
        "from sklearn.linear_model import LogisticRegression\n",
        "from sklearn.svm import LinearSVC, SVC\n",
        "from sklearn.tree import DecisionTreeClassifier\n",
        "from sklearn.metrics import roc_auc_score, accuracy_score, f1_score, recall_score, confusion_matrix, precision_recall_fscore_support, make_scorer, classification_report\n",
        "from imblearn.over_sampling import RandomOverSampler, SMOTE\n",
        "from imblearn.under_sampling import RandomUnderSampler\n",
        "from scipy import stats\n",
        "from sklearn.metrics import accuracy_score, f1_score, confusion_matrix,classification_report\n",
        "import warnings\n",
        "warnings.filterwarnings('ignore')"
      ]
    },
    {
      "cell_type": "markdown",
      "id": "c327c882",
      "metadata": {
        "id": "c327c882"
      },
      "source": [
        "## Preprocessing"
      ]
    },
    {
      "cell_type": "code",
      "execution_count": 2,
      "id": "46dc90d4",
      "metadata": {
        "id": "46dc90d4"
      },
      "outputs": [],
      "source": [
        "# load in data with relative path\n",
        "tree_df = pd.read_csv('sample_data/2015_Street_Tree_Census_-_Tree_Data.csv')"
      ]
    },
    {
      "cell_type": "code",
      "execution_count": 3,
      "id": "aa3d6a1f",
      "metadata": {
        "id": "aa3d6a1f"
      },
      "outputs": [],
      "source": [
        "# drop columns that arent useful, or suffer from multicolinearity\n",
        "tree_df = tree_df.drop(columns=[\n",
        "    'borocode', 'x_sp', 'y_sp', 'state', 'nta_name', 'zip_city', 'address',\n",
        "    'spc_latin', 'created_at', 'tree_id', 'block_id', 'user_type', 'bin',\n",
        "    'bbl', 'council district', 'boro_ct', 'census tract', 'problems', 'status',\n",
        "    'stump_diam', 'postcode', 'community board', 'cncldist', 'st_assem', 'st_senate', \n",
        "    'nta', 'spc_common'\n",
        "])"
      ]
    },
    {
      "cell_type": "code",
      "execution_count": 4,
      "id": "40691cff",
      "metadata": {
        "id": "40691cff"
      },
      "outputs": [],
      "source": [
        "# drop NA and dead tree values\n",
        "tree_df = tree_df[tree_df['health'].notna()]\n",
        "tree_df = tree_df.dropna(how='any')"
      ]
    },
    {
      "cell_type": "code",
      "execution_count": 5,
      "id": "18ad8832",
      "metadata": {
        "id": "18ad8832"
      },
      "outputs": [],
      "source": [
        "# scale diameters (only continuos numerical feature left)\n",
        "scaler = StandardScaler()\n",
        "tree_df['tree_dbh'] = scaler.fit_transform(tree_df[['tree_dbh']])"
      ]
    },
    {
      "cell_type": "code",
      "execution_count": 6,
      "id": "0d2275be",
      "metadata": {
        "id": "0d2275be"
      },
      "outputs": [],
      "source": [
        "# Ordinal Encode (categorical hierarchal features)\n",
        "health = ['Poor', 'Fair', 'Good']\n",
        "enc = OrdinalEncoder(categories=[health])\n",
        "tree_df['health'] = enc.fit_transform(tree_df[['health']])\n",
        "\n",
        "steward = ['None', '1or2', '3or4', '4orMore']\n",
        "enc = OrdinalEncoder(categories=[steward])\n",
        "tree_df['steward'] = enc.fit_transform(tree_df[['steward']])\n",
        "\n",
        "sidewalk = ['NoDamage', 'Damage']\n",
        "enc = OrdinalEncoder(categories=[sidewalk])\n",
        "tree_df['sidewalk'] = enc.fit_transform(tree_df[['sidewalk']])\n",
        "\n",
        "curbloc = ['OnCurb', 'OffsetFromCurb']\n",
        "enc = OrdinalEncoder(categories=[curbloc])\n",
        "tree_df['curb_loc'] = enc.fit_transform(tree_df[['curb_loc']])\n",
        "\n",
        "yes_no = ['No', 'Yes']\n",
        "enc = OrdinalEncoder(categories=[yes_no])\n",
        "\n",
        "yes_no_features = [\n",
        "    'brch_other', 'brch_shoe', 'brch_light', 'trnk_other', 'trnk_light',\n",
        "    'trunk_wire', 'root_other', 'root_grate', 'root_stone'\n",
        "]\n",
        "\n",
        "for feat in yes_no_features:\n",
        "    tree_df[feat] = enc.fit_transform(tree_df[[feat]])\n",
        "    \n",
        "# One Hot Encode (non-hierarchal categorical features)\n",
        "enc = OneHotEncoder()\n",
        "guards = enc.fit_transform(tree_df[['guards']])\n",
        "tree_df['guards_' + enc.categories_[0][:]] = guards.toarray()\n",
        "tree_df = tree_df.drop(columns=['guards'])\n",
        "\n",
        "guards = enc.fit_transform(tree_df[['borough']])\n",
        "tree_df['borough_' + enc.categories_[0][:]] = guards.toarray()\n",
        "tree_df = tree_df.drop(columns=['borough'])"
      ]
    },
    {
      "cell_type": "code",
      "execution_count": 7,
      "id": "23fba5d6",
      "metadata": {
        "id": "23fba5d6"
      },
      "outputs": [],
      "source": [
        "# split to x and y sets\n",
        "y = np.asarray(tree_df['health'])\n",
        "x = tree_df.drop(columns=['health'])"
      ]
    },
    {
      "cell_type": "code",
      "execution_count": 8,
      "id": "06a602a5",
      "metadata": {
        "id": "06a602a5"
      },
      "outputs": [],
      "source": [
        "# random sample (stratified) for dev, test, train and val\n",
        "x_dev, x_test, y_dev, y_test = train_test_split(x, y, test_size=0.2, random_state=42, stratify = y)\n",
        "x_train, x_val, y_train, y_val = train_test_split(x_dev, y_dev, test_size=0.2, random_state=42, stratify = y_dev)"
      ]
    },
    {
      "cell_type": "code",
      "execution_count": 9,
      "id": "df78bb2f",
      "metadata": {
        "id": "df78bb2f"
      },
      "outputs": [],
      "source": [
        "# over-sampling of training data\n",
        "ros = RandomOverSampler(random_state=42)\n",
        "x_ros, y_ros = ros.fit_resample(x_train, y_train)"
      ]
    },
    {
      "cell_type": "code",
      "execution_count": 10,
      "id": "dbc51372",
      "metadata": {
        "id": "dbc51372"
      },
      "outputs": [],
      "source": [
        "# under sampling of training data\n",
        "rus = RandomUnderSampler(random_state=42)\n",
        "x_rus, y_rus = rus.fit_resample(x_train, y_train)"
      ]
    },
    {
      "cell_type": "code",
      "execution_count": 11,
      "id": "045fcb15",
      "metadata": {
        "id": "045fcb15"
      },
      "outputs": [],
      "source": [
        "# smote sampling of training data\n",
        "smote = SMOTE(random_state=42)\n",
        "x_smote, y_smote = smote.fit_resample(x_train, y_train)"
      ]
    },
    {
      "cell_type": "markdown",
      "id": "273fcf2c",
      "metadata": {
        "id": "273fcf2c"
      },
      "source": [
        "## Decision Tree\n",
        "\n",
        "Selected hyperparameters:  \n",
        "\n",
        "max_depth: The maximum depth of the tree. \n",
        "\n",
        "min_samples_split: The minimum number of samples required to split an internal node. \n",
        "\n",
        "max_features: Number of features to consider when looking for the best split. \n",
        "\n",
        "Max_leaf_nodes: Maximum number of leaf nodes a decision tree can have. \n",
        "\n",
        "ccp_alpha: Complexity parameter used for Minimal Cost-Complexity Pruning\n"
      ]
    },
    {
      "cell_type": "code",
      "execution_count": 1,
      "id": "37e07102",
      "metadata": {
        "id": "37e07102"
      },
      "outputs": [],
      "source": [
        "# function to evaluate the model\n",
        "\"\"\"\n",
        "  print decsion tree model result.\n",
        "      Args:\n",
        "          model: decision tree model\n",
        "          X_train: training data of X.\n",
        "          y_train: training data of y.\n",
        "          X_test: testing data of X.   \n",
        "          y_test: testing data of y.\n",
        "      Returns:\n",
        "          Print confusion matrix and classification report.\n",
        "\"\"\"\n",
        "\n",
        "def model_result(model, x_train, y_train, x_test, y_test):\n",
        "    model.fit(x_train, y_train)\n",
        "    # confusion_matrix\n",
        "    cf = confusion_matrix(y_test, model.predict(x_test))\n",
        "    sns.heatmap(cf, annot = True, fmt = 'g')\n",
        "    plt.show()\n",
        "    # result plot\n",
        "    print(classification_report(y_test, model.predict(x_test)))"
      ]
    },
    {
      "cell_type": "code",
      "execution_count": 2,
      "id": "452073fd",
      "metadata": {
        "id": "452073fd"
      },
      "outputs": [],
      "source": [
        "# function to fit and tune the model\n",
        "def dt_select(x_train,y_train,score):\n",
        "    # possible values for the model to be tuned on\n",
        "    param_grid = {\n",
        "        'max_depth': [4,8,10,12,15,20],\n",
        "        'min_samples_split': np.linspace(0.1, 0.3, 3, endpoint=True),\n",
        "        \"max_features\":[\"log2\",\"sqrt\",None],\n",
        "        \"max_leaf_nodes\": [None,10,20,30],\n",
        "        'ccp_alpha' : np.logspace(-6, -4, 3)\n",
        "    }\n",
        "    \n",
        "    # create a base model\n",
        "    dt = DecisionTreeClassifier(random_state=100)\n",
        "\n",
        "    # initantiate the random search model based on parameters defined above\n",
        "    randomized_search = RandomizedSearchCV(estimator = dt, param_distributions = param_grid, scoring=score,cv=5,random_state=100)\n",
        "\n",
        "    randomized_model=randomized_search.fit(x_train,y_train)\n",
        "    return randomized_model"
      ]
    },
    {
      "cell_type": "code",
      "execution_count": null,
      "id": "sPdAbChh4qZ5",
      "metadata": {
        "id": "sPdAbChh4qZ5"
      },
      "outputs": [],
      "source": [
        "\n",
        "#plot feature importance\n",
        "\n",
        "def feature_importance(x_train, model):\n",
        "  features = x_train.columns.values\n",
        "  plt.figure(figsize = (12, 6))\n",
        "  feat_imps = zip(features, model.best_estimator_.feature_importances_)\n",
        "  feats,imps = zip(*(sorted(list(filter(lambda x: x[1] != 0 , feat_imps)), key=lambda x: x[1], reverse=True)))\n",
        "  ax = sns.barplot(x = list(feats), y = list(imps))\n",
        "  ax.tick_params(axis = 'x', rotation = 90)"
      ]
    },
    {
      "cell_type": "markdown",
      "id": "CrV5VVDVlNFy",
      "metadata": {
        "id": "CrV5VVDVlNFy"
      },
      "source": [
        "## Decision Tree for random stratified sampling"
      ]
    },
    {
      "cell_type": "code",
      "execution_count": 15,
      "id": "6D4tiywobucY",
      "metadata": {
        "colab": {
          "base_uri": "https://localhost:8080/",
          "height": 517
        },
        "id": "6D4tiywobucY",
        "outputId": "995a8748-2009-49c2-f0d5-29eaa17611c2"
      },
      "outputs": [
        {
          "name": "stdout",
          "output_type": "stream",
          "text": [
            "optimal hyperparameters {'min_samples_split': 0.2, 'max_leaf_nodes': None, 'max_features': None, 'max_depth': 12, 'ccp_alpha': 1e-06}\n",
            "optimal score 0.8109073571767318\n",
            "test score 0.8109081987825261\n"
          ]
        },
        {
          "data": {
            "image/png": "[encoded data removed]",
            "text/plain": [
              "<Figure size 432x288 with 2 Axes>"
            ]
          },
          "metadata": {
            "needs_background": "light"
          },
          "output_type": "display_data"
        },
        {
          "name": "stdout",
          "output_type": "stream",
          "text": [
            "              precision    recall  f1-score   support\n",
            "\n",
            "         0.0       0.00      0.00      0.00      5363\n",
            "         1.0       0.00      0.00      0.00     19301\n",
            "         2.0       0.81      1.00      0.90    105770\n",
            "\n",
            "    accuracy                           0.81    130434\n",
            "   macro avg       0.27      0.33      0.30    130434\n",
            "weighted avg       0.66      0.81      0.73    130434\n",
            "\n"
          ]
        }
      ],
      "source": [
        "\n",
        "# accuracy as scoring metric\n",
        "random_best = dt_select(x_train,y_train,'accuracy')\n",
        "print(\"optimal hyperparameters\",random_best.best_params_)\n",
        "print(\"optimal score\", random_best.best_score_)\n",
        "print(\"test score\",random_best.score(x_test,y_test))\n",
        "\n",
        "#recall as metric for hyperparamter tuning\n",
        "model_result(random_best, x_train, y_train, x_test, y_test)"
      ]
    },
    {
      "cell_type": "code",
      "execution_count": 16,
      "id": "0ff88a99",
      "metadata": {
        "colab": {
          "base_uri": "https://localhost:8080/",
          "height": 517
        },
        "id": "0ff88a99",
        "outputId": "c386e8db-59e3-41ba-a216-32e666de1db9"
      },
      "outputs": [
        {
          "name": "stdout",
          "output_type": "stream",
          "text": [
            "optimal hyperparameters {'min_samples_split': 0.2, 'max_leaf_nodes': None, 'max_features': None, 'max_depth': 12, 'ccp_alpha': 1e-06}\n",
            "optimal score 0.3333333333333333\n",
            "test score 0.3333333333333333\n"
          ]
        },
        {
          "data": {
            "image/png": "[encoded data removed]",
            "text/plain": [
              "<Figure size 432x288 with 2 Axes>"
            ]
          },
          "metadata": {
            "needs_background": "light"
          },
          "output_type": "display_data"
        },
        {
          "name": "stdout",
          "output_type": "stream",
          "text": [
            "              precision    recall  f1-score   support\n",
            "\n",
            "         0.0       0.00      0.00      0.00      5363\n",
            "         1.0       0.00      0.00      0.00     19301\n",
            "         2.0       0.81      1.00      0.90    105770\n",
            "\n",
            "    accuracy                           0.81    130434\n",
            "   macro avg       0.27      0.33      0.30    130434\n",
            "weighted avg       0.66      0.81      0.73    130434\n",
            "\n"
          ]
        }
      ],
      "source": [
        "# random stratified sampling\n",
        "# recall as scoring metric\n",
        "random_best = dt_select(x_train,y_train,'recall_macro')\n",
        "print(\"optimal hyperparameters\",random_best.best_params_)\n",
        "print(\"optimal score\", random_best.best_score_)\n",
        "print(\"test score\",random_best.score(x_test,y_test))\n",
        "\n",
        "#recall as metric for hyperparamter tuning\n",
        "model_result(random_best, x_train, y_train, x_test, y_test)\n",
        "\n"
      ]
    },
    {
      "cell_type": "code",
      "execution_count": 17,
      "id": "vieNtozt86qo",
      "metadata": {
        "colab": {
          "base_uri": "https://localhost:8080/",
          "height": 517
        },
        "id": "vieNtozt86qo",
        "outputId": "85bfca2e-cb40-4e17-a5a0-208f90c58b7e"
      },
      "outputs": [
        {
          "name": "stdout",
          "output_type": "stream",
          "text": [
            "optimal hyperparameters {'min_samples_split': 0.2, 'max_leaf_nodes': None, 'max_features': None, 'max_depth': 12, 'ccp_alpha': 1e-06}\n",
            "optimal f1 score 0.29852709065529426\n",
            "test f1 score 0.2985272617454969\n"
          ]
        },
        {
          "data": {
            "image/png": "[encoded data removed]",
            "text/plain": [
              "<Figure size 432x288 with 2 Axes>"
            ]
          },
          "metadata": {
            "needs_background": "light"
          },
          "output_type": "display_data"
        },
        {
          "name": "stdout",
          "output_type": "stream",
          "text": [
            "              precision    recall  f1-score   support\n",
            "\n",
            "         0.0       0.00      0.00      0.00      5363\n",
            "         1.0       0.00      0.00      0.00     19301\n",
            "         2.0       0.81      1.00      0.90    105770\n",
            "\n",
            "    accuracy                           0.81    130434\n",
            "   macro avg       0.27      0.33      0.30    130434\n",
            "weighted avg       0.66      0.81      0.73    130434\n",
            "\n"
          ]
        }
      ],
      "source": [
        "#f1 as scoring metric\n",
        "random_best = dt_select(x_train,y_train,'f1_macro')\n",
        "print(\"optimal hyperparameters\",random_best.best_params_)\n",
        "print(\"optimal f1 score\", random_best.best_score_)\n",
        "print(\"test f1 score\",random_best.score(x_test,y_test))\n",
        "#f1 as metric for hyperparamter tuning\n",
        "model_result(random_best, x_train, y_train, x_test, y_test)"
      ]
    },
    {
      "cell_type": "markdown",
      "id": "xz4sQD11lE99",
      "metadata": {
        "id": "xz4sQD11lE99"
      },
      "source": [
        "## Decision Tree for random over sampling"
      ]
    },
    {
      "cell_type": "code",
      "execution_count": 18,
      "id": "Ho1fuUdqpo3D",
      "metadata": {
        "colab": {
          "base_uri": "https://localhost:8080/",
          "height": 517
        },
        "id": "Ho1fuUdqpo3D",
        "outputId": "9b9cae2c-b2a6-4c57-8ad4-9e1520cf853b"
      },
      "outputs": [
        {
          "name": "stdout",
          "output_type": "stream",
          "text": [
            "optimal hyperparameters {'min_samples_split': 0.1, 'max_leaf_nodes': None, 'max_features': None, 'max_depth': 20, 'ccp_alpha': 1e-05}\n",
            "optimal score 0.42521139435335636\n",
            "test score 0.4216232268146592\n"
          ]
        },
        {
          "data": {
            "image/png": "[encoded data removed]",
            "text/plain": [
              "<Figure size 432x288 with 2 Axes>"
            ]
          },
          "metadata": {
            "needs_background": "light"
          },
          "output_type": "display_data"
        },
        {
          "name": "stdout",
          "output_type": "stream",
          "text": [
            "              precision    recall  f1-score   support\n",
            "\n",
            "         0.0       0.07      0.49      0.12      5363\n",
            "         1.0       0.19      0.15      0.17     19301\n",
            "         2.0       0.85      0.63      0.72    105770\n",
            "\n",
            "    accuracy                           0.55    130434\n",
            "   macro avg       0.37      0.42      0.34    130434\n",
            "weighted avg       0.72      0.55      0.62    130434\n",
            "\n"
          ]
        }
      ],
      "source": [
        "\n",
        "# recall as scoring metric\n",
        "over_best_recall = dt_select(x_ros, y_ros,'recall_macro')\n",
        "print(\"optimal hyperparameters\",over_best_recall.best_params_)\n",
        "print(\"optimal score\", over_best_recall.best_score_)\n",
        "print(\"test score\",over_best_recall.score(x_test,y_test))\n",
        "\n",
        "# recallmacro as metric for hyperparamter tuning\n",
        "model_result(over_best_recall, x_ros, y_ros, x_test, y_test)"
      ]
    },
    {
      "cell_type": "code",
      "execution_count": 19,
      "id": "lWd7mX4ydrp1",
      "metadata": {
        "colab": {
          "base_uri": "https://localhost:8080/",
          "height": 517
        },
        "id": "lWd7mX4ydrp1",
        "outputId": "78f635d9-5963-401f-8e84-12f92093065b"
      },
      "outputs": [
        {
          "name": "stdout",
          "output_type": "stream",
          "text": [
            "optimal hyperparameters {'min_samples_split': 0.1, 'max_leaf_nodes': None, 'max_features': None, 'max_depth': 20, 'ccp_alpha': 1e-05}\n",
            "optimal accuracy score 0.4252114213595847\n",
            "test accuracy 0.552677982734563\n"
          ]
        },
        {
          "data": {
            "image/png": "[encoded data removed]",
            "text/plain": [
              "<Figure size 432x288 with 2 Axes>"
            ]
          },
          "metadata": {
            "needs_background": "light"
          },
          "output_type": "display_data"
        },
        {
          "name": "stdout",
          "output_type": "stream",
          "text": [
            "              precision    recall  f1-score   support\n",
            "\n",
            "         0.0       0.07      0.49      0.12      5363\n",
            "         1.0       0.19      0.15      0.17     19301\n",
            "         2.0       0.85      0.63      0.72    105770\n",
            "\n",
            "    accuracy                           0.55    130434\n",
            "   macro avg       0.37      0.42      0.34    130434\n",
            "weighted avg       0.72      0.55      0.62    130434\n",
            "\n"
          ]
        }
      ],
      "source": [
        "# accuracy as score metric\n",
        "over_best_acc = dt_select(x_ros, y_ros,'accuracy')\n",
        "print(\"optimal hyperparameters\",over_best_acc.best_params_)\n",
        "print(\"optimal accuracy score\", over_best_acc.best_score_)\n",
        "print(\"test accuracy\",over_best_acc.score(x_test,y_test))\n",
        "\n",
        "# as metric for hyperparamter tuning\n",
        "model_result(over_best_acc, x_ros, y_ros, x_test, y_test)"
      ]
    },
    {
      "cell_type": "code",
      "execution_count": 20,
      "id": "RYNneMIuc_Ix",
      "metadata": {
        "colab": {
          "base_uri": "https://localhost:8080/",
          "height": 517
        },
        "id": "RYNneMIuc_Ix",
        "outputId": "f05d4e8c-f356-4661-c606-6fbba132c68c"
      },
      "outputs": [
        {
          "name": "stdout",
          "output_type": "stream",
          "text": [
            "optimal hyperparameters {'min_samples_split': 0.2, 'max_leaf_nodes': None, 'max_features': None, 'max_depth': 12, 'ccp_alpha': 1e-06}\n",
            "optimal f1 score 0.40025096917702496\n",
            "test f1 score 0.3201379887339995\n"
          ]
        },
        {
          "data": {
            "image/png": "[encoded data removed]",
            "text/plain": [
              "<Figure size 432x288 with 2 Axes>"
            ]
          },
          "metadata": {
            "needs_background": "light"
          },
          "output_type": "display_data"
        },
        {
          "name": "stdout",
          "output_type": "stream",
          "text": [
            "              precision    recall  f1-score   support\n",
            "\n",
            "         0.0       0.07      0.47      0.12      5363\n",
            "         1.0       0.16      0.26      0.20     19301\n",
            "         2.0       0.85      0.51      0.64    105770\n",
            "\n",
            "    accuracy                           0.47    130434\n",
            "   macro avg       0.36      0.41      0.32    130434\n",
            "weighted avg       0.72      0.47      0.55    130434\n",
            "\n"
          ]
        }
      ],
      "source": [
        "# f1 as score metric\n",
        "over_best_f1 = dt_select(x_ros, y_ros,'f1_macro')\n",
        "print(\"optimal hyperparameters\",over_best_f1.best_params_)\n",
        "print(\"optimal f1 score\", over_best_f1.best_score_)\n",
        "print(\"test f1 score\",over_best_f1.score(x_test,y_test))\n",
        "\n",
        "#f1 as metric for hyperparamter tuning\n",
        "model_result(over_best_f1, x_ros, y_ros, x_test, y_test)"
      ]
    },
    {
      "cell_type": "markdown",
      "id": "4Drp3wnRlbmm",
      "metadata": {
        "id": "4Drp3wnRlbmm"
      },
      "source": [
        "## Decision Tree for random under sampling"
      ]
    },
    {
      "cell_type": "code",
      "execution_count": 21,
      "id": "Q7piVgS6e3sa",
      "metadata": {
        "colab": {
          "base_uri": "https://localhost:8080/",
          "height": 520
        },
        "id": "Q7piVgS6e3sa",
        "outputId": "76f91928-40e6-4e73-c4e0-410e1638c5b7"
      },
      "outputs": [
        {
          "name": "stdout",
          "output_type": "stream",
          "text": [
            "optimal hyperparameters {'min_samples_split': 0.1, 'max_leaf_nodes': None, 'max_features': None, 'max_depth': 20, 'ccp_alpha': 1e-05}\n",
            "optimal accuracy score 0.42282814886132025\n",
            "test accuracy score 0.5130334115338026\n"
          ]
        },
        {
          "data": {
            "image/png": "[encoded data removed]",
            "text/plain": [
              "<Figure size 432x288 with 2 Axes>"
            ]
          },
          "metadata": {
            "needs_background": "light"
          },
          "output_type": "display_data"
        },
        {
          "name": "stdout",
          "output_type": "stream",
          "text": [
            "              precision    recall  f1-score   support\n",
            "\n",
            "         0.0       0.07      0.49      0.12      5363\n",
            "         1.0       0.17      0.20      0.18     19301\n",
            "         2.0       0.85      0.57      0.68    105770\n",
            "\n",
            "    accuracy                           0.51    130434\n",
            "   macro avg       0.36      0.42      0.33    130434\n",
            "weighted avg       0.72      0.51      0.59    130434\n",
            "\n"
          ]
        }
      ],
      "source": [
        "# random under sampling\n",
        "# accuracy as scoring metric\n",
        "\n",
        "under_best_acc = dt_select(x_rus, y_rus,'accuracy')\n",
        "print(\"optimal hyperparameters\",under_best_acc.best_params_)\n",
        "print(\"optimal accuracy score\", under_best_acc.best_score_)\n",
        "print(\"test accuracy score\",under_best_acc.score(x_test,y_test))\n",
        "# accuracy as metric for hyperparamter pruning\n",
        "model_result(under_best_acc, x_rus, y_rus, x_test, y_test)"
      ]
    },
    {
      "cell_type": "code",
      "execution_count": 22,
      "id": "7946bf4c",
      "metadata": {
        "colab": {
          "base_uri": "https://localhost:8080/",
          "height": 520
        },
        "id": "7946bf4c",
        "outputId": "996616f8-6341-4468-e64a-3b4e09fde4f6"
      },
      "outputs": [
        {
          "name": "stdout",
          "output_type": "stream",
          "text": [
            "optimal hyperparameters {'min_samples_split': 0.1, 'max_leaf_nodes': None, 'max_features': None, 'max_depth': 20, 'ccp_alpha': 1e-05}\n",
            "optimal recall score 0.4228293714894356\n",
            "test recall score 0.4202120521676436\n"
          ]
        },
        {
          "data": {
            "image/png": "[encoded data removed]",
            "text/plain": [
              "<Figure size 432x288 with 2 Axes>"
            ]
          },
          "metadata": {
            "needs_background": "light"
          },
          "output_type": "display_data"
        },
        {
          "name": "stdout",
          "output_type": "stream",
          "text": [
            "              precision    recall  f1-score   support\n",
            "\n",
            "         0.0       0.07      0.49      0.12      5363\n",
            "         1.0       0.17      0.20      0.18     19301\n",
            "         2.0       0.85      0.57      0.68    105770\n",
            "\n",
            "    accuracy                           0.51    130434\n",
            "   macro avg       0.36      0.42      0.33    130434\n",
            "weighted avg       0.72      0.51      0.59    130434\n",
            "\n"
          ]
        }
      ],
      "source": [
        "\n",
        "# recall as scoring metric\n",
        "under_best_recall = dt_select(x_rus, y_rus,'recall_macro')\n",
        "print(\"optimal hyperparameters\",under_best_recall.best_params_)\n",
        "print(\"optimal recall score\", under_best_recall.best_score_)\n",
        "print(\"test recall score\",under_best_recall.score(x_test,y_test))\n",
        "\n",
        "# recall as metric for hyperparamter tuning\n",
        "model_result(under_best_recall, x_rus, y_rus, x_test, y_test)\n",
        "\n"
      ]
    },
    {
      "cell_type": "code",
      "execution_count": 24,
      "id": "9NOvU47SePvG",
      "metadata": {
        "colab": {
          "base_uri": "https://localhost:8080/",
          "height": 520
        },
        "id": "9NOvU47SePvG",
        "outputId": "ebdc9014-7740-4899-ee2d-5e17524b53ed"
      },
      "outputs": [
        {
          "name": "stdout",
          "output_type": "stream",
          "text": [
            "optimal hyperparameters {'min_samples_split': 0.1, 'max_leaf_nodes': None, 'max_features': None, 'max_depth': 20, 'ccp_alpha': 1e-05}\n",
            "optimal f1 score 0.4097896911316369\n",
            "test f1 score 0.3311391234276632\n"
          ]
        },
        {
          "data": {
            "image/png": "[encoded data removed]",
            "text/plain": [
              "<Figure size 432x288 with 2 Axes>"
            ]
          },
          "metadata": {
            "needs_background": "light"
          },
          "output_type": "display_data"
        },
        {
          "name": "stdout",
          "output_type": "stream",
          "text": [
            "              precision    recall  f1-score   support\n",
            "\n",
            "         0.0       0.07      0.49      0.12      5363\n",
            "         1.0       0.17      0.20      0.18     19301\n",
            "         2.0       0.85      0.57      0.68    105770\n",
            "\n",
            "    accuracy                           0.51    130434\n",
            "   macro avg       0.36      0.42      0.33    130434\n",
            "weighted avg       0.72      0.51      0.59    130434\n",
            "\n"
          ]
        }
      ],
      "source": [
        "# f1 as score metric\n",
        "under_best_f1 = dt_select(x_rus, y_rus,'f1_macro')\n",
        "print(\"optimal hyperparameters\",under_best_f1.best_params_)\n",
        "print(\"optimal f1 score\", under_best_f1.best_score_)\n",
        "print(\"test f1 score\",under_best_f1.score(x_test,y_test))\n",
        "# f1 as metric for hyperparamter pruning\n",
        "model_result(under_best_f1, x_rus, y_rus, x_test, y_test)"
      ]
    },
    {
      "cell_type": "markdown",
      "id": "kDEc_pfGlgRB",
      "metadata": {
        "id": "kDEc_pfGlgRB"
      },
      "source": [
        "## Decison Tree for smote sampling"
      ]
    },
    {
      "cell_type": "code",
      "execution_count": 25,
      "id": "qw1iLp8lidPG",
      "metadata": {
        "colab": {
          "base_uri": "https://localhost:8080/",
          "height": 517
        },
        "id": "qw1iLp8lidPG",
        "outputId": "165d2b06-5937-4175-8457-cbdac6e350dc"
      },
      "outputs": [
        {
          "name": "stdout",
          "output_type": "stream",
          "text": [
            "optimal hyperparameters {'min_samples_split': 0.1, 'max_leaf_nodes': None, 'max_features': None, 'max_depth': 20, 'ccp_alpha': 1e-05}\n",
            "optimal recall score 0.42784390717769993\n",
            "test recall score 0.41559624496818587\n"
          ]
        },
        {
          "data": {
            "image/png": "[encoded data removed]",
            "text/plain": [
              "<Figure size 432x288 with 2 Axes>"
            ]
          },
          "metadata": {
            "needs_background": "light"
          },
          "output_type": "display_data"
        },
        {
          "name": "stdout",
          "output_type": "stream",
          "text": [
            "              precision    recall  f1-score   support\n",
            "\n",
            "         0.0       0.07      0.46      0.12      5363\n",
            "         1.0       0.17      0.19      0.18     19301\n",
            "         2.0       0.85      0.60      0.70    105770\n",
            "\n",
            "    accuracy                           0.53    130434\n",
            "   macro avg       0.36      0.42      0.34    130434\n",
            "weighted avg       0.72      0.53      0.60    130434\n",
            "\n"
          ]
        }
      ],
      "source": [
        "\n",
        "# recall as metric\n",
        "smote_best = dt_select(x_smote, y_smote,\"recall_macro\")\n",
        "print(\"optimal hyperparameters\",smote_best.best_params_)\n",
        "print(\"optimal recall score\", smote_best.best_score_)\n",
        "print(\"test recall score\",smote_best.score(x_test,y_test))\n",
        "\n",
        "#recall as metric for hyperparamter pruning\n",
        "model_result(smote_best, x_smote, y_smote, x_test, y_test)"
      ]
    },
    {
      "cell_type": "code",
      "execution_count": 26,
      "id": "UwskefVffcyf",
      "metadata": {
        "colab": {
          "base_uri": "https://localhost:8080/",
          "height": 517
        },
        "id": "UwskefVffcyf",
        "outputId": "37db000f-41cc-4f13-e70f-0779fbd02c45"
      },
      "outputs": [
        {
          "name": "stdout",
          "output_type": "stream",
          "text": [
            "optimal hyperparameters {'min_samples_split': 0.1, 'max_leaf_nodes': None, 'max_features': None, 'max_depth': 20, 'ccp_alpha': 1e-05}\n",
            "optimal score 0.427843910192804\n",
            "test score 0.5342548721958998\n"
          ]
        },
        {
          "data": {
            "image/png": "[encoded data removed]",
            "text/plain": [
              "<Figure size 432x288 with 2 Axes>"
            ]
          },
          "metadata": {
            "needs_background": "light"
          },
          "output_type": "display_data"
        },
        {
          "name": "stdout",
          "output_type": "stream",
          "text": [
            "              precision    recall  f1-score   support\n",
            "\n",
            "         0.0       0.07      0.46      0.12      5363\n",
            "         1.0       0.17      0.19      0.18     19301\n",
            "         2.0       0.85      0.60      0.70    105770\n",
            "\n",
            "    accuracy                           0.53    130434\n",
            "   macro avg       0.36      0.42      0.34    130434\n",
            "weighted avg       0.72      0.53      0.60    130434\n",
            "\n"
          ]
        }
      ],
      "source": [
        "# accuracy as metric\n",
        "smote_best_acc = dt_select(x_smote, y_smote,\"accuracy\")\n",
        "print(\"optimal hyperparameters\",smote_best_acc.best_params_)\n",
        "print(\"optimal score\", smote_best_acc.best_score_)\n",
        "print(\"test score\",smote_best_acc.score(x_test,y_test))\n",
        "\n",
        "#accuracy as metric for hyperparamter pruning\n",
        "model_result(smote_best_acc, x_smote, y_smote, x_test, y_test)"
      ]
    },
    {
      "cell_type": "code",
      "execution_count": 27,
      "id": "632b22bd",
      "metadata": {
        "colab": {
          "base_uri": "https://localhost:8080/",
          "height": 517
        },
        "id": "632b22bd",
        "outputId": "d905cc5a-ca99-406a-ef29-459922ecb2db"
      },
      "outputs": [
        {
          "name": "stdout",
          "output_type": "stream",
          "text": [
            "optimal hyperparameters {'min_samples_split': 0.1, 'max_leaf_nodes': None, 'max_features': None, 'max_depth': 20, 'ccp_alpha': 1e-05}\n",
            "optimal f1 score 0.4084079737595042\n",
            "test f1 score 0.33512061923807873\n"
          ]
        },
        {
          "data": {
            "image/png": "[encoded data removed]",
            "text/plain": [
              "<Figure size 432x288 with 2 Axes>"
            ]
          },
          "metadata": {
            "needs_background": "light"
          },
          "output_type": "display_data"
        },
        {
          "name": "stdout",
          "output_type": "stream",
          "text": [
            "              precision    recall  f1-score   support\n",
            "\n",
            "         0.0       0.07      0.46      0.12      5363\n",
            "         1.0       0.17      0.19      0.18     19301\n",
            "         2.0       0.85      0.60      0.70    105770\n",
            "\n",
            "    accuracy                           0.53    130434\n",
            "   macro avg       0.36      0.42      0.34    130434\n",
            "weighted avg       0.72      0.53      0.60    130434\n",
            "\n"
          ]
        }
      ],
      "source": [
        "# f1 sccore as metric\n",
        "smote_best_f1 = dt_select(x_smote, y_smote,'f1_macro')\n",
        "print(\"optimal hyperparameters\",smote_best_f1.best_params_)\n",
        "print(\"optimal f1 score\", smote_best_f1.best_score_)\n",
        "print(\"test f1 score\",smote_best_f1.score(x_test,y_test))\n",
        "# f1 as metric for hyperparamter pruning\n",
        "model_result(smote_best_f1, x_smote, y_smote, x_test, y_test)\n",
        "\n"
      ]
    },
    {
      "cell_type": "markdown",
      "id": "JfgVcmm7BKCm",
      "metadata": {
        "id": "JfgVcmm7BKCm"
      },
      "source": [
        "overall, recall as a scoring metric for tunning is best for predicting bad and fair trees well.\n",
        "\n",
        "under sampling is best in having highest recall in poor and fair trees, which means have highest rate in predicting correct poor and fair trees."
      ]
    },
    {
      "cell_type": "markdown",
      "id": "nL_pXEuulgC4",
      "metadata": {
        "id": "nL_pXEuulgC4"
      },
      "source": [
        "## Decision tree: feature importance\n",
        "\n",
        "print feature importance plot for the best model: under sampling method\n",
        "\n",
        "optimal hyperparameters: {'min_samples_split': 0.1, 'max_leaf_nodes': None, 'max_features': None, 'max_depth': 20, 'ccp_alpha': 1e-05}"
      ]
    },
    {
      "cell_type": "code",
      "execution_count": 48,
      "id": "L5b4z2FJ47is",
      "metadata": {
        "colab": {
          "base_uri": "https://localhost:8080/",
          "height": 450
        },
        "id": "L5b4z2FJ47is",
        "outputId": "82b5ba91-f03f-49c8-863f-091417b85b65"
      },
      "outputs": [
        {
          "data": {
            "image/png": "[encoded data removed]",
            "text/plain": [
              "<Figure size 864x432 with 1 Axes>"
            ]
          },
          "metadata": {
            "needs_background": "light"
          },
          "output_type": "display_data"
        }
      ],
      "source": [
        "feature_importance(x_rus, under_best_recall)"
      ]
    },
    {
      "cell_type": "markdown",
      "id": "ePFhR_6igvEH",
      "metadata": {
        "id": "ePFhR_6igvEH"
      },
      "source": [
        "# SVM"
      ]
    },
    {
      "cell_type": "code",
      "execution_count": 29,
      "id": "b6FxdLN5g2oq",
      "metadata": {
        "id": "b6FxdLN5g2oq"
      },
      "outputs": [],
      "source": [
        "## svm model\n",
        "\n",
        "\n",
        "\"\"\"\n",
        "A short cut to print the svm model result.\n",
        "    Args:\n",
        "        svm: the svm model.\n",
        "        X_train: training data of X.\n",
        "        y_train: training data of y.\n",
        "        X_test: testing data of X.   \n",
        "        y_test: testing data of y.\n",
        "        report_test: boolean; print the classification report of testing data if true, default as True.\n",
        "        report_train: boolean; print the classification report of training data if true, default as False.\n",
        "        cf: boolean; print the confusion matrix if true, default as False.\n",
        "    Returns:\n",
        "        Print the training and the testing accuracy.\n",
        "        Return the classification report if report = True.\n",
        "        Return the confusion matrix if report = True.\n",
        "\"\"\"\n",
        "def SVM_result(svm, X_train, y_train, X_test, y_test, report_test = True, report_train = False, cf = False):\n",
        "    # fit the model\n",
        "    svm.fit(X_train, y_train)\n",
        "    # predict y\n",
        "    y_train_predict = svm.predict(X_train)\n",
        "    y_test_predict = svm.predict(X_test)    \n",
        "    # show result report on testing data\n",
        "    if (report_test):\n",
        "        print(\"Result on test data:\")\n",
        "        print(classification_report(y_test, y_test_predict))\n",
        "    # show result report on training data\n",
        "    if (report_train):\n",
        "        print(\"Result on training data:\")\n",
        "        print(classification_report(y_train, y_train_predict))\n",
        "    # show confusion_matrix\n",
        "    if (cf):\n",
        "        cf = confusion_matrix(y_test, y_test_predict)\n",
        "        sns.heatmap(cf, annot = True, fmt = 'g')"
      ]
    },
    {
      "cell_type": "code",
      "execution_count": 30,
      "id": "_zhx9PJ7hMkE",
      "metadata": {
        "id": "_zhx9PJ7hMkE"
      },
      "outputs": [],
      "source": [
        "#Modeling and hyperparameter tuning for different sampling\n",
        "\n",
        "# Basic SVM models\n",
        "warnings.filterwarnings('ignore')\n",
        "# primal svm (for large data set) before hyperparameter tuning\n",
        "svm = LinearSVC(tol=0.0001, dual = False, random_state = 2022) \n",
        "# random search for hyperparameter tuning\n",
        "param_list = {'C': stats.uniform(0, 5), \n",
        "              'loss': ['hinge', 'squared_hinge']} # random list for hyperparameter tuning \n",
        "rand_search_ac = RandomizedSearchCV(svm, \n",
        "                                    param_distributions = param_list, \n",
        "                                    cv = 5,\n",
        "                                    scoring = 'accuracy',\n",
        "                                    random_state = 2022) \n",
        "\n",
        "rand_search_f1 = RandomizedSearchCV(svm, \n",
        "                                    param_distributions = param_list, \n",
        "                                    cv = 5,\n",
        "                                    scoring = 'f1_macro',\n",
        "                                    random_state = 2022) \n",
        "\n",
        "rand_search_recall = RandomizedSearchCV(svm, \n",
        "                                        param_distributions = param_list, \n",
        "                                        cv = 5,\n",
        "                                        scoring = 'recall_macro',\n",
        "                                        random_state = 2022) "
      ]
    },
    {
      "cell_type": "markdown",
      "id": "1SchnjXvhn-2",
      "metadata": {
        "id": "1SchnjXvhn-2"
      },
      "source": [
        "## SVM for random stratified sampling"
      ]
    },
    {
      "cell_type": "code",
      "execution_count": 32,
      "id": "GiADDSBihhQS",
      "metadata": {
        "colab": {
          "base_uri": "https://localhost:8080/"
        },
        "id": "GiADDSBihhQS",
        "outputId": "f30cd022-9ec8-43f5-d73e-4b0a0b4e2c87"
      },
      "outputs": [
        {
          "name": "stdout",
          "output_type": "stream",
          "text": [
            "Best parameters for tuning on accuray: {'C': 2.5660378900685785, 'loss': 'squared_hinge'}\n",
            "Result on test data:\n",
            "              precision    recall  f1-score   support\n",
            "\n",
            "         0.0       0.00      0.00      0.00      5363\n",
            "         1.0       0.35      0.01      0.02     19301\n",
            "         2.0       0.81      1.00      0.90    105770\n",
            "\n",
            "    accuracy                           0.81    130434\n",
            "   macro avg       0.39      0.34      0.31    130434\n",
            "weighted avg       0.71      0.81      0.73    130434\n",
            "\n",
            "Best parameters for tuning on f1: {'C': 2.5660378900685785, 'loss': 'squared_hinge'}\n",
            "Result on test data:\n",
            "              precision    recall  f1-score   support\n",
            "\n",
            "         0.0       0.00      0.00      0.00      5363\n",
            "         1.0       0.35      0.01      0.02     19301\n",
            "         2.0       0.81      1.00      0.90    105770\n",
            "\n",
            "    accuracy                           0.81    130434\n",
            "   macro avg       0.39      0.34      0.31    130434\n",
            "weighted avg       0.71      0.81      0.73    130434\n",
            "\n",
            "Best parameters for tuning on macro recall: {'C': 2.5660378900685785, 'loss': 'squared_hinge'}\n",
            "Result on test data:\n",
            "              precision    recall  f1-score   support\n",
            "\n",
            "         0.0       0.00      0.00      0.00      5363\n",
            "         1.0       0.35      0.01      0.02     19301\n",
            "         2.0       0.81      1.00      0.90    105770\n",
            "\n",
            "    accuracy                           0.81    130434\n",
            "   macro avg       0.39      0.34      0.31    130434\n",
            "weighted avg       0.71      0.81      0.73    130434\n",
            "\n"
          ]
        }
      ],
      "source": [
        "\n",
        "# Hyperparameter tuning random Sampling\n",
        "\n",
        "# accuracy as scoring metric\n",
        "rand_search_ac.fit(x_train, y_train)\n",
        "print(f\"Best parameters for tuning on accuray: {rand_search_ac.best_params_}\")\n",
        "SVM_result(rand_search_ac.best_estimator_, x_train, y_train, x_test, y_test)\n",
        "\n",
        "# f1 as scoring metric\n",
        "rand_search_f1.fit(x_train, y_train) \n",
        "print(f\"Best parameters for tuning on f1: {rand_search_f1.best_params_}\")\n",
        "SVM_result(rand_search_f1.best_estimator_, x_train, y_train, x_test, y_test)\n",
        "\n",
        "# macro-recall as scoring metric\n",
        "rand_search_recall.fit(x_train, y_train) \n",
        "print(f\"Best parameters for tuning on macro recall: {rand_search_recall.best_params_}\")\n",
        "SVM_result(rand_search_recall.best_estimator_, x_train, y_train, x_test, y_test)"
      ]
    },
    {
      "cell_type": "markdown",
      "id": "XRfVxy7tiF5H",
      "metadata": {
        "id": "XRfVxy7tiF5H"
      },
      "source": [
        "## SVM for random under sampling"
      ]
    },
    {
      "cell_type": "code",
      "execution_count": 33,
      "id": "NhdxsZmziGI7",
      "metadata": {
        "colab": {
          "base_uri": "https://localhost:8080/"
        },
        "id": "NhdxsZmziGI7",
        "outputId": "54be6139-da04-45aa-cf17-32257d42d80d"
      },
      "outputs": [
        {
          "name": "stdout",
          "output_type": "stream",
          "text": [
            "Best parameters for tuning on accuray: {'C': 0.04679306903882352, 'loss': 'squared_hinge'}\n",
            "Result on test data:\n",
            "              precision    recall  f1-score   support\n",
            "\n",
            "         0.0       0.07      0.53      0.12      5363\n",
            "         1.0       0.18      0.16      0.17     19301\n",
            "         2.0       0.85      0.56      0.68    105770\n",
            "\n",
            "    accuracy                           0.50    130434\n",
            "   macro avg       0.36      0.42      0.32    130434\n",
            "weighted avg       0.72      0.50      0.58    130434\n",
            "\n",
            "Best parameters for tuning on f1: {'C': 0.04679306903882352, 'loss': 'squared_hinge'}\n",
            "Result on test data:\n",
            "              precision    recall  f1-score   support\n",
            "\n",
            "         0.0       0.07      0.53      0.12      5363\n",
            "         1.0       0.18      0.16      0.17     19301\n",
            "         2.0       0.85      0.56      0.68    105770\n",
            "\n",
            "    accuracy                           0.50    130434\n",
            "   macro avg       0.36      0.42      0.32    130434\n",
            "weighted avg       0.72      0.50      0.58    130434\n",
            "\n",
            "Best parameters for tuning on macro recall: {'C': 0.04679306903882352, 'loss': 'squared_hinge'}\n",
            "Result on test data:\n",
            "              precision    recall  f1-score   support\n",
            "\n",
            "         0.0       0.07      0.53      0.12      5363\n",
            "         1.0       0.18      0.16      0.17     19301\n",
            "         2.0       0.85      0.56      0.68    105770\n",
            "\n",
            "    accuracy                           0.50    130434\n",
            "   macro avg       0.36      0.42      0.32    130434\n",
            "weighted avg       0.72      0.50      0.58    130434\n",
            "\n"
          ]
        }
      ],
      "source": [
        "# Hyperparameter tuning under sampling\n",
        "\n",
        "# accuracy as scoring metric\n",
        "rand_search_ac.fit(x_rus, y_rus)\n",
        "print(f\"Best parameters for tuning on accuray: {rand_search_ac.best_params_}\")\n",
        "SVM_result(rand_search_ac.best_estimator_, x_rus, y_rus, x_test, y_test)\n",
        "\n",
        "# f1 as scoring metric\n",
        "rand_search_f1.fit(x_rus, y_rus) \n",
        "print(f\"Best parameters for tuning on f1: {rand_search_f1.best_params_}\")\n",
        "SVM_result(rand_search_f1.best_estimator_, x_rus, y_rus, x_test, y_test)\n",
        "\n",
        "# macro-recall as scoring metric\n",
        "rand_search_recall.fit(x_rus, y_rus) \n",
        "print(f\"Best parameters for tuning on macro recall: {rand_search_recall.best_params_}\")\n",
        "SVM_result(rand_search_recall.best_estimator_, x_rus, y_rus, x_test, y_test)\n"
      ]
    },
    {
      "cell_type": "markdown",
      "id": "K747HIjGigzc",
      "metadata": {
        "id": "K747HIjGigzc"
      },
      "source": [
        "## SVM for random over sampling"
      ]
    },
    {
      "cell_type": "code",
      "execution_count": 34,
      "id": "Hp7EaALPikpj",
      "metadata": {
        "colab": {
          "base_uri": "https://localhost:8080/"
        },
        "id": "Hp7EaALPikpj",
        "outputId": "9b27297e-2041-49fc-de91-6cd3e50f2e17"
      },
      "outputs": [
        {
          "name": "stdout",
          "output_type": "stream",
          "text": [
            "Best parameters for tuning on accuray: {'C': 4.620282385385153, 'loss': 'squared_hinge'}\n",
            "Result on test data:\n",
            "              precision    recall  f1-score   support\n",
            "\n",
            "         0.0       0.07      0.53      0.12      5363\n",
            "         1.0       0.18      0.15      0.16     19301\n",
            "         2.0       0.85      0.57      0.68    105770\n",
            "\n",
            "    accuracy                           0.51    130434\n",
            "   macro avg       0.37      0.42      0.32    130434\n",
            "weighted avg       0.72      0.51      0.58    130434\n",
            "\n",
            "Best parameters for tuning on f1: {'C': 0.04679306903882352, 'loss': 'squared_hinge'}\n",
            "Result on test data:\n",
            "              precision    recall  f1-score   support\n",
            "\n",
            "         0.0       0.07      0.53      0.12      5363\n",
            "         1.0       0.18      0.15      0.16     19301\n",
            "         2.0       0.85      0.57      0.68    105770\n",
            "\n",
            "    accuracy                           0.51    130434\n",
            "   macro avg       0.37      0.42      0.32    130434\n",
            "weighted avg       0.72      0.51      0.58    130434\n",
            "\n",
            "Best parameters for tuning on macro recall: {'C': 4.620282385385153, 'loss': 'squared_hinge'}\n",
            "Result on test data:\n",
            "              precision    recall  f1-score   support\n",
            "\n",
            "         0.0       0.07      0.53      0.12      5363\n",
            "         1.0       0.18      0.15      0.16     19301\n",
            "         2.0       0.85      0.57      0.68    105770\n",
            "\n",
            "    accuracy                           0.51    130434\n",
            "   macro avg       0.37      0.42      0.32    130434\n",
            "weighted avg       0.72      0.51      0.58    130434\n",
            "\n"
          ]
        }
      ],
      "source": [
        "# Hyperparameter tuning over sampling\n",
        "\n",
        "# accuracy as scoring metric\n",
        "rand_search_ac.fit(x_ros, y_ros)\n",
        "print(f\"Best parameters for tuning on accuray: {rand_search_ac.best_params_}\")\n",
        "SVM_result(rand_search_ac.best_estimator_, x_ros, y_ros, x_test, y_test)\n",
        "\n",
        "# f1 as scoring metric\n",
        "rand_search_f1.fit(x_ros, y_ros) \n",
        "print(f\"Best parameters for tuning on f1: {rand_search_f1.best_params_}\")\n",
        "SVM_result(rand_search_f1.best_estimator_, x_ros, y_ros, x_test, y_test)\n",
        "\n",
        "# macro-recall as scoring metric\n",
        "rand_search_recall.fit(x_ros, y_ros) \n",
        "print(f\"Best parameters for tuning on macro recall: {rand_search_recall.best_params_}\")\n",
        "SVM_result(rand_search_recall.best_estimator_, x_ros, y_ros, x_test, y_test)"
      ]
    },
    {
      "cell_type": "markdown",
      "id": "_x4MmbCPioOu",
      "metadata": {
        "id": "_x4MmbCPioOu"
      },
      "source": [
        "## SVM for smote sampling"
      ]
    },
    {
      "cell_type": "code",
      "execution_count": 35,
      "id": "FR98m89_ioXp",
      "metadata": {
        "colab": {
          "base_uri": "https://localhost:8080/"
        },
        "id": "FR98m89_ioXp",
        "outputId": "09642fba-bca0-44f1-df9d-aa4b928c2aeb"
      },
      "outputs": [
        {
          "name": "stdout",
          "output_type": "stream",
          "text": [
            "Best parameters for tuning on accuray: {'C': 2.5660378900685785, 'loss': 'squared_hinge'}\n",
            "Result on test data:\n",
            "              precision    recall  f1-score   support\n",
            "\n",
            "         0.0       0.06      0.54      0.12      5363\n",
            "         1.0       0.18      0.16      0.17     19301\n",
            "         2.0       0.85      0.56      0.67    105770\n",
            "\n",
            "    accuracy                           0.50    130434\n",
            "   macro avg       0.37      0.42      0.32    130434\n",
            "weighted avg       0.72      0.50      0.58    130434\n",
            "\n",
            "Best parameters for tuning on f1: {'C': 2.5660378900685785, 'loss': 'squared_hinge'}\n",
            "Result on test data:\n",
            "              precision    recall  f1-score   support\n",
            "\n",
            "         0.0       0.06      0.54      0.12      5363\n",
            "         1.0       0.18      0.16      0.17     19301\n",
            "         2.0       0.85      0.56      0.67    105770\n",
            "\n",
            "    accuracy                           0.50    130434\n",
            "   macro avg       0.37      0.42      0.32    130434\n",
            "weighted avg       0.72      0.50      0.58    130434\n",
            "\n",
            "Best parameters for tuning on macro recall: {'C': 2.5660378900685785, 'loss': 'squared_hinge'}\n",
            "Result on test data:\n",
            "              precision    recall  f1-score   support\n",
            "\n",
            "         0.0       0.06      0.54      0.12      5363\n",
            "         1.0       0.18      0.16      0.17     19301\n",
            "         2.0       0.85      0.56      0.67    105770\n",
            "\n",
            "    accuracy                           0.50    130434\n",
            "   macro avg       0.37      0.42      0.32    130434\n",
            "weighted avg       0.72      0.50      0.58    130434\n",
            "\n"
          ]
        }
      ],
      "source": [
        "# Hyperparameter tuning after smote sampling\n",
        "\n",
        "# accuracy as scoring metric\n",
        "rand_search_ac.fit(x_smote, y_smote)\n",
        "print(f\"Best parameters for tuning on accuray: {rand_search_ac.best_params_}\")\n",
        "SVM_result(rand_search_ac.best_estimator_, x_smote, y_smote, x_test, y_test)\n",
        "\n",
        "# f1 as scoring metric\n",
        "rand_search_f1.fit(x_smote, y_smote) \n",
        "print(f\"Best parameters for tuning on f1: {rand_search_f1.best_params_}\")\n",
        "SVM_result(rand_search_f1.best_estimator_, x_smote, y_smote, x_test, y_test)\n",
        "\n",
        "# macro-recall as scoring metric\n",
        "rand_search_recall.fit(x_smote, y_smote) \n",
        "print(f\"Best parameters for tuning on macro recall: {rand_search_recall.best_params_}\")\n",
        "SVM_result(rand_search_recall.best_estimator_, x_smote, y_smote, x_test, y_test)"
      ]
    },
    {
      "cell_type": "markdown",
      "id": "widGDOUMi5N0",
      "metadata": {
        "id": "widGDOUMi5N0"
      },
      "source": [
        "# Logistic Regression Model\n",
        "\n",
        "Motivation: The main reason I want to use logistic regression model with multiple classes is to set a reference for all other more complicated models to better evaluate their performances as logistic regression is the simplest one.\n",
        "\n",
        "Metrics: Average Recall\n",
        "\n",
        "Hyperparameters tuning: penalty: l1, l2, elasticnet (solver = saga)\n",
        "\n",
        "class_weight: balanced or default\n",
        "\n",
        "multi_class: multinomial (solver = saga), ovr (solver = liblinear)\n",
        "\n",
        "l1_ratio: 0.2, 0.4, 0.6, 0.8"
      ]
    },
    {
      "cell_type": "code",
      "execution_count": 36,
      "id": "6c83Y28ljM0-",
      "metadata": {
        "id": "6c83Y28ljM0-"
      },
      "outputs": [],
      "source": [
        "# Hyperparameters\n",
        "penalty = ['l1', 'l2', 'elasticnet']\n",
        "class_weight = ['balanced','']\n",
        "multi_class = ['multinomial', 'ovr']\n",
        "l1_ratio = [0.2, 0.4, 0.6, 0.8]\n",
        "\n"
      ]
    },
    {
      "cell_type": "code",
      "execution_count": 37,
      "id": "PrG042STjadp",
      "metadata": {
        "id": "PrG042STjadp"
      },
      "outputs": [],
      "source": [
        "# function to fit and tune the model using simple grid search\n",
        "def logReg(x_train, y_train, x_val, y_val, penalty, weight, multi, l1_ratio):\n",
        "\n",
        "    target_names = ['Poor', 'Fair', 'Good']\n",
        "    report = {}\n",
        "\n",
        "    # when multi_class == 'ovr', the solver must be liblinear.\n",
        "    # liblinear only support l1 and l2 penalty, and l1 doesn't work on my laptop\n",
        "    model = LogisticRegression(penalty='l2', class_weight='balanced', multi_class=multi[1], solver='liblinear')\n",
        "    model.fit(x_train, y_train)\n",
        "    y_pred = model.predict(x_val)\n",
        "    report[\"l2, balanced, ovr\"] = classification_report(y_val, y_pred, target_names=target_names, output_dict=True)\n",
        "\n",
        "    model = LogisticRegression(penalty='l2', class_weight='', multi_class=multi[1], solver='liblinear')\n",
        "    model.fit(x_train, y_train)\n",
        "    y_pred = model.predict(x_val)\n",
        "    report[\"l2, , ovr\"] = classification_report(y_val, y_pred, target_names=target_names, output_dict=True)\n",
        "\n",
        "    for i in penalty:\n",
        "        for j in weight:\n",
        "            tracker = 0\n",
        "            if i != 'elasticnet':\n",
        "                model = LogisticRegression(penalty=i, class_weight=j, multi_class=multi[0], solver='saga')\n",
        "            else:\n",
        "                while tracker != len(l1_ratio):\n",
        "                    model = LogisticRegression(penalty=i, class_weight=j, multi_class=multi[0], solver='saga',l1_ratio=l1_ratio[tracker])\n",
        "                    model.fit(x_train, y_train)\n",
        "                    y_pred = model.predict(x_val)\n",
        "                    label = i + \", \" + j + \", multinomial, \" + str(l1_ratio[tracker])\n",
        "                    report[label] = classification_report(y_val, y_pred, target_names=target_names, output_dict=True)\n",
        "                    tracker += 1\n",
        "                continue\n",
        "\n",
        "            model.fit(x_train, y_train)\n",
        "            y_pred = model.predict(x_val)\n",
        "            label = i + \", \" + j + \", multinomial\"\n",
        "            report[label] = classification_report(y_val, y_pred, target_names=target_names, output_dict=True)\n",
        "\n",
        "    return report"
      ]
    },
    {
      "cell_type": "code",
      "execution_count": 38,
      "id": "aIg_e_TgjbsZ",
      "metadata": {
        "id": "aIg_e_TgjbsZ"
      },
      "outputs": [],
      "source": [
        "# function to evaluate the model\n",
        "def model_result(report):\n",
        "    best_recall = 0\n",
        "    best_accuracy = 0\n",
        "    best_f1_score = 0\n",
        "    for params, metrics in report.items():\n",
        "        # weighted recall on validation set\n",
        "        avg_recall = metrics['macro avg']['recall']\n",
        "        # accuracy on validation set\n",
        "        accuracy = metrics['accuracy']\n",
        "        # f1 score on validation set\n",
        "        f1_score = metrics['macro avg']['f1-score']\n",
        "        \n",
        "        if best_recall < avg_recall:\n",
        "            best_recall = avg_recall\n",
        "            best_params_recall = params\n",
        "        if best_accuracy < accuracy:\n",
        "            best_accuracy = accuracy\n",
        "            best_params_accuracy = params\n",
        "        if best_f1_score < f1_score:\n",
        "            best_f1_score = f1_score\n",
        "            best_params_f1_score = params\n",
        "        \n",
        "    \n",
        "    print(\"Accuracy as metric for hyperparamter tuning:\")\n",
        "    print(\"Optimal Hyperparameters: \", best_params_accuracy)\n",
        "    print(\"Optimal accuracy score: \", best_accuracy)\n",
        "    \n",
        "    print()\n",
        "    print(\"F1 score as metric for hyperparamter tuning:\")\n",
        "    print(\"Optimal Hyperparameters: \", best_params_f1_score)\n",
        "    print(\"Optimal F1 score: \", best_f1_score)\n",
        "\n",
        "    print()\n",
        "    print(\"Macro recall as metric for hyperparamter tuning:\")\n",
        "    print(\"Optimal Hyperparameters: \", best_params_recall)\n",
        "    print(\"Optimal macro recall score: \", best_recall)"
      ]
    },
    {
      "cell_type": "markdown",
      "id": "9NTnABqPjgQm",
      "metadata": {
        "id": "9NTnABqPjgQm"
      },
      "source": [
        "## LR for random stratified sampling"
      ]
    },
    {
      "cell_type": "code",
      "execution_count": 43,
      "id": "EgmHN4FnjgbZ",
      "metadata": {
        "colab": {
          "base_uri": "https://localhost:8080/"
        },
        "id": "EgmHN4FnjgbZ",
        "outputId": "e54df7e7-7cb8-4a6e-d590-95afc4db65ea"
      },
      "outputs": [
        {
          "name": "stdout",
          "output_type": "stream",
          "text": [
            "Accuracy as metric for hyperparamter tuning:\n",
            "Optimal Hyperparameters:  l2, , ovr\n",
            "Optimal accuracy score:  0.8110265649557251\n",
            "\n",
            "F1 score as metric for hyperparamter tuning:\n",
            "Optimal Hyperparameters:  l2, balanced, ovr\n",
            "Optimal F1 score:  0.36378365483866054\n",
            "\n",
            "Macro recall as metric for hyperparamter tuning:\n",
            "Optimal Hyperparameters:  elasticnet, balanced, multinomial, 0.2\n",
            "Optimal macro recall score:  0.4108781996224646\n",
            "Average recall on test dataset:  0.34166908040476374\n"
          ]
        }
      ],
      "source": [
        "# random stratified sampling\n",
        "report_random = logReg(x_train, y_train, x_val, y_val, penalty, class_weight, multi_class, l1_ratio)\n",
        "# evaluate the model\n",
        "model_result(report_random)\n",
        "# recall score on test set using best_recall_params\n",
        "model = LogisticRegression(penalty='elasticnet', class_weight='balanced', multi_class='multinomial', l1_ratio = 0.8, solver='saga')\n",
        "model.fit(x_train, y_train)\n",
        "y_pred = model.predict(x_test)\n",
        "test_score = recall_score(y_test, y_pred, average='macro')\n",
        "print(\"Average recall on test dataset: \", test_score)"
      ]
    },
    {
      "cell_type": "markdown",
      "id": "Y83pWwbQjucB",
      "metadata": {
        "id": "Y83pWwbQjucB"
      },
      "source": [
        "## LR for random over sampling"
      ]
    },
    {
      "cell_type": "code",
      "execution_count": 44,
      "id": "jMiHGX7RjrvY",
      "metadata": {
        "colab": {
          "base_uri": "https://localhost:8080/"
        },
        "id": "jMiHGX7RjrvY",
        "outputId": "c32c3151-fab2-441c-a25d-9bb6cf099170"
      },
      "outputs": [
        {
          "name": "stdout",
          "output_type": "stream",
          "text": [
            "Accuracy as metric for hyperparamter tuning:\n",
            "Optimal Hyperparameters:  l2, balanced, ovr\n",
            "Optimal accuracy score:  0.504523325794457\n",
            "\n",
            "F1 score as metric for hyperparamter tuning:\n",
            "Optimal Hyperparameters:  l1, balanced, multinomial\n",
            "Optimal F1 score:  0.3241342334017288\n",
            "\n",
            "Macro recall as metric for hyperparamter tuning:\n",
            "Optimal Hyperparameters:  l2, balanced, ovr\n",
            "Optimal macro recall score:  0.42314407353638056\n",
            "Average recall on test dataset:  0.4194198721041554\n"
          ]
        }
      ],
      "source": [
        "\n",
        "# Over sampling\n",
        "report_ros = logReg(x_ros, y_ros, x_val, y_val, penalty, class_weight, multi_class, l1_ratio)\n",
        "# evaluate the model\n",
        "model_result(report_ros)\n",
        "# recall score on test set using best_recall_params\n",
        "model = LogisticRegression(penalty='l1', class_weight='balanced', multi_class='multinomial', solver='saga')\n",
        "model.fit(x_ros, y_ros)\n",
        "y_pred = model.predict(x_test)\n",
        "test_score = recall_score(y_test, y_pred, average='macro')\n",
        "print(\"Average recall on test dataset: \", test_score)"
      ]
    },
    {
      "cell_type": "markdown",
      "id": "7gKeMWsBjydu",
      "metadata": {
        "id": "7gKeMWsBjydu"
      },
      "source": [
        "## LR for random under sampling"
      ]
    },
    {
      "cell_type": "code",
      "execution_count": 45,
      "id": "Erc5nPdGjynX",
      "metadata": {
        "colab": {
          "base_uri": "https://localhost:8080/"
        },
        "id": "Erc5nPdGjynX",
        "outputId": "0851e812-1789-4698-a6fa-f3ebd9d8cadf"
      },
      "outputs": [
        {
          "name": "stdout",
          "output_type": "stream",
          "text": [
            "Accuracy as metric for hyperparamter tuning:\n",
            "Optimal Hyperparameters:  l2, balanced, ovr\n",
            "Optimal accuracy score:  0.499444167593054\n",
            "\n",
            "F1 score as metric for hyperparamter tuning:\n",
            "Optimal Hyperparameters:  l1, balanced, multinomial\n",
            "Optimal F1 score:  0.3222617798591999\n",
            "\n",
            "Macro recall as metric for hyperparamter tuning:\n",
            "Optimal Hyperparameters:  l2, balanced, ovr\n",
            "Optimal macro recall score:  0.42266914209907175\n",
            "Average recall on test dataset:  0.41878882584060256\n"
          ]
        }
      ],
      "source": [
        "# Under sampling\n",
        "report_rus = logReg(x_rus, y_rus, x_val, y_val, penalty, class_weight, multi_class, l1_ratio)\n",
        "# evaluate the model\n",
        "model_result(report_rus)\n",
        "# recall score on test set using best_recall_params\n",
        "model = LogisticRegression(penalty='l2', class_weight='balanced', multi_class='ovr', solver='liblinear')\n",
        "model.fit(x_ros, y_ros)\n",
        "y_pred = model.predict(x_test)\n",
        "test_score = recall_score(y_test, y_pred, average='macro')\n",
        "print(\"Average recall on test dataset: \", test_score)\n"
      ]
    },
    {
      "cell_type": "markdown",
      "id": "2rbEUEU6j9Uo",
      "metadata": {
        "id": "2rbEUEU6j9Uo"
      },
      "source": [
        "## LR for smote sampling"
      ]
    },
    {
      "cell_type": "code",
      "execution_count": 46,
      "id": "ZGDZg_Kjj9e4",
      "metadata": {
        "colab": {
          "base_uri": "https://localhost:8080/"
        },
        "id": "ZGDZg_Kjj9e4",
        "outputId": "0789bf03-0ced-47af-b001-502aa1e9a620"
      },
      "outputs": [
        {
          "name": "stdout",
          "output_type": "stream",
          "text": [
            "Accuracy as metric for hyperparamter tuning:\n",
            "Optimal Hyperparameters:  l2, balanced, ovr\n",
            "Optimal accuracy score:  0.504523325794457\n",
            "\n",
            "F1 score as metric for hyperparamter tuning:\n",
            "Optimal Hyperparameters:  l1, balanced, multinomial\n",
            "Optimal F1 score:  0.3241342334017288\n",
            "\n",
            "Macro recall as metric for hyperparamter tuning:\n",
            "Optimal Hyperparameters:  l2, balanced, ovr\n",
            "Optimal macro recall score:  0.42314407353638056\n",
            "Average recall on test dataset:  0.41976722060899146\n"
          ]
        }
      ],
      "source": [
        "## SMOTE on train data\n",
        "report_smote = logReg(x_ros, y_ros, x_val, y_val, penalty, class_weight, multi_class, l1_ratio)\n",
        "# evaluate the model\n",
        "model_result(report_smote)\n",
        "# recall score on test set using best_recall_params\n",
        "model = LogisticRegression(penalty='l1', class_weight='balanced', multi_class='multinomial', solver='saga')\n",
        "model.fit(x_smote, y_smote)\n",
        "y_pred = model.predict(x_test)\n",
        "test_score = recall_score(y_test, y_pred, average='macro')\n",
        "print(\"Average recall on test dataset: \", test_score)"
      ]
    },
    {
      "cell_type": "markdown",
      "id": "ngmy3zGBkH24",
      "metadata": {
        "id": "ngmy3zGBkH24"
      },
      "source": [
        "##  LR: Features importance analysis"
      ]
    },
    {
      "cell_type": "code",
      "execution_count": 47,
      "id": "tJGhbs4YkFIL",
      "metadata": {
        "colab": {
          "base_uri": "https://localhost:8080/",
          "height": 1000
        },
        "id": "tJGhbs4YkFIL",
        "outputId": "ce6cb6e9-5001-4887-dd15-fd2c3f000e34"
      },
      "outputs": [
        {
          "data": {
            "image/png": "[encoded data removed]",
            "text/plain": [
              "<Figure size 936x576 with 1 Axes>"
            ]
          },
          "metadata": {
            "needs_background": "light"
          },
          "output_type": "display_data"
        },
        {
          "data": {
            "image/png": "[encoded data removed]",
            "text/plain": [
              "<Figure size 936x576 with 1 Axes>"
            ]
          },
          "metadata": {
            "needs_background": "light"
          },
          "output_type": "display_data"
        }
      ],
      "source": [
        "# Features importance analysis\n",
        "# Best Model is using SMOTE sampling\n",
        "# Features Coefficients of health = good\n",
        "plt.figure(figsize=(13, 8))\n",
        "plt.bar(x= x_train.columns, height=model.coef_[0])\n",
        "plt.title(\"Features Coefficients of health = good\")\n",
        "plt.xlabel('features')\n",
        "plt.xticks(rotation=90)\n",
        "plt.ylabel('weight')\n",
        "plt.show()\n",
        "\n",
        "# Features Coefficients of health = poor\n",
        "plt.figure(figsize=(13, 8))\n",
        "plt.bar(x= x_train.columns, height=model.coef_[2])\n",
        "plt.title(\"Features Coefficients of health = poor\")\n",
        "plt.xlabel('features')\n",
        "plt.xticks(rotation=90)\n",
        "plt.ylabel('weight')\n",
        "plt.show()"
      ]
    }
  ],
  "metadata": {
    "accelerator": "GPU",
    "colab": {
      "provenance": []
    },
    "gpuClass": "standard",
    "kernelspec": {
      "display_name": "Python 3.8.9 64-bit",
      "language": "python",
      "name": "python3"
    },
    "language_info": {
      "codemirror_mode": {
        "name": "ipython",
        "version": 3
      },
      "file_extension": ".py",
      "mimetype": "text/x-python",
      "name": "python",
      "nbconvert_exporter": "python",
      "pygments_lexer": "ipython3",
      "version": "3.8.9"
    },
    "vscode": {
      "interpreter": {
        "hash": "31f2aee4e71d21fbe5cf8b01ff0e069b9275f58929596ceb00d14d90e3e16cd6"
      }
    }
  },
  "nbformat": 4,
  "nbformat_minor": 5
}
