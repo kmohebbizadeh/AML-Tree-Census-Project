{
 "cells": [
  {
   "cell_type": "code",
   "execution_count": 1,
   "id": "cda5cfbf",
   "metadata": {},
   "outputs": [],
   "source": [
    "# import libraries\n",
    "import numpy as np\n",
    "import pandas as pd\n",
    "from sklearn.preprocessing import OrdinalEncoder, OneHotEncoder, StandardScaler\n",
    "from sklearn.model_selection import train_test_split\n",
    "from imblearn.over_sampling import RandomOverSampler, SMOTE\n",
    "from imblearn.under_sampling import RandomUnderSampler"
   ]
  },
  {
   "cell_type": "code",
   "execution_count": 2,
   "id": "e0604404",
   "metadata": {},
   "outputs": [],
   "source": [
    "# load in data with relative path\n",
    "tree_df = pd.read_csv('2015_Street_Tree_Census_-_Tree_Data.csv')"
   ]
  },
  {
   "cell_type": "code",
   "execution_count": 3,
   "id": "cf9ac857",
   "metadata": {},
   "outputs": [],
   "source": [
    "# drop columns\n",
    "tree_df = tree_df.drop(columns=[\n",
    "    'borocode', 'x_sp', 'y_sp', 'state', 'nta_name', 'zip_city', 'address',\n",
    "    'spc_latin', 'created_at', 'tree_id', 'block_id', 'user_type', 'bin',\n",
    "    'bbl', 'council district', 'boro_ct', 'census tract', 'problems', 'status',\n",
    "    'stump_diam', 'postcode', 'community board', 'cncldist', 'st_assem', 'st_senate', \n",
    "    'nta', 'spc_common'\n",
    "])\n",
    "\n",
    "# drop NA and dead tree values\n",
    "tree_df = tree_df[tree_df['health'].notna()]\n",
    "tree_df = tree_df.dropna(how='any')"
   ]
  },
  {
   "cell_type": "code",
   "execution_count": 4,
   "id": "efa1434c",
   "metadata": {},
   "outputs": [
    {
     "name": "stdout",
     "output_type": "stream",
     "text": [
      "        tree_dbh curb_loc health steward guards  sidewalk root_stone  \\\n",
      "0              3   OnCurb   Fair    None   None  NoDamage         No   \n",
      "1             21   OnCurb   Fair    None   None    Damage        Yes   \n",
      "2              3   OnCurb   Good    1or2   None    Damage         No   \n",
      "3             10   OnCurb   Good    None   None    Damage        Yes   \n",
      "4             21   OnCurb   Good    None   None    Damage        Yes   \n",
      "...          ...      ...    ...     ...    ...       ...        ...   \n",
      "683783        25   OnCurb   Good    None   None    Damage         No   \n",
      "683784         7   OnCurb   Good    1or2   None  NoDamage         No   \n",
      "683785        12   OnCurb   Good    None   None    Damage         No   \n",
      "683786         9   OnCurb   Good    None   None  NoDamage         No   \n",
      "683787        23   OnCurb   Fair    None   None  NoDamage         No   \n",
      "\n",
      "       root_grate root_other trunk_wire trnk_light trnk_other brch_light  \\\n",
      "0              No         No         No         No         No         No   \n",
      "1              No         No         No         No         No         No   \n",
      "2              No         No         No         No         No         No   \n",
      "3              No         No         No         No         No         No   \n",
      "4              No         No         No         No         No         No   \n",
      "...           ...        ...        ...        ...        ...        ...   \n",
      "683783         No         No         No         No         No         No   \n",
      "683784         No         No         No         No         No         No   \n",
      "683785         No         No         No         No         No         No   \n",
      "683786         No         No         No         No         No         No   \n",
      "683787         No         No         No         No         No         No   \n",
      "\n",
      "       brch_shoe brch_other        borough   latitude  longitude  \n",
      "0             No         No         Queens  40.723092 -73.844215  \n",
      "1             No         No         Queens  40.794111 -73.818679  \n",
      "2             No         No       Brooklyn  40.717581 -73.936608  \n",
      "3             No         No       Brooklyn  40.713537 -73.934456  \n",
      "4             No         No       Brooklyn  40.666778 -73.975979  \n",
      "...          ...        ...            ...        ...        ...  \n",
      "683783        No         No       Brooklyn  40.713211 -73.954944  \n",
      "683784        No         No         Queens  40.715194 -73.856650  \n",
      "683785        No         No  Staten Island  40.620762 -74.136517  \n",
      "683786        No         No          Bronx  40.850828 -73.903115  \n",
      "683787        No         No         Queens  40.732165 -73.787526  \n",
      "\n",
      "[652170 rows x 18 columns]\n"
     ]
    }
   ],
   "source": [
    "print(tree_df)"
   ]
  },
  {
   "cell_type": "code",
   "execution_count": 4,
   "id": "d006d82e",
   "metadata": {},
   "outputs": [],
   "source": [
    "# scale diameters \n",
    "scaler = StandardScaler()\n",
    "tree_df[]\n",
    "\n",
    "# Ordinal Encode\n",
    "health = ['Poor', 'Fair', 'Good']\n",
    "enc = OrdinalEncoder(categories=[health])\n",
    "tree_df['health'] = enc.fit_transform(tree_df[['health']])\n",
    "\n",
    "steward = ['None', '1or2', '3or4', '4orMore']\n",
    "enc = OrdinalEncoder(categories=[steward])\n",
    "tree_df['steward'] = enc.fit_transform(tree_df[['steward']])\n",
    "\n",
    "sidewalk = ['NoDamage', 'Damage']\n",
    "enc = OrdinalEncoder(categories=[sidewalk])\n",
    "tree_df['sidewalk'] = enc.fit_transform(tree_df[['sidewalk']])\n",
    "\n",
    "curbloc = ['OnCurb', 'OffsetFromCurb']\n",
    "enc = OrdinalEncoder(categories=[curbloc])\n",
    "tree_df['curb_loc'] = enc.fit_transform(tree_df[['curb_loc']])\n",
    "\n",
    "yes_no = ['No', 'Yes']\n",
    "enc = OrdinalEncoder(categories=[yes_no])\n",
    "\n",
    "yes_no_features = [\n",
    "    'brch_other', 'brch_shoe', 'brch_light', 'trnk_other', 'trnk_light',\n",
    "    'trunk_wire', 'root_other', 'root_grate', 'root_stone'\n",
    "]\n",
    "\n",
    "for feat in yes_no_features:\n",
    "    tree_df[feat] = enc.fit_transform(tree_df[[feat]])\n",
    "    \n",
    "# One Hot Encode\n",
    "enc = OneHotEncoder()\n",
    "guards = enc.fit_transform(tree_df[['guards']])\n",
    "tree_df['guards_' + enc.categories_[0][:]] = guards.toarray()\n",
    "tree_df = tree_df.drop(columns=['guards'])\n",
    "\n",
    "guards = enc.fit_transform(tree_df[['borough']])\n",
    "tree_df['borough_' + enc.categories_[0][:]] = guards.toarray()\n",
    "tree_df = tree_df.drop(columns=['borough'])"
   ]
  },
  {
   "cell_type": "code",
   "execution_count": 5,
   "id": "3d5a8242",
   "metadata": {},
   "outputs": [],
   "source": [
    "# split to x and y sets\n",
    "y = np.asarray(tree_df['health'])\n",
    "x = tree_df.drop(columns=['health'])"
   ]
  },
  {
   "cell_type": "code",
   "execution_count": 6,
   "id": "9769c5d7",
   "metadata": {},
   "outputs": [],
   "source": [
    "# random sample (stratified) for dev, test, train and val\n",
    "x_dev, x_test, y_dev, y_test = train_test_split(x, y, test_size=0.2, random_state=42, stratify = y)\n",
    "x_train, x_val, y_train, y_val = train_test_split(x_dev, y_dev, test_size=0.2, random_state=42, stratify = y_dev)"
   ]
  },
  {
   "cell_type": "code",
   "execution_count": 7,
   "id": "1cb41879",
   "metadata": {},
   "outputs": [],
   "source": [
    "# over-sampling of training data\n",
    "ros = RandomOverSampler(random_state=42)\n",
    "x_ros, y_ros = ros.fit_resample(x_train, y_train)"
   ]
  },
  {
   "cell_type": "code",
   "execution_count": 8,
   "id": "feaa99cf",
   "metadata": {},
   "outputs": [],
   "source": [
    "# under sampling of training data\n",
    "rus = RandomUnderSampler(random_state=42)\n",
    "x_rus, y_rus = rus.fit_resample(x_train, y_train)"
   ]
  },
  {
   "cell_type": "code",
   "execution_count": 9,
   "id": "9dd33594",
   "metadata": {},
   "outputs": [],
   "source": [
    "# smote sampling of training data\n",
    "smote = SMOTE(random_state=42)\n",
    "x_smote, y_smote = smote.fit_resample(x_train, y_train)"
   ]
  }
 ],
 "metadata": {
  "kernelspec": {
   "display_name": "Python 3 (ipykernel)",
   "language": "python",
   "name": "python3"
  },
  "language_info": {
   "codemirror_mode": {
    "name": "ipython",
    "version": 3
   },
   "file_extension": ".py",
   "mimetype": "text/x-python",
   "name": "python",
   "nbconvert_exporter": "python",
   "pygments_lexer": "ipython3",
   "version": "3.9.12"
  }
 },
 "nbformat": 4,
 "nbformat_minor": 5
}
