{
 "cells": [
  {
   "cell_type": "markdown",
   "id": "6af5ed54",
   "metadata": {},
   "source": [
    "# Preprocessing\n",
    "From Kiyan\n",
    "\n",
    "Hey everyone, just pushed a preprocessing script.\n",
    "you guys can decide what to use for the particular models, but there is a stratified dev and test set. for those that want to use the imbalanced sampling sets, I sampled the training set NOT THE DEV SET. I would reccomed to try to use train, val and test for all the models instead of just the dev and test."
   ]
  },
  {
   "cell_type": "code",
   "execution_count": 22,
   "id": "cda5cfbf",
   "metadata": {},
   "outputs": [],
   "source": [
    "# import libraries\n",
    "import numpy as np\n",
    "import pandas as pd\n",
    "from sklearn.preprocessing import OrdinalEncoder, OneHotEncoder, StandardScaler\n",
    "from sklearn.model_selection import train_test_split\n",
    "from imblearn.over_sampling import RandomOverSampler, SMOTE\n",
    "from imblearn.under_sampling import RandomUnderSampler"
   ]
  },
  {
   "cell_type": "code",
   "execution_count": 23,
   "id": "e0604404",
   "metadata": {},
   "outputs": [],
   "source": [
    "# load in data with relative path\n",
    "tree_df = pd.read_csv('2015_Street_Tree_Census_-_Tree_Data.csv')"
   ]
  },
  {
   "cell_type": "code",
   "execution_count": 24,
   "id": "cf9ac857",
   "metadata": {},
   "outputs": [],
   "source": [
    "# drop columns\n",
    "tree_df = tree_df.drop(columns=[\n",
    "    'borocode', 'x_sp', 'y_sp', 'state', 'nta_name', 'zip_city', 'address',\n",
    "    'spc_latin', 'created_at', 'tree_id', 'block_id', 'user_type', 'bin',\n",
    "    'bbl', 'council district', 'boro_ct', 'census tract', 'problems', 'status',\n",
    "    'stump_diam', 'postcode', 'community board', 'cncldist', 'st_assem', 'st_senate', \n",
    "    'nta', 'spc_common'\n",
    "])\n",
    "\n",
    "# drop NA and dead tree values\n",
    "tree_df = tree_df[tree_df['health'].notna()]\n",
    "tree_df = tree_df.dropna(how='any')"
   ]
  },
  {
   "cell_type": "code",
   "execution_count": 25,
   "id": "d006d82e",
   "metadata": {},
   "outputs": [],
   "source": [
    "# scale diameters \n",
    "scaler = StandardScaler()\n",
    "tree_df['tree_dbh'] = scaler.fit_transform(tree_df[['tree_dbh']])\n",
    "\n",
    "# Ordinal Encode\n",
    "health = ['Poor', 'Fair', 'Good']\n",
    "enc = OrdinalEncoder(categories=[health])\n",
    "tree_df['health'] = enc.fit_transform(tree_df[['health']])\n",
    "\n",
    "steward = ['None', '1or2', '3or4', '4orMore']\n",
    "enc = OrdinalEncoder(categories=[steward])\n",
    "tree_df['steward'] = enc.fit_transform(tree_df[['steward']])\n",
    "\n",
    "sidewalk = ['NoDamage', 'Damage']\n",
    "enc = OrdinalEncoder(categories=[sidewalk])\n",
    "tree_df['sidewalk'] = enc.fit_transform(tree_df[['sidewalk']])\n",
    "\n",
    "curbloc = ['OnCurb', 'OffsetFromCurb']\n",
    "enc = OrdinalEncoder(categories=[curbloc])\n",
    "tree_df['curb_loc'] = enc.fit_transform(tree_df[['curb_loc']])\n",
    "\n",
    "yes_no = ['No', 'Yes']\n",
    "enc = OrdinalEncoder(categories=[yes_no])\n",
    "\n",
    "yes_no_features = [\n",
    "    'brch_other', 'brch_shoe', 'brch_light', 'trnk_other', 'trnk_light',\n",
    "    'trunk_wire', 'root_other', 'root_grate', 'root_stone'\n",
    "]\n",
    "\n",
    "for feat in yes_no_features:\n",
    "    tree_df[feat] = enc.fit_transform(tree_df[[feat]])\n",
    "    \n",
    "# One Hot Encode\n",
    "enc = OneHotEncoder()\n",
    "guards = enc.fit_transform(tree_df[['guards']])\n",
    "tree_df['guards_' + enc.categories_[0][:]] = guards.toarray()\n",
    "tree_df = tree_df.drop(columns=['guards'])\n",
    "\n",
    "guards = enc.fit_transform(tree_df[['borough']])\n",
    "tree_df['borough_' + enc.categories_[0][:]] = guards.toarray()\n",
    "tree_df = tree_df.drop(columns=['borough'])"
   ]
  },
  {
   "cell_type": "code",
   "execution_count": 26,
   "id": "3d5a8242",
   "metadata": {},
   "outputs": [],
   "source": [
    "# split to x and y sets\n",
    "y = np.asarray(tree_df['health'])\n",
    "x = tree_df.drop(columns=['health'])"
   ]
  },
  {
   "cell_type": "code",
   "execution_count": 27,
   "id": "9769c5d7",
   "metadata": {},
   "outputs": [],
   "source": [
    "# random sample (stratified) for dev, test, train and val\n",
    "x_dev, x_test, y_dev, y_test = train_test_split(x, y, test_size=0.2, random_state=42, stratify = y)\n",
    "x_train, x_val, y_train, y_val = train_test_split(x_dev, y_dev, test_size=0.2, random_state=42, stratify = y_dev)"
   ]
  },
  {
   "cell_type": "code",
   "execution_count": 28,
   "id": "1cb41879",
   "metadata": {},
   "outputs": [],
   "source": [
    "# over-sampling of training data\n",
    "ros = RandomOverSampler(random_state=42)\n",
    "x_ros, y_ros = ros.fit_resample(x_train, y_train)"
   ]
  },
  {
   "cell_type": "code",
   "execution_count": 29,
   "id": "feaa99cf",
   "metadata": {},
   "outputs": [],
   "source": [
    "# under sampling of training data\n",
    "rus = RandomUnderSampler(random_state=42)\n",
    "x_rus, y_rus = rus.fit_resample(x_train, y_train)"
   ]
  },
  {
   "cell_type": "code",
   "execution_count": 30,
   "id": "9dd33594",
   "metadata": {},
   "outputs": [],
   "source": [
    "# smote sampling of training data\n",
    "smote = SMOTE(random_state=42)\n",
    "x_smote, y_smote = smote.fit_resample(x_train, y_train)"
   ]
  },
  {
   "cell_type": "markdown",
   "id": "8f11ed34",
   "metadata": {},
   "source": [
    "# Model: SVM"
   ]
  },
  {
   "cell_type": "code",
   "execution_count": 31,
   "id": "5218d4d1",
   "metadata": {},
   "outputs": [],
   "source": [
    "from sklearn.metrics import accuracy_score, precision_recall_fscore_support, confusion_matrix, make_scorer, roc_auc_score\n",
    "from sklearn.svm import LinearSVC, SVC\n",
    "import seaborn as sns\n",
    "# print the training and testing accuracy of a SVM model and plot confusion matrix is cf = True\n",
    "def SVM_result(svm, X_train, y_train, X_test, y_test, report = False, cf = False):\n",
    "    # fit the model\n",
    "    svm.fit(X_train, y_train)\n",
    "    # predict y\n",
    "    y_train_predict = svm.predict(X_train)\n",
    "    y_test_predict = svm.predict(X_test)    \n",
    "    # accuracy scores\n",
    "    acc_predit_train = accuracy_score(y_train_predict,y_train)\n",
    "    acc_predit_test = accuracy_score(y_test_predict,y_test)\n",
    "    # print trainind and testing accuracy\n",
    "    print(\"Accuracy of Training data: \", acc_predit_train)\n",
    "    print(\"Accuracy of Testing data: \", acc_predit_test)\n",
    "    # show result report\n",
    "    if (report):\n",
    "        print(classification_report(y_test, y_test_predict))\n",
    "    # show confusion_matrix\n",
    "    if (cf):\n",
    "        cf = confusion_matrix(y_test, primal_svm.predict(X_test))\n",
    "        sns.heatmap(cf, annot = True, fmt = 'g')"
   ]
  },
  {
   "cell_type": "code",
   "execution_count": 32,
   "id": "6de50131",
   "metadata": {},
   "outputs": [],
   "source": [
    "#np.unique(y_test, return_counts=True) #[  5363,  19301, 105770]\n",
    "#len(y_test) # 130434\n",
    "#(105770 / 130434) # baseline model 0.8109081987825261"
   ]
  },
  {
   "cell_type": "markdown",
   "id": "573d1794",
   "metadata": {},
   "source": [
    "## Modeling and hyperparameter tuning for different sampling"
   ]
  },
  {
   "cell_type": "code",
   "execution_count": 33,
   "id": "0e133925",
   "metadata": {},
   "outputs": [],
   "source": [
    "import warnings\n",
    "warnings.filterwarnings('ignore')\n",
    "# basic primal and dual svm before hyperparameter tuning\n",
    "primal_svm = LinearSVC(tol=0.0001, dual = False) \n",
    "dual_svm = SVC(kernel = \"linear\")\n",
    "# random search for hyperparameter tuning\n",
    "rand_list = {\"C\": stats.uniform(0, 5)} # random list for hyperparameter tuning\n",
    "rand_search = RandomizedSearchCV(primal_svm, \n",
    "                                 param_distributions = rand_list, \n",
    "                                 cv = 5, \n",
    "                                 random_state = 2022) "
   ]
  },
  {
   "cell_type": "markdown",
   "id": "b644bb20",
   "metadata": {},
   "source": [
    "### SVM for original model"
   ]
  },
  {
   "cell_type": "code",
   "execution_count": 38,
   "id": "72946347",
   "metadata": {
    "scrolled": true
   },
   "outputs": [
    {
     "name": "stdout",
     "output_type": "stream",
     "text": [
      "Primal SVM for original model:\n",
      "LinearSVC(C=3.6056746458234272, dual=False)\n",
      "Accuracy of Training data:  0.8108522525803329\n",
      "Accuracy of Testing data:  0.8109081987825261\n"
     ]
    }
   ],
   "source": [
    "# tree health: 2:good; 1:fair; 0:poor\n",
    "from scipy import stats\n",
    "from sklearn.model_selection import GridSearchCV, RandomizedSearchCV \n",
    "\n",
    "rand_search.fit(x_train, y_train) \n",
    "primal_svm_best = rand_search.best_estimator_\n",
    "print(\"Primal SVM for original model:\")\n",
    "print(primal_svm_best)\n",
    "SVM_result(primal_svm_best, x_train, y_train, x_test, y_test)"
   ]
  },
  {
   "cell_type": "markdown",
   "id": "b70cbed3",
   "metadata": {},
   "source": [
    "### SVM after undersampling "
   ]
  },
  {
   "cell_type": "code",
   "execution_count": 39,
   "id": "38694eaf",
   "metadata": {},
   "outputs": [
    {
     "name": "stdout",
     "output_type": "stream",
     "text": [
      "Primal SVM after undersampling:\n",
      "LinearSVC(C=0.04679306903882352, dual=False)\n",
      "Accuracy of Training data:  0.41818640874749946\n",
      "Accuracy of Testing data:  0.502269346949415\n"
     ]
    }
   ],
   "source": [
    "# Hyperparameter tuning\n",
    "rand_search.fit(x_rus, y_rus) \n",
    "primal_svm_best = rand_search.best_estimator_\n",
    "print(\"Primal SVM after undersampling:\")\n",
    "print(primal_svm_best)\n",
    "SVM_result(primal_svm_best, x_rus, y_rus, x_test, y_test)"
   ]
  },
  {
   "cell_type": "markdown",
   "id": "4e12c2c5",
   "metadata": {},
   "source": [
    "### SVM after oversampling "
   ]
  },
  {
   "cell_type": "code",
   "execution_count": 40,
   "id": "b3da3574",
   "metadata": {},
   "outputs": [
    {
     "name": "stdout",
     "output_type": "stream",
     "text": [
      "Primal SVM after oversampling:\n",
      "Primal SVM for original model:\n",
      "LinearSVC(C=0.24987009088815237, dual=False)\n",
      "Accuracy of Training data:  0.41854698051682654\n",
      "Accuracy of Testing data:  0.5074980449882699\n"
     ]
    }
   ],
   "source": [
    "print(\"Primal SVM after oversampling:\")\n",
    "rand_list = {\"C\": stats.uniform(0, 5)}\n",
    "rand_search = RandomizedSearchCV(primal_svm, \n",
    "                                 param_distributions = rand_list, \n",
    "                                 cv = 5, \n",
    "                                 random_state = 2022) \n",
    "rand_search.fit(x_ros, y_ros)\n",
    "primal_svm_best = rand_search.best_estimator_\n",
    "print(\"Primal SVM for original model:\")\n",
    "print(primal_svm_best)\n",
    "SVM_result(primal_svm, x_ros, y_ros, x_test, y_test, cf = False)"
   ]
  },
  {
   "cell_type": "markdown",
   "id": "c88bb305",
   "metadata": {},
   "source": [
    "### SVM after smote"
   ]
  },
  {
   "cell_type": "code",
   "execution_count": 41,
   "id": "229dfc56",
   "metadata": {},
   "outputs": [
    {
     "name": "stdout",
     "output_type": "stream",
     "text": [
      "Primal SVM after smote:\n",
      "Primal SVM for original model:\n",
      "LinearSVC(C=2.4952890542599397, dual=False)\n",
      "Accuracy of Training data:  0.4181934214374983\n",
      "Accuracy of Testing data:  0.49610530996519314\n"
     ]
    }
   ],
   "source": [
    "print(\"Primal SVM after smote:\")\n",
    "rand_search = RandomizedSearchCV(primal_svm, \n",
    "                                 param_distributions = rand_list, \n",
    "                                 cv = 5, \n",
    "                                 random_state = 2022) \n",
    "rand_search.fit(x_smote, y_smote)\n",
    "primal_svm_best = rand_search.best_estimator_\n",
    "print(\"Primal SVM for original model:\")\n",
    "print(primal_svm_best)\n",
    "SVM_result(primal_svm, x_smote, y_smote, x_test, y_test, cf = False)"
   ]
  }
 ],
 "metadata": {
  "kernelspec": {
   "display_name": "Python 3 (ipykernel)",
   "language": "python",
   "name": "python3"
  },
  "language_info": {
   "codemirror_mode": {
    "name": "ipython",
    "version": 3
   },
   "file_extension": ".py",
   "mimetype": "text/x-python",
   "name": "python",
   "nbconvert_exporter": "python",
   "pygments_lexer": "ipython3",
   "version": "3.9.12"
  }
 },
 "nbformat": 4,
 "nbformat_minor": 5
}
