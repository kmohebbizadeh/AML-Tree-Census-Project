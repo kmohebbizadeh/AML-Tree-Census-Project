{
  "cells": [
    {
      "cell_type": "code",
      "execution_count": 74,
      "metadata": {
        "id": "5jxWtqQ1qdhX"
      },
      "outputs": [],
      "source": [
        "import numpy as np\n",
        "import pandas as pd\n",
        "import seaborn as sns\n",
        "from sklearn.preprocessing import OrdinalEncoder, OneHotEncoder, StandardScaler\n",
        "from sklearn.model_selection import train_test_split,RandomizedSearchCV\n",
        "from imblearn.over_sampling import RandomOverSampler, SMOTE\n",
        "from imblearn.under_sampling import RandomUnderSampler\n",
        "from sklearn.metrics import accuracy_score, f1_score, confusion_matrix,classification_report\n",
        "import warnings"
      ]
    },
    {
      "cell_type": "code",
      "execution_count": 4,
      "metadata": {
        "id": "-LeLxD4rqocg"
      },
      "outputs": [],
      "source": [
        "# load in data with relative path\n",
        "tree_df = pd.read_csv('2015_Street_Tree_Census_-_Tree_Data.csv')"
      ]
    },
    {
      "cell_type": "code",
      "execution_count": 5,
      "metadata": {
        "id": "_3GM8l0m5inD"
      },
      "outputs": [],
      "source": [
        "# drop columns\n",
        "tree_df = tree_df.drop(columns=[\n",
        "    'borocode', 'x_sp', 'y_sp', 'state', 'nta_name', 'zip_city', 'address',\n",
        "    'spc_latin', 'created_at', 'tree_id', 'block_id', 'user_type', 'bin',\n",
        "    'bbl', 'council district', 'boro_ct', 'census tract', 'problems', 'status',\n",
        "    'stump_diam', 'postcode', 'community board', 'cncldist', 'st_assem', 'st_senate', \n",
        "    'nta', 'spc_common'\n",
        "])\n",
        "\n",
        "# drop NA and dead tree values\n",
        "tree_df = tree_df[tree_df['health'].notna()]\n",
        "tree_df = tree_df.dropna(how='any')\n",
        "\n",
        "#no need for scaling \n",
        "# Ordinal Encode\n",
        "health = ['Poor', 'Fair', 'Good']\n",
        "enc = OrdinalEncoder(categories=[health])\n",
        "tree_df['health'] = enc.fit_transform(tree_df[['health']])\n",
        "\n",
        "steward = ['None', '1or2', '3or4', '4orMore']\n",
        "enc = OrdinalEncoder(categories=[steward])\n",
        "tree_df['steward'] = enc.fit_transform(tree_df[['steward']])\n",
        "\n",
        "sidewalk = ['NoDamage', 'Damage']\n",
        "enc = OrdinalEncoder(categories=[sidewalk])\n",
        "tree_df['sidewalk'] = enc.fit_transform(tree_df[['sidewalk']])\n",
        "\n",
        "curbloc = ['OnCurb', 'OffsetFromCurb']\n",
        "enc = OrdinalEncoder(categories=[curbloc])\n",
        "tree_df['curb_loc'] = enc.fit_transform(tree_df[['curb_loc']])\n",
        "\n",
        "yes_no = ['No', 'Yes']\n",
        "enc = OrdinalEncoder(categories=[yes_no])\n",
        "\n",
        "yes_no_features = [\n",
        "    'brch_other', 'brch_shoe', 'brch_light', 'trnk_other', 'trnk_light',\n",
        "    'trunk_wire', 'root_other', 'root_grate', 'root_stone'\n",
        "]\n",
        "\n",
        "for feat in yes_no_features:\n",
        "    tree_df[feat] = enc.fit_transform(tree_df[[feat]])\n",
        "    \n",
        "# One Hot Encode\n",
        "enc = OneHotEncoder()\n",
        "guards = enc.fit_transform(tree_df[['guards']])\n",
        "tree_df['guards_' + enc.categories_[0][:]] = guards.toarray()\n",
        "tree_df = tree_df.drop(columns=['guards'])\n",
        "\n",
        "guards = enc.fit_transform(tree_df[['borough']])\n",
        "tree_df['borough_' + enc.categories_[0][:]] = guards.toarray()\n",
        "tree_df = tree_df.drop(columns=['borough'])"
      ]
    },
    {
      "cell_type": "code",
      "execution_count": 6,
      "metadata": {
        "id": "tLDkM9VL5inE"
      },
      "outputs": [],
      "source": [
        "# split to x and y sets\n",
        "y = np.asarray(tree_df['health'])\n",
        "x = tree_df.drop(columns=['health'])"
      ]
    },
    {
      "cell_type": "code",
      "execution_count": 7,
      "metadata": {
        "id": "yQdffHHL5inE"
      },
      "outputs": [],
      "source": [
        "# random sample (stratified) for dev, test, train and val\n",
        "x_dev, x_test, y_dev, y_test = train_test_split(x, y, test_size=0.2, random_state=42, stratify = y)\n",
        "x_train, x_val, y_train, y_val = train_test_split(x_dev, y_dev, test_size=0.2, random_state=42, stratify = y_dev)"
      ]
    },
    {
      "cell_type": "code",
      "execution_count": 67,
      "metadata": {
        "id": "FR5vwZje5inE"
      },
      "outputs": [],
      "source": [
        "# over-sampling of training data\n",
        "ros = RandomOverSampler(random_state=42)\n",
        "x_ros, y_ros = ros.fit_resample(x_train, y_train)"
      ]
    },
    {
      "cell_type": "code",
      "source": [
        "pd.DataFrame(y_ros).value_counts()"
      ],
      "metadata": {
        "colab": {
          "base_uri": "https://localhost:8080/"
        },
        "id": "QVe-VWKg7irK",
        "outputId": "daeadf97-4d42-47b5-b29d-5fd9e4c7d2f4"
      },
      "execution_count": 73,
      "outputs": [
        {
          "output_type": "execute_result",
          "data": {
            "text/plain": [
              "0.0    338463\n",
              "1.0    338463\n",
              "2.0    338463\n",
              "dtype: int64"
            ]
          },
          "metadata": {},
          "execution_count": 73
        }
      ]
    },
    {
      "cell_type": "code",
      "execution_count": 9,
      "metadata": {
        "id": "TLiEyzvM5inE"
      },
      "outputs": [],
      "source": [
        "# under sampling of training data\n",
        "rus = RandomUnderSampler(random_state=42)\n",
        "x_rus, y_rus = rus.fit_resample(x_train, y_train)"
      ]
    },
    {
      "cell_type": "code",
      "execution_count": 10,
      "metadata": {
        "id": "YmEYkfHp5inE"
      },
      "outputs": [],
      "source": [
        "# smote sampling of training data\n",
        "smote = SMOTE(random_state=42)\n",
        "x_smote, y_smote = smote.fit_resample(x_train, y_train)"
      ]
    },
    {
      "cell_type": "markdown",
      "metadata": {
        "id": "IxOHvdmn5inE"
      },
      "source": [
        "## model: Decision tree"
      ]
    },
    {
      "cell_type": "code",
      "execution_count": 34,
      "metadata": {
        "id": "eKgb1NRY5inF"
      },
      "outputs": [],
      "source": [
        "from sklearn.metrics import accuracy_score, f1_score, confusion_matrix,classification_report\n",
        "import warnings\n",
        "warnings.filterwarnings('ignore')\n",
        "# function to evaluate the model\n",
        "# no need for scaling\n",
        "def model_result(model, x_train, y_train, x_test, y_test):\n",
        "    model.fit(x_train, y_train)\n",
        "    y_train_predict = model.predict(x_train)\n",
        "    y_test_predict = model.predict(x_test)  \n",
        "    \n",
        "    # # accuracy scores\n",
        "    # acc_train = accuracy_score(y_train,y_train_predict)\n",
        "    # acc_test = accuracy_score(y_test,y_test_predict)\n",
        "    \n",
        "    # # print training and testing accuracy\n",
        "    # print(\"Accuracy of Training data: \", acc_train)\n",
        "    # print(\"Accuracy of Testing data: \", acc_test)\n",
        "    \n",
        "    # # print train and test f1 score\n",
        "    # f1_train = f1_score(y_train, y_train_predict , average='weighted')\n",
        "    # f1_test = f1_score(y_test, y_test_predict , average='weighted')\n",
        "    # print(\"weigted f1 of Training data: \", f1_train)\n",
        "    # print(\"weigted f1 of Testing data: \", f1_test)\n",
        "\n",
        "    # confusion_matrix\n",
        "    cf = confusion_matrix(y_test, model.predict(x_test))\n",
        "    sns.heatmap(cf, annot = True, fmt = 'g')\n",
        "    plt.show()\n",
        "    # result plot\n",
        "    print(classification_report(y_test, y_test_predict))"
      ]
    },
    {
      "cell_type": "markdown",
      "metadata": {
        "id": "K9L4jbvkCU6Y"
      },
      "source": [
        "## Modeling and hyperparameter tuning for different sampling"
      ]
    },
    {
      "cell_type": "code",
      "execution_count": 12,
      "metadata": {
        "id": "OGObJXNg5inF"
      },
      "outputs": [],
      "source": [
        "from sklearn.tree import DecisionTreeClassifier\n",
        "from imblearn.under_sampling import RandomUnderSampler\n",
        "# function to fit and tune the model\n",
        "def dt_select(x_train,y_train,score):\n",
        "    # possible values for the model to be tuned on\n",
        "    param_grid = {\n",
        "        'max_depth': [4,8,10,12,15,20],\n",
        "        'min_samples_split': np.linspace(0.1, 0.3, 3, endpoint=True),\n",
        "        \"max_features\":[\"log2\",\"sqrt\",None],\n",
        "        \"max_leaf_nodes\": [None,10,20,30],\n",
        "        'ccp_alpha' : np.logspace(-6, -4, 3)\n",
        "    }\n",
        "    \n",
        "    # create a base model\n",
        "    dt = DecisionTreeClassifier(random_state=100)\n",
        "\n",
        "    # initantiate the random search model based on parameters defined above\n",
        "    randomized_search = RandomizedSearchCV(estimator = dt, param_distributions = param_grid, scoring=score,cv=5)\n",
        "\n",
        "    randomized_model=randomized_search.fit(x_train,y_train)\n",
        "    return randomized_model"
      ]
    },
    {
      "cell_type": "code",
      "execution_count": 19,
      "metadata": {
        "id": "El6DAbE3BopE"
      },
      "outputs": [],
      "source": [
        "#plot feature importance\n",
        "import matplotlib.pyplot as plt\n",
        "import seaborn as sns\n",
        "def feature_importance(x_train, model):\n",
        "  features = x_train.columns.values\n",
        "  plt.figure(figsize = (12, 6))\n",
        "  ax = sns.barplot(x = features, y = model.best_estimator_.feature_importances_)\n",
        "  ax.tick_params(axis = 'x', rotation = 90)"
      ]
    },
    {
      "cell_type": "markdown",
      "metadata": {
        "id": "ppNnedYb5inF"
      },
      "source": [
        "## random sample (stratified)"
      ]
    },
    {
      "cell_type": "code",
      "execution_count": 15,
      "metadata": {
        "colab": {
          "base_uri": "https://localhost:8080/"
        },
        "id": "2lY0akED5inG",
        "outputId": "68d692c5-115e-4f81-90f3-79c3f294ddf3"
      },
      "outputs": [
        {
          "output_type": "stream",
          "name": "stdout",
          "text": [
            "optimal hyperparameters {'min_samples_split': 0.3, 'max_leaf_nodes': 10, 'max_features': 'sqrt', 'max_depth': 8, 'ccp_alpha': 1e-05}\n",
            "optimal accuracy score 0.8109073571767318\n",
            "test accuracy score 0.8109081987825261\n"
          ]
        }
      ],
      "source": [
        "#accuracy as scoring metric\n",
        "random_best = dt_select(x_train,y_train,'accuracy')\n",
        "print(\"optimal hyperparameters\",random_best.best_params_)\n",
        "print(\"optimal accuracy score\", random_best.best_score_)\n",
        "print(\"test accuracy score\",random_best.score(x_test,y_test))"
      ]
    },
    {
      "cell_type": "code",
      "source": [
        "y_test_predict = random_best.predict(x_test)  \n",
        "targets=['Poor', 'Fair', 'Good']\n",
        "model_result(random_best, x_train, y_train, x_test, y_test)"
      ],
      "metadata": {
        "colab": {
          "base_uri": "https://localhost:8080/",
          "height": 508
        },
        "id": "H0v8JpjMliX8",
        "outputId": "d60719cb-a25f-4bec-f4b6-887c25a99877"
      },
      "execution_count": 24,
      "outputs": [
        {
          "output_type": "stream",
          "name": "stdout",
          "text": [
            "Accuracy of Training data:  0.8109073571832444\n",
            "Accuracy of Testing data:  0.8109081987825261\n",
            "weigted f1 of Training data:  0.7262334423962195\n",
            "weigted f1 of Testing data:  0.7262346123285616\n"
          ]
        },
        {
          "output_type": "display_data",
          "data": {
            "text/plain": [
              "<Figure size 432x288 with 2 Axes>"
            ],
            "image/png": "[encoded data removed]"
          },
          "metadata": {
            "needs_background": "light"
          }
        },
        {
          "output_type": "stream",
          "name": "stdout",
          "text": [
            "              precision    recall  f1-score   support\n",
            "\n",
            "         0.0       0.00      0.00      0.00      5363\n",
            "         1.0       0.00      0.00      0.00     19301\n",
            "         2.0       0.81      1.00      0.90    105770\n",
            "\n",
            "    accuracy                           0.81    130434\n",
            "   macro avg       0.27      0.33      0.30    130434\n",
            "weighted avg       0.66      0.81      0.73    130434\n",
            "\n"
          ]
        }
      ]
    },
    {
      "cell_type": "code",
      "execution_count": 27,
      "metadata": {
        "colab": {
          "base_uri": "https://localhost:8080/"
        },
        "id": "dieAzdY6XKHZ",
        "outputId": "33d10123-0814-49ff-8b1b-54ddc08e2be8"
      },
      "outputs": [
        {
          "output_type": "stream",
          "name": "stdout",
          "text": [
            "optimal hyperparameters {'min_samples_split': 0.3, 'max_leaf_nodes': 10, 'max_features': 'log2', 'max_depth': 15, 'ccp_alpha': 0.0001}\n",
            "optimal f1 score 0.7262334423875809\n",
            "test f1 score 0.7262346123285616\n"
          ]
        }
      ],
      "source": [
        "#f1 as scoring metric\n",
        "random_best = dt_select(x_train,y_train,'f1_weighted')\n",
        "print(\"optimal hyperparameters\",random_best.best_params_)\n",
        "print(\"optimal f1 score\", random_best.best_score_)\n",
        "print(\"test f1 score\",random_best.score(x_test,y_test))"
      ]
    },
    {
      "cell_type": "code",
      "source": [
        "model_result(random_best, x_train, y_train, x_test, y_test)"
      ],
      "metadata": {
        "colab": {
          "base_uri": "https://localhost:8080/",
          "height": 508
        },
        "id": "hi_ljhGCpcvd",
        "outputId": "b1b1389e-634d-4e01-84ff-3db62e40b5a7"
      },
      "execution_count": 28,
      "outputs": [
        {
          "output_type": "stream",
          "name": "stdout",
          "text": [
            "Accuracy of Training data:  0.8109073571832444\n",
            "Accuracy of Testing data:  0.8109081987825261\n",
            "weigted f1 of Training data:  0.7262334423962195\n",
            "weigted f1 of Testing data:  0.7262346123285616\n"
          ]
        },
        {
          "output_type": "display_data",
          "data": {
            "text/plain": [
              "<Figure size 432x288 with 2 Axes>"
            ],
            "image/png": "[encoded data removed]"
          },
          "metadata": {
            "needs_background": "light"
          }
        },
        {
          "output_type": "stream",
          "name": "stdout",
          "text": [
            "              precision    recall  f1-score   support\n",
            "\n",
            "         0.0       0.00      0.00      0.00      5363\n",
            "         1.0       0.00      0.00      0.00     19301\n",
            "         2.0       0.81      1.00      0.90    105770\n",
            "\n",
            "    accuracy                           0.81    130434\n",
            "   macro avg       0.27      0.33      0.30    130434\n",
            "weighted avg       0.66      0.81      0.73    130434\n",
            "\n"
          ]
        }
      ]
    },
    {
      "cell_type": "code",
      "execution_count": 29,
      "metadata": {
        "colab": {
          "base_uri": "https://localhost:8080/",
          "height": 560
        },
        "id": "mL0vEAadJNN3",
        "outputId": "a6f488f6-2ba2-4f34-c710-9f3bc80d9b03"
      },
      "outputs": [
        {
          "output_type": "stream",
          "name": "stdout",
          "text": [
            "optimal hyperparameters {'min_samples_split': 0.1, 'max_leaf_nodes': None, 'max_features': 'sqrt', 'max_depth': 8, 'ccp_alpha': 1e-06}\n",
            "optimal f1 score 0.8109073571767318\n",
            "test f1 score 0.8109081987825261\n",
            "Accuracy of Training data:  0.8109073571832444\n",
            "Accuracy of Testing data:  0.8109081987825261\n",
            "weigted f1 of Training data:  0.7262334423962195\n",
            "weigted f1 of Testing data:  0.7262346123285616\n"
          ]
        },
        {
          "output_type": "display_data",
          "data": {
            "text/plain": [
              "<Figure size 432x288 with 2 Axes>"
            ],
            "image/png": "[encoded data removed]"
          },
          "metadata": {
            "needs_background": "light"
          }
        },
        {
          "output_type": "stream",
          "name": "stdout",
          "text": [
            "              precision    recall  f1-score   support\n",
            "\n",
            "         0.0       0.00      0.00      0.00      5363\n",
            "         1.0       0.00      0.00      0.00     19301\n",
            "         2.0       0.81      1.00      0.90    105770\n",
            "\n",
            "    accuracy                           0.81    130434\n",
            "   macro avg       0.27      0.33      0.30    130434\n",
            "weighted avg       0.66      0.81      0.73    130434\n",
            "\n"
          ]
        }
      ],
      "source": [
        "#recall weight as scoring metric\n",
        "random_best = dt_select(x_train,y_train,'recall_weighted')\n",
        "print(\"optimal hyperparameters\",random_best.best_params_)\n",
        "print(\"optimal f1 score\", random_best.best_score_)\n",
        "print(\"test f1 score\",random_best.score(x_test,y_test))\n",
        "model_result(random_best, x_train, y_train, x_test, y_test)"
      ]
    },
    {
      "cell_type": "code",
      "source": [
        "random_best = dt_select(x_train,y_train,'average_precision')\n",
        "print(\"optimal hyperparameters\",random_best.best_params_)\n",
        "print(\"optimal score\", random_best.best_score_)\n",
        "\n",
        "model_result(random_best, x_train, y_train, x_test, y_test)"
      ],
      "metadata": {
        "colab": {
          "base_uri": "https://localhost:8080/",
          "height": 473
        },
        "id": "OWWmLfKdr7vI",
        "outputId": "fc32c7e7-54d9-4ffd-d993-7b0795b8bff4"
      },
      "execution_count": 75,
      "outputs": [
        {
          "output_type": "stream",
          "name": "stdout",
          "text": [
            "optimal hyperparameters {'min_samples_split': 0.1, 'max_leaf_nodes': 30, 'max_features': 'sqrt', 'max_depth': 10, 'ccp_alpha': 0.0001}\n",
            "optimal score nan\n"
          ]
        },
        {
          "output_type": "display_data",
          "data": {
            "text/plain": [
              "<Figure size 432x288 with 2 Axes>"
            ],
            "image/png": "[encoded data removed]"
          },
          "metadata": {
            "needs_background": "light"
          }
        },
        {
          "output_type": "stream",
          "name": "stdout",
          "text": [
            "              precision    recall  f1-score   support\n",
            "\n",
            "         0.0       0.00      0.00      0.00      5363\n",
            "         1.0       0.00      0.00      0.00     19301\n",
            "         2.0       0.81      1.00      0.90    105770\n",
            "\n",
            "    accuracy                           0.81    130434\n",
            "   macro avg       0.27      0.33      0.30    130434\n",
            "weighted avg       0.66      0.81      0.73    130434\n",
            "\n"
          ]
        }
      ]
    },
    {
      "cell_type": "code",
      "source": [
        "model_result(random_best, x_train, y_train, x_test, y_test)"
      ],
      "metadata": {
        "colab": {
          "base_uri": "https://localhost:8080/",
          "height": 508
        },
        "id": "6Pv5uitVskve",
        "outputId": "68ab56ec-f367-484d-c43f-1e9a260900ab"
      },
      "execution_count": 31,
      "outputs": [
        {
          "output_type": "stream",
          "name": "stdout",
          "text": [
            "Accuracy of Training data:  0.8109073571832444\n",
            "Accuracy of Testing data:  0.8109081987825261\n",
            "weigted f1 of Training data:  0.7262334423962195\n",
            "weigted f1 of Testing data:  0.7262346123285616\n"
          ]
        },
        {
          "output_type": "display_data",
          "data": {
            "text/plain": [
              "<Figure size 432x288 with 2 Axes>"
            ],
            "image/png": "[encoded data removed]"
          },
          "metadata": {
            "needs_background": "light"
          }
        },
        {
          "output_type": "stream",
          "name": "stdout",
          "text": [
            "              precision    recall  f1-score   support\n",
            "\n",
            "         0.0       0.00      0.00      0.00      5363\n",
            "         1.0       0.00      0.00      0.00     19301\n",
            "         2.0       0.81      1.00      0.90    105770\n",
            "\n",
            "    accuracy                           0.81    130434\n",
            "   macro avg       0.27      0.33      0.30    130434\n",
            "weighted avg       0.66      0.81      0.73    130434\n",
            "\n"
          ]
        }
      ]
    },
    {
      "cell_type": "markdown",
      "metadata": {
        "id": "tHxa2z4OZwZl"
      },
      "source": [
        "hyperparamter the same for borh metircs"
      ]
    },
    {
      "cell_type": "markdown",
      "metadata": {
        "id": "v803X6DSCOtl"
      },
      "source": [
        "## oversampling"
      ]
    },
    {
      "cell_type": "code",
      "execution_count": 32,
      "metadata": {
        "colab": {
          "base_uri": "https://localhost:8080/",
          "height": 560
        },
        "id": "hJtXbCI5CA2W",
        "outputId": "23dc6cb9-8c90-4120-a976-7ae5e945941a"
      },
      "outputs": [
        {
          "output_type": "stream",
          "name": "stdout",
          "text": [
            "optimal hyperparameters {'min_samples_split': 0.2, 'max_leaf_nodes': 30, 'max_features': None, 'max_depth': 4, 'ccp_alpha': 1e-05}\n",
            "optimal accuracy score 0.4108917864089053\n",
            "test accuracy 0.6186117116702701\n",
            "Accuracy of Training data:  0.4060138528189689\n",
            "Accuracy of Testing data:  0.6246530812518208\n",
            "weigted f1 of Training data:  0.32203780773959395\n",
            "weigted f1 of Testing data:  0.6438258280190802\n"
          ]
        },
        {
          "output_type": "display_data",
          "data": {
            "text/plain": [
              "<Figure size 432x288 with 2 Axes>"
            ],
            "image/png": "[encoded data removed]"
          },
          "metadata": {
            "needs_background": "light"
          }
        },
        {
          "output_type": "stream",
          "name": "stdout",
          "text": [
            "              precision    recall  f1-score   support\n",
            "\n",
            "         0.0       0.07      0.47      0.12      5363\n",
            "         1.0       0.00      0.00      0.00     19301\n",
            "         2.0       0.83      0.75      0.79    105770\n",
            "\n",
            "    accuracy                           0.62    130434\n",
            "   macro avg       0.30      0.40      0.30    130434\n",
            "weighted avg       0.68      0.62      0.64    130434\n",
            "\n"
          ]
        }
      ],
      "source": [
        "#accuracy as metric for hyperparamter pruning\n",
        "over_best = dt_select(x_ros, y_ros,'accuracy')\n",
        "\n",
        "print(\"optimal hyperparameters\",over_best.best_params_)\n",
        "print(\"optimal accuracy score\", over_best.best_score_)\n",
        "#y_pred=over_best.predict(x_test)\n",
        "print(\"test accuracy\",over_best.score(x_test,y_test))\n",
        "model_result(over_best, x_ros, y_ros, x_test, y_test)"
      ]
    },
    {
      "cell_type": "code",
      "execution_count": 33,
      "metadata": {
        "colab": {
          "base_uri": "https://localhost:8080/",
          "height": 560
        },
        "id": "h6_CF_nUWkdV",
        "outputId": "9637cdec-a037-46f5-8cfe-41cab4b405e6"
      },
      "outputs": [
        {
          "output_type": "stream",
          "name": "stdout",
          "text": [
            "optimal hyperparameters {'min_samples_split': 0.1, 'max_leaf_nodes': None, 'max_features': None, 'max_depth': 8, 'ccp_alpha': 1e-06}\n",
            "optimal accuracy score 0.39557413924226675\n",
            "test accuracy 0.6258606258151398\n",
            "Accuracy of Training data:  0.41505767740245364\n",
            "Accuracy of Testing data:  0.4713571614763022\n",
            "weigted f1 of Training data:  0.4079269747649852\n",
            "weigted f1 of Testing data:  0.5513119503615664\n"
          ]
        },
        {
          "output_type": "display_data",
          "data": {
            "text/plain": [
              "<Figure size 432x288 with 2 Axes>"
            ],
            "image/png": "[encoded data removed]"
          },
          "metadata": {
            "needs_background": "light"
          }
        },
        {
          "output_type": "stream",
          "name": "stdout",
          "text": [
            "              precision    recall  f1-score   support\n",
            "\n",
            "         0.0       0.07      0.47      0.12      5363\n",
            "         1.0       0.16      0.26      0.20     19301\n",
            "         2.0       0.85      0.51      0.64    105770\n",
            "\n",
            "    accuracy                           0.47    130434\n",
            "   macro avg       0.36      0.41      0.32    130434\n",
            "weighted avg       0.72      0.47      0.55    130434\n",
            "\n"
          ]
        }
      ],
      "source": [
        "#f1_weighted as score\n",
        "over_best = dt_select(x_ros, y_ros,'f1_weighted')\n",
        "\n",
        "print(\"optimal hyperparameters\",over_best.best_params_)\n",
        "print(\"optimal accuracy score\", over_best.best_score_)\n",
        "#y_pred=over_best.predict(x_test)\n",
        "print(\"test accuracy\",over_best.score(x_test,y_test))\n",
        "model_result(over_best, x_ros, y_ros, x_test, y_test)\n"
      ]
    },
    {
      "cell_type": "code",
      "source": [
        "#precision_weighted as score\n",
        "over_best = dt_select(x_ros, y_ros,'precision_weighted')\n",
        "\n",
        "print(\"optimal hyperparameters\",over_best.best_params_)\n",
        "print(\"optimal accuracy score\", over_best.best_score_)\n",
        "#y_pred=over_best.predict(x_test)\n",
        "print(\"test accuracy\",over_best.score(x_test,y_test))\n",
        "model_result(over_best, x_ros, y_ros, x_test, y_test)"
      ],
      "metadata": {
        "colab": {
          "base_uri": "https://localhost:8080/",
          "height": 491
        },
        "id": "cBUTo0XCuIPN",
        "outputId": "456e54c8-5c33-4b2f-9d57-701d5c43fc11"
      },
      "execution_count": 36,
      "outputs": [
        {
          "output_type": "stream",
          "name": "stdout",
          "text": [
            "optimal hyperparameters {'min_samples_split': 0.2, 'max_leaf_nodes': 30, 'max_features': None, 'max_depth': 4, 'ccp_alpha': 0.0001}\n",
            "optimal accuracy score 0.42386508058489125\n",
            "test accuracy 0.7197608397409707\n"
          ]
        },
        {
          "output_type": "display_data",
          "data": {
            "text/plain": [
              "<Figure size 432x288 with 2 Axes>"
            ],
            "image/png": "[encoded data removed]"
          },
          "metadata": {
            "needs_background": "light"
          }
        },
        {
          "output_type": "stream",
          "name": "stdout",
          "text": [
            "              precision    recall  f1-score   support\n",
            "\n",
            "         0.0       0.07      0.47      0.12      5363\n",
            "         1.0       0.26      0.03      0.05     19301\n",
            "         2.0       0.84      0.73      0.78    105770\n",
            "\n",
            "    accuracy                           0.62    130434\n",
            "   macro avg       0.39      0.41      0.32    130434\n",
            "weighted avg       0.72      0.62      0.65    130434\n",
            "\n"
          ]
        }
      ]
    },
    {
      "cell_type": "code",
      "execution_count": 35,
      "metadata": {
        "colab": {
          "base_uri": "https://localhost:8080/",
          "height": 491
        },
        "id": "X2et0xX1YWX5",
        "outputId": "54280d36-8332-41ae-f598-054d5e62eaa7"
      },
      "outputs": [
        {
          "output_type": "stream",
          "name": "stdout",
          "text": [
            "optimal hyperparameters {'min_samples_split': 0.2, 'max_leaf_nodes': 20, 'max_features': None, 'max_depth': 8, 'ccp_alpha': 1e-05}\n",
            "optimal accuracy score 0.4165339625898258\n",
            "test accuracy 0.47135716147630224\n"
          ]
        },
        {
          "output_type": "display_data",
          "data": {
            "text/plain": [
              "<Figure size 432x288 with 2 Axes>"
            ],
            "image/png": "[encoded data removed]"
          },
          "metadata": {
            "needs_background": "light"
          }
        },
        {
          "output_type": "stream",
          "name": "stdout",
          "text": [
            "              precision    recall  f1-score   support\n",
            "\n",
            "         0.0       0.07      0.47      0.12      5363\n",
            "         1.0       0.16      0.26      0.20     19301\n",
            "         2.0       0.85      0.51      0.64    105770\n",
            "\n",
            "    accuracy                           0.47    130434\n",
            "   macro avg       0.36      0.41      0.32    130434\n",
            "weighted avg       0.72      0.47      0.55    130434\n",
            "\n"
          ]
        }
      ],
      "source": [
        "#recall weighted as score\n",
        "over_best = dt_select(x_ros, y_ros,'recall_weighted')\n",
        "\n",
        "print(\"optimal hyperparameters\",over_best.best_params_)\n",
        "print(\"optimal accuracy score\", over_best.best_score_)\n",
        "#y_pred=over_best.predict(x_test)\n",
        "print(\"test accuracy\",over_best.score(x_test,y_test))\n",
        "model_result(over_best, x_ros, y_ros, x_test, y_test)"
      ]
    },
    {
      "cell_type": "code",
      "execution_count": 37,
      "metadata": {
        "id": "QIhU4DXraYI3",
        "colab": {
          "base_uri": "https://localhost:8080/",
          "height": 473
        },
        "outputId": "7faaf81f-41aa-4b42-b476-6ff67f63f332"
      },
      "outputs": [
        {
          "output_type": "stream",
          "name": "stdout",
          "text": [
            "optimal hyperparameters {'min_samples_split': 0.3, 'max_leaf_nodes': None, 'max_features': None, 'max_depth': 15, 'ccp_alpha': 1e-06}\n",
            "optimal accuracy score nan\n"
          ]
        },
        {
          "output_type": "display_data",
          "data": {
            "text/plain": [
              "<Figure size 432x288 with 2 Axes>"
            ],
            "image/png": "[encoded data removed]"
          },
          "metadata": {
            "needs_background": "light"
          }
        },
        {
          "output_type": "stream",
          "name": "stdout",
          "text": [
            "              precision    recall  f1-score   support\n",
            "\n",
            "         0.0       0.08      0.30      0.12      5363\n",
            "         1.0       0.16      0.22      0.18     19301\n",
            "         2.0       0.84      0.65      0.74    105770\n",
            "\n",
            "    accuracy                           0.58    130434\n",
            "   macro avg       0.36      0.39      0.35    130434\n",
            "weighted avg       0.71      0.58      0.63    130434\n",
            "\n"
          ]
        }
      ],
      "source": [
        "random_best = dt_select(x_train,y_train,'average_precision')\n",
        "over_best = dt_select(x_ros, y_ros,'average_precision')\n",
        "\n",
        "print(\"optimal hyperparameters\",over_best.best_params_)\n",
        "print(\"optimal accuracy score\", over_best.best_score_)\n",
        "#y_pred=over_best.predict(x_test)\n",
        "\n",
        "model_result(over_best, x_ros, y_ros, x_test, y_test)"
      ]
    },
    {
      "cell_type": "code",
      "source": [
        "#recall macro as score\n",
        "over_best = dt_select(x_ros, y_ros,'recall_macro')\n",
        "\n",
        "print(\"optimal hyperparameters\",over_best.best_params_)\n",
        "print(\"optimal score\", over_best.best_score_)\n",
        "#y_pred=over_best.predict(x_test)\n",
        "print(\"test score\",over_best.score(x_test,y_test))\n",
        "model_result(over_best, x_ros, y_ros, x_test, y_test)"
      ],
      "metadata": {
        "colab": {
          "base_uri": "https://localhost:8080/",
          "height": 491
        },
        "id": "64r5EUbc3ApU",
        "outputId": "6b1ee666-5c2a-4620-b7ac-a46f23cd227c"
      },
      "execution_count": 50,
      "outputs": [
        {
          "output_type": "stream",
          "name": "stdout",
          "text": [
            "optimal hyperparameters {'min_samples_split': 0.2, 'max_leaf_nodes': None, 'max_features': None, 'max_depth': 12, 'ccp_alpha': 1e-06}\n",
            "optimal score 0.41653391185405864\n",
            "test score 0.41348892269960763\n"
          ]
        },
        {
          "output_type": "display_data",
          "data": {
            "text/plain": [
              "<Figure size 432x288 with 2 Axes>"
            ],
            "image/png": "[encoded data removed]"
          },
          "metadata": {
            "needs_background": "light"
          }
        },
        {
          "output_type": "stream",
          "name": "stdout",
          "text": [
            "              precision    recall  f1-score   support\n",
            "\n",
            "         0.0       0.07      0.47      0.12      5363\n",
            "         1.0       0.26      0.03      0.05     19301\n",
            "         2.0       0.84      0.73      0.78    105770\n",
            "\n",
            "    accuracy                           0.62    130434\n",
            "   macro avg       0.39      0.41      0.32    130434\n",
            "weighted avg       0.72      0.62      0.65    130434\n",
            "\n"
          ]
        }
      ]
    },
    {
      "cell_type": "markdown",
      "metadata": {
        "id": "cXG1isZGad3I"
      },
      "source": [
        "precision best"
      ]
    },
    {
      "cell_type": "markdown",
      "metadata": {
        "id": "DIqoQfAVDKIM"
      },
      "source": [
        "## undersampling"
      ]
    },
    {
      "cell_type": "code",
      "execution_count": 38,
      "metadata": {
        "colab": {
          "base_uri": "https://localhost:8080/",
          "height": 491
        },
        "id": "3MbFXI0rDI2f",
        "outputId": "c4f82435-4d1f-4d0c-a0f3-0a1dadf3dc3c"
      },
      "outputs": [
        {
          "output_type": "stream",
          "name": "stdout",
          "text": [
            "optimal hyperparameters {'min_samples_split': 0.1, 'max_leaf_nodes': None, 'max_features': None, 'max_depth': 20, 'ccp_alpha': 1e-05}\n",
            "optimal accuracy score 0.42282814886132025\n",
            "test accuracy 0.5130334115338026\n"
          ]
        },
        {
          "output_type": "display_data",
          "data": {
            "text/plain": [
              "<Figure size 432x288 with 2 Axes>"
            ],
            "image/png": "[encoded data removed]"
          },
          "metadata": {
            "needs_background": "light"
          }
        },
        {
          "output_type": "stream",
          "name": "stdout",
          "text": [
            "              precision    recall  f1-score   support\n",
            "\n",
            "         0.0       0.08      0.30      0.12      5363\n",
            "         1.0       0.16      0.22      0.18     19301\n",
            "         2.0       0.84      0.65      0.74    105770\n",
            "\n",
            "    accuracy                           0.58    130434\n",
            "   macro avg       0.36      0.39      0.35    130434\n",
            "weighted avg       0.71      0.58      0.63    130434\n",
            "\n"
          ]
        }
      ],
      "source": [
        "under_best = dt_select(x_rus, y_rus,'accuracy')\n",
        "print(\"optimal hyperparameters\",under_best.best_params_)\n",
        "print(\"optimal accuracy score\", under_best.best_score_)\n",
        "\n",
        "print(\"test accuracy\",under_best.score(x_test,y_test))\n",
        "model_result(under_best, x_ros, y_ros, x_test, y_test)"
      ]
    },
    {
      "cell_type": "code",
      "execution_count": 39,
      "metadata": {
        "colab": {
          "base_uri": "https://localhost:8080/",
          "height": 491
        },
        "id": "MGD2LzLIUnaP",
        "outputId": "dae2b4ba-1d1d-4b10-e1da-0934330b4d0f"
      },
      "outputs": [
        {
          "output_type": "stream",
          "name": "stdout",
          "text": [
            "optimal hyperparameters {'min_samples_split': 0.2, 'max_leaf_nodes': 10, 'max_features': None, 'max_depth': 12, 'ccp_alpha': 1e-05}\n",
            "optimal accuracy score 0.403503916707413\n",
            "test accuracy 0.5239295859951179\n"
          ]
        },
        {
          "output_type": "display_data",
          "data": {
            "text/plain": [
              "<Figure size 432x288 with 2 Axes>"
            ],
            "image/png": "[encoded data removed]"
          },
          "metadata": {
            "needs_background": "light"
          }
        },
        {
          "output_type": "stream",
          "name": "stdout",
          "text": [
            "              precision    recall  f1-score   support\n",
            "\n",
            "         0.0       0.07      0.47      0.12      5363\n",
            "         1.0       0.16      0.26      0.20     19301\n",
            "         2.0       0.85      0.51      0.64    105770\n",
            "\n",
            "    accuracy                           0.47    130434\n",
            "   macro avg       0.36      0.41      0.32    130434\n",
            "weighted avg       0.72      0.47      0.55    130434\n",
            "\n"
          ]
        }
      ],
      "source": [
        "under_best = dt_select(x_rus, y_rus,'f1_weighted')\n",
        "print(\"optimal hyperparameters\",under_best.best_params_)\n",
        "print(\"optimal accuracy score\", under_best.best_score_)\n",
        "\n",
        "print(\"test accuracy\",under_best.score(x_test,y_test))\n",
        "model_result(under_best, x_ros, y_ros, x_test, y_test)"
      ]
    },
    {
      "cell_type": "code",
      "source": [
        "under_best = dt_select(x_rus, y_rus,'precision_weighted')\n",
        "print(\"optimal hyperparameters\",under_best.best_params_)\n",
        "print(\"optimal accuracy score\", under_best.best_score_)\n",
        "\n",
        "print(\"test accuracy\",under_best.score(x_test,y_test))\n",
        "model_result(under_best, x_ros, y_ros, x_test, y_test)"
      ],
      "metadata": {
        "colab": {
          "base_uri": "https://localhost:8080/",
          "height": 491
        },
        "id": "BgnHvKHzxrgx",
        "outputId": "c846a325-bc85-4cc9-baec-bc8398da2231"
      },
      "execution_count": 40,
      "outputs": [
        {
          "output_type": "stream",
          "name": "stdout",
          "text": [
            "optimal hyperparameters {'min_samples_split': 0.2, 'max_leaf_nodes': 30, 'max_features': None, 'max_depth': 12, 'ccp_alpha': 0.0001}\n",
            "optimal accuracy score 0.41331703739340175\n",
            "test accuracy 0.7134674141375095\n"
          ]
        },
        {
          "output_type": "display_data",
          "data": {
            "text/plain": [
              "<Figure size 432x288 with 2 Axes>"
            ],
            "image/png": "[encoded data removed]"
          },
          "metadata": {
            "needs_background": "light"
          }
        },
        {
          "output_type": "stream",
          "name": "stdout",
          "text": [
            "              precision    recall  f1-score   support\n",
            "\n",
            "         0.0       0.07      0.47      0.12      5363\n",
            "         1.0       0.16      0.26      0.20     19301\n",
            "         2.0       0.85      0.51      0.64    105770\n",
            "\n",
            "    accuracy                           0.47    130434\n",
            "   macro avg       0.36      0.41      0.32    130434\n",
            "weighted avg       0.72      0.47      0.55    130434\n",
            "\n"
          ]
        }
      ]
    },
    {
      "cell_type": "code",
      "execution_count": 41,
      "metadata": {
        "colab": {
          "base_uri": "https://localhost:8080/",
          "height": 491
        },
        "id": "V53g0T_zNklp",
        "outputId": "63d540be-a5b8-4309-a3b6-8365cdc1b608"
      },
      "outputs": [
        {
          "output_type": "stream",
          "name": "stdout",
          "text": [
            "optimal hyperparameters {'min_samples_split': 0.3, 'max_leaf_nodes': None, 'max_features': None, 'max_depth': 4, 'ccp_alpha': 1e-05}\n",
            "optimal accuracy score 0.4043968914462073\n",
            "test accuracy 0.6246530812518208\n"
          ]
        },
        {
          "output_type": "display_data",
          "data": {
            "text/plain": [
              "<Figure size 432x288 with 2 Axes>"
            ],
            "image/png": "[encoded data removed]"
          },
          "metadata": {
            "needs_background": "light"
          }
        },
        {
          "output_type": "stream",
          "name": "stdout",
          "text": [
            "              precision    recall  f1-score   support\n",
            "\n",
            "         0.0       0.07      0.47      0.12      5363\n",
            "         1.0       0.16      0.26      0.20     19301\n",
            "         2.0       0.85      0.51      0.64    105770\n",
            "\n",
            "    accuracy                           0.47    130434\n",
            "   macro avg       0.36      0.41      0.32    130434\n",
            "weighted avg       0.72      0.47      0.55    130434\n",
            "\n"
          ]
        }
      ],
      "source": [
        "under_best = dt_select(x_rus, y_rus,'recall_weighted')\n",
        "print(\"optimal hyperparameters\",under_best.best_params_)\n",
        "print(\"optimal accuracy score\", under_best.best_score_)\n",
        "\n",
        "print(\"test accuracy\",under_best.score(x_test,y_test))\n",
        "model_result(under_best, x_ros, y_ros, x_test, y_test)"
      ]
    },
    {
      "cell_type": "code",
      "source": [
        "under_best = dt_select(x_rus, y_rus,'recall_macro')\n",
        "print(\"optimal hyperparameters\",under_best.best_params_)\n",
        "print(\"optimal score\", under_best.best_score_)\n",
        "\n",
        "print(\"test score\",under_best.score(x_test,y_test))\n",
        "model_result(under_best, x_ros, y_ros, x_test, y_test)"
      ],
      "metadata": {
        "colab": {
          "base_uri": "https://localhost:8080/",
          "height": 491
        },
        "id": "cgVBpQFI1On8",
        "outputId": "5bf0400d-8a3a-46c3-99b9-66d123563ea5"
      },
      "execution_count": 49,
      "outputs": [
        {
          "output_type": "stream",
          "name": "stdout",
          "text": [
            "optimal hyperparameters {'min_samples_split': 0.1, 'max_leaf_nodes': 20, 'max_features': None, 'max_depth': 10, 'ccp_alpha': 1e-06}\n",
            "optimal accuracy score 0.4226153511181184\n",
            "test accuracy 0.4202120521676436\n"
          ]
        },
        {
          "output_type": "display_data",
          "data": {
            "text/plain": [
              "<Figure size 432x288 with 2 Axes>"
            ],
            "image/png": "[encoded data removed]"
          },
          "metadata": {
            "needs_background": "light"
          }
        },
        {
          "output_type": "stream",
          "name": "stdout",
          "text": [
            "              precision    recall  f1-score   support\n",
            "\n",
            "         0.0       0.07      0.49      0.12      5363\n",
            "         1.0       0.19      0.15      0.17     19301\n",
            "         2.0       0.85      0.63      0.72    105770\n",
            "\n",
            "    accuracy                           0.55    130434\n",
            "   macro avg       0.37      0.42      0.34    130434\n",
            "weighted avg       0.72      0.55      0.62    130434\n",
            "\n"
          ]
        }
      ]
    },
    {
      "cell_type": "code",
      "source": [
        "# from sklearn.metrics import brier_score_loss\n",
        "# from sklearn.calibration import CalibrationDisplay, CalibratedClassifierCV\n",
        "# # Isotonic Regression\n",
        "# cal_isotonic = CalibratedClassifierCV(under_best, cv = \"prefit\", method = \"isotonic\")\n",
        "# cal_isotonic.fit(x_rus, y_rus)\n",
        "# display_isotonic = CalibrationDisplay.from_estimator(cal_isotonic, x_test, y_test, n_bins = 10, name = 'Calibrated (Isotonic)')\n",
        "\n",
        "# # Platt Scaling\n",
        "# cal_platt = CalibratedClassifierCV(under_best, cv = \"prefit\", method = \"sigmoid\")\n",
        "# cal_platt.fit(x_rus, y_rus)\n",
        "# display_platt = CalibrationDisplay.from_estimator(cal_platt, x_test, y_test, n_bins = 10, name = 'Calibrated (Platt)')"
      ],
      "metadata": {
        "id": "7VDYVN74317X"
      },
      "execution_count": 53,
      "outputs": []
    },
    {
      "cell_type": "markdown",
      "metadata": {
        "id": "PQLS_EjubOHt"
      },
      "source": [
        "except accuracy, no difference"
      ]
    },
    {
      "cell_type": "markdown",
      "metadata": {
        "id": "GDFLspcSDNT7"
      },
      "source": [
        "## SMOTE"
      ]
    },
    {
      "cell_type": "code",
      "execution_count": 43,
      "metadata": {
        "colab": {
          "base_uri": "https://localhost:8080/",
          "height": 491
        },
        "id": "klEK1TzKDSCd",
        "outputId": "13a8f37b-6213-4509-fa31-8a69bbb2834c"
      },
      "outputs": [
        {
          "output_type": "stream",
          "name": "stdout",
          "text": [
            "optimal hyperparameters {'min_samples_split': 0.1, 'max_leaf_nodes': 10, 'max_features': None, 'max_depth': 20, 'ccp_alpha': 1e-06}\n",
            "optimal accuracy score 0.4135922296163505\n",
            "test accuracy 0.6186117116702701\n"
          ]
        },
        {
          "output_type": "display_data",
          "data": {
            "text/plain": [
              "<Figure size 432x288 with 2 Axes>"
            ],
            "image/png": "[encoded data removed]"
          },
          "metadata": {
            "needs_background": "light"
          }
        },
        {
          "output_type": "stream",
          "name": "stdout",
          "text": [
            "              precision    recall  f1-score   support\n",
            "\n",
            "         0.0       0.07      0.49      0.12      5363\n",
            "         1.0       0.16      0.25      0.20     19301\n",
            "         2.0       0.85      0.51      0.64    105770\n",
            "\n",
            "    accuracy                           0.47    130434\n",
            "   macro avg       0.36      0.42      0.32    130434\n",
            "weighted avg       0.72      0.47      0.55    130434\n",
            "\n"
          ]
        }
      ],
      "source": [
        "#accuracy as metric\n",
        "smote_best = dt_select(x_smote, y_smote,\"accuracy\")\n",
        "print(\"optimal hyperparameters\",smote_best.best_params_)\n",
        "print(\"optimal accuracy score\", smote_best.best_score_)\n",
        "print(\"test accuracy\",smote_best.score(x_test,y_test))\n",
        "model_result(smote_best, x_smote, y_smote, x_test, y_test)"
      ]
    },
    {
      "cell_type": "code",
      "execution_count": 44,
      "metadata": {
        "colab": {
          "base_uri": "https://localhost:8080/",
          "height": 491
        },
        "id": "VXHz3_hBc1-G",
        "outputId": "2ebaa541-64fe-4848-bd86-1c2e3e8736fa"
      },
      "outputs": [
        {
          "output_type": "stream",
          "name": "stdout",
          "text": [
            "optimal hyperparameters {'min_samples_split': 0.1, 'max_leaf_nodes': 20, 'max_features': None, 'max_depth': 10, 'ccp_alpha': 1e-06}\n",
            "optimal accuracy score 0.42223916356984786\n",
            "test accuracy 0.4855329131974792\n"
          ]
        },
        {
          "output_type": "display_data",
          "data": {
            "text/plain": [
              "<Figure size 432x288 with 2 Axes>"
            ],
            "image/png": "[encoded data removed]"
          },
          "metadata": {
            "needs_background": "light"
          }
        },
        {
          "output_type": "stream",
          "name": "stdout",
          "text": [
            "              precision    recall  f1-score   support\n",
            "\n",
            "         0.0       0.07      0.47      0.12      5363\n",
            "         1.0       0.17      0.15      0.16     19301\n",
            "         2.0       0.84      0.62      0.71    105770\n",
            "\n",
            "    accuracy                           0.54    130434\n",
            "   macro avg       0.36      0.41      0.33    130434\n",
            "weighted avg       0.71      0.54      0.61    130434\n",
            "\n"
          ]
        }
      ],
      "source": [
        "smote_best = dt_select(x_smote, y_smote,\"recall_weighted\")\n",
        "print(\"optimal hyperparameters\",smote_best.best_params_)\n",
        "print(\"optimal accuracy score\", smote_best.best_score_)\n",
        "print(\"test accuracy\",smote_best.score(x_test,y_test))\n",
        "model_result(smote_best, x_smote, y_smote, x_test, y_test)"
      ]
    },
    {
      "cell_type": "code",
      "execution_count": 45,
      "metadata": {
        "colab": {
          "base_uri": "https://localhost:8080/",
          "height": 491
        },
        "id": "_AHRW923PnWn",
        "outputId": "d43e85cc-5284-4152-8322-a0af22276864"
      },
      "outputs": [
        {
          "output_type": "stream",
          "name": "stdout",
          "text": [
            "optimal hyperparameters {'min_samples_split': 0.1, 'max_leaf_nodes': 20, 'max_features': None, 'max_depth': 8, 'ccp_alpha': 1e-06}\n",
            "optimal accuracy score 0.41117137282606286\n",
            "test accuracy 0.5887237551093703\n"
          ]
        },
        {
          "output_type": "display_data",
          "data": {
            "text/plain": [
              "<Figure size 432x288 with 2 Axes>"
            ],
            "image/png": "[encoded data removed]"
          },
          "metadata": {
            "needs_background": "light"
          }
        },
        {
          "output_type": "stream",
          "name": "stdout",
          "text": [
            "              precision    recall  f1-score   support\n",
            "\n",
            "         0.0       0.07      0.49      0.12      5363\n",
            "         1.0       0.16      0.25      0.20     19301\n",
            "         2.0       0.85      0.51      0.64    105770\n",
            "\n",
            "    accuracy                           0.47    130434\n",
            "   macro avg       0.36      0.42      0.32    130434\n",
            "weighted avg       0.72      0.47      0.55    130434\n",
            "\n"
          ]
        }
      ],
      "source": [
        "smote_best = dt_select(x_smote, y_smote,\"f1_weighted\")\n",
        "print(\"optimal hyperparameters\",smote_best.best_params_)\n",
        "print(\"optimal accuracy score\", smote_best.best_score_)\n",
        "print(\"test accuracy\",smote_best.score(x_test,y_test))\n",
        "model_result(smote_best, x_smote, y_smote, x_test, y_test)"
      ]
    },
    {
      "cell_type": "code",
      "source": [
        "smote_best = dt_select(x_smote, y_smote,\"precision_weighted\")\n",
        "print(\"optimal hyperparameters\",smote_best.best_params_)\n",
        "print(\"optimal accuracy score\", smote_best.best_score_)\n",
        "print(\"test accuracy\",smote_best.score(x_test,y_test))\n",
        "model_result(smote_best, x_smote, y_smote, x_test, y_test)"
      ],
      "metadata": {
        "colab": {
          "base_uri": "https://localhost:8080/",
          "height": 491
        },
        "id": "nqCPyh08zKp7",
        "outputId": "f745884d-61d8-47c9-c86e-119850410cc5"
      },
      "execution_count": 46,
      "outputs": [
        {
          "output_type": "stream",
          "name": "stdout",
          "text": [
            "optimal hyperparameters {'min_samples_split': 0.1, 'max_leaf_nodes': 10, 'max_features': None, 'max_depth': 20, 'ccp_alpha': 0.0001}\n",
            "optimal accuracy score 0.4275407152492544\n",
            "test accuracy 0.7197608397409707\n"
          ]
        },
        {
          "output_type": "display_data",
          "data": {
            "text/plain": [
              "<Figure size 432x288 with 2 Axes>"
            ],
            "image/png": "[encoded data removed]"
          },
          "metadata": {
            "needs_background": "light"
          }
        },
        {
          "output_type": "stream",
          "name": "stdout",
          "text": [
            "              precision    recall  f1-score   support\n",
            "\n",
            "         0.0       0.07      0.47      0.12      5363\n",
            "         1.0       0.26      0.03      0.05     19301\n",
            "         2.0       0.84      0.73      0.78    105770\n",
            "\n",
            "    accuracy                           0.62    130434\n",
            "   macro avg       0.39      0.41      0.32    130434\n",
            "weighted avg       0.72      0.62      0.65    130434\n",
            "\n"
          ]
        }
      ]
    },
    {
      "cell_type": "code",
      "source": [
        "smote_best = dt_select(x_smote, y_smote,\"recall_macro\")\n",
        "print(\"optimal hyperparameters\",smote_best.best_params_)\n",
        "print(\"optimal score\", smote_best.best_score_)\n",
        "print(\"test score\",smote_best.score(x_test,y_test))\n",
        "model_result(smote_best, x_smote, y_smote, x_test, y_test)"
      ],
      "metadata": {
        "colab": {
          "base_uri": "https://localhost:8080/",
          "height": 491
        },
        "id": "W_Ram2lQ1HbS",
        "outputId": "c342eebe-da78-4529-ed4b-e8cd945dade9"
      },
      "execution_count": 51,
      "outputs": [
        {
          "output_type": "stream",
          "name": "stdout",
          "text": [
            "optimal hyperparameters {'min_samples_split': 0.2, 'max_leaf_nodes': 20, 'max_features': None, 'max_depth': 10, 'ccp_alpha': 0.0001}\n",
            "optimal score 0.418894632394582\n",
            "test score 0.4117092800491748\n"
          ]
        },
        {
          "output_type": "display_data",
          "data": {
            "text/plain": [
              "<Figure size 432x288 with 2 Axes>"
            ],
            "image/png": "[encoded data removed]"
          },
          "metadata": {
            "needs_background": "light"
          }
        },
        {
          "output_type": "stream",
          "name": "stdout",
          "text": [
            "              precision    recall  f1-score   support\n",
            "\n",
            "         0.0       0.07      0.47      0.12      5363\n",
            "         1.0       0.26      0.03      0.05     19301\n",
            "         2.0       0.84      0.73      0.78    105770\n",
            "\n",
            "    accuracy                           0.62    130434\n",
            "   macro avg       0.39      0.41      0.32    130434\n",
            "weighted avg       0.72      0.62      0.65    130434\n",
            "\n"
          ]
        }
      ]
    },
    {
      "cell_type": "markdown",
      "metadata": {
        "id": "35ZaqYVQjUNv"
      },
      "source": []
    },
    {
      "cell_type": "code",
      "source": [
        "y_ros.values()"
      ],
      "metadata": {
        "colab": {
          "base_uri": "https://localhost:8080/",
          "height": 166
        },
        "id": "pdU-KSJ659gC",
        "outputId": "7cfa9181-fcc6-474c-e99d-ebbc1e35c2f0"
      },
      "execution_count": 66,
      "outputs": [
        {
          "output_type": "error",
          "ename": "AttributeError",
          "evalue": "ignored",
          "traceback": [
            "\u001b[0;31m---------------------------------------------------------------------------\u001b[0m",
            "\u001b[0;31mAttributeError\u001b[0m                            Traceback (most recent call last)",
            "\u001b[0;32m<ipython-input-66-1741ad9992af>\u001b[0m in \u001b[0;36m<module>\u001b[0;34m\u001b[0m\n\u001b[0;32m----> 1\u001b[0;31m \u001b[0my_ros\u001b[0m\u001b[0;34m.\u001b[0m\u001b[0mvalues\u001b[0m\u001b[0;34m(\u001b[0m\u001b[0;34m)\u001b[0m\u001b[0;34m\u001b[0m\u001b[0;34m\u001b[0m\u001b[0m\n\u001b[0m",
            "\u001b[0;31mAttributeError\u001b[0m: 'numpy.ndarray' object has no attribute 'values'"
          ]
        }
      ]
    }
  ],
  "metadata": {
    "accelerator": "GPU",
    "colab": {
      "provenance": []
    },
    "gpuClass": "standard",
    "kernelspec": {
      "display_name": "Python 3.8.9 64-bit",
      "language": "python",
      "name": "python3"
    },
    "language_info": {
      "codemirror_mode": {
        "name": "ipython",
        "version": 3
      },
      "file_extension": ".py",
      "mimetype": "text/x-python",
      "name": "python",
      "nbconvert_exporter": "python",
      "pygments_lexer": "ipython3",
      "version": "3.8.9"
    },
    "vscode": {
      "interpreter": {
        "hash": "31f2aee4e71d21fbe5cf8b01ff0e069b9275f58929596ceb00d14d90e3e16cd6"
      }
    }
  },
  "nbformat": 4,
  "nbformat_minor": 0
}