{
 "cells": [
  {
   "cell_type": "code",
   "execution_count": 1,
   "metadata": {
    "id": "5jxWtqQ1qdhX"
   },
   "outputs": [],
   "source": [
    "import numpy as np\n",
    "import pandas as pd\n",
    "from sklearn.preprocessing import OrdinalEncoder, OneHotEncoder, StandardScaler\n",
    "from sklearn.model_selection import train_test_split\n",
    "from imblearn.over_sampling import RandomOverSampler, SMOTE\n",
    "from imblearn.under_sampling import RandomUnderSampler"
   ]
  },
  {
   "cell_type": "code",
   "execution_count": 8,
   "metadata": {
    "id": "-LeLxD4rqocg"
   },
   "outputs": [],
   "source": [
    "# load in data with relative path\n",
    "tree_df = pd.read_csv('sample_data/2015_Street_Tree_Census_-_Tree_Data.csv')"
   ]
  },
  {
   "cell_type": "code",
   "execution_count": 9,
   "metadata": {
    "id": "_3GM8l0m5inD"
   },
   "outputs": [],
   "source": [
    "# drop columns\n",
    "tree_df = tree_df.drop(columns=[\n",
    "    'borocode', 'x_sp', 'y_sp', 'state', 'nta_name', 'zip_city', 'address',\n",
    "    'spc_latin', 'created_at', 'tree_id', 'block_id', 'user_type', 'bin',\n",
    "    'bbl', 'council district', 'boro_ct', 'census tract', 'problems', 'status',\n",
    "    'stump_diam', 'postcode', 'community board', 'cncldist', 'st_assem', 'st_senate', \n",
    "    'nta', 'spc_common'\n",
    "])\n",
    "\n",
    "# drop NA and dead tree values\n",
    "tree_df = tree_df[tree_df['health'].notna()]\n",
    "tree_df = tree_df.dropna(how='any')\n",
    "\n",
    "#no need for scaling \n",
    "# Ordinal Encode\n",
    "health = ['Poor', 'Fair', 'Good']\n",
    "enc = OrdinalEncoder(categories=[health])\n",
    "tree_df['health'] = enc.fit_transform(tree_df[['health']])\n",
    "\n",
    "steward = ['None', '1or2', '3or4', '4orMore']\n",
    "enc = OrdinalEncoder(categories=[steward])\n",
    "tree_df['steward'] = enc.fit_transform(tree_df[['steward']])\n",
    "\n",
    "sidewalk = ['NoDamage', 'Damage']\n",
    "enc = OrdinalEncoder(categories=[sidewalk])\n",
    "tree_df['sidewalk'] = enc.fit_transform(tree_df[['sidewalk']])\n",
    "\n",
    "curbloc = ['OnCurb', 'OffsetFromCurb']\n",
    "enc = OrdinalEncoder(categories=[curbloc])\n",
    "tree_df['curb_loc'] = enc.fit_transform(tree_df[['curb_loc']])\n",
    "\n",
    "yes_no = ['No', 'Yes']\n",
    "enc = OrdinalEncoder(categories=[yes_no])\n",
    "\n",
    "yes_no_features = [\n",
    "    'brch_other', 'brch_shoe', 'brch_light', 'trnk_other', 'trnk_light',\n",
    "    'trunk_wire', 'root_other', 'root_grate', 'root_stone'\n",
    "]\n",
    "\n",
    "for feat in yes_no_features:\n",
    "    tree_df[feat] = enc.fit_transform(tree_df[[feat]])\n",
    "    \n",
    "# One Hot Encode\n",
    "enc = OneHotEncoder()\n",
    "guards = enc.fit_transform(tree_df[['guards']])\n",
    "tree_df['guards_' + enc.categories_[0][:]] = guards.toarray()\n",
    "tree_df = tree_df.drop(columns=['guards'])\n",
    "\n",
    "guards = enc.fit_transform(tree_df[['borough']])\n",
    "tree_df['borough_' + enc.categories_[0][:]] = guards.toarray()\n",
    "tree_df = tree_df.drop(columns=['borough'])"
   ]
  },
  {
   "cell_type": "code",
   "execution_count": 10,
   "metadata": {
    "id": "tLDkM9VL5inE"
   },
   "outputs": [],
   "source": [
    "# split to x and y sets\n",
    "y = np.asarray(tree_df['health'])\n",
    "x = tree_df.drop(columns=['health'])"
   ]
  },
  {
   "cell_type": "code",
   "execution_count": 11,
   "metadata": {
    "id": "yQdffHHL5inE"
   },
   "outputs": [],
   "source": [
    "# random sample (stratified) for dev, test, train and val\n",
    "x_dev, x_test, y_dev, y_test = train_test_split(x, y, test_size=0.2, random_state=42, stratify = y)\n",
    "x_train, x_val, y_train, y_val = train_test_split(x_dev, y_dev, test_size=0.2, random_state=42, stratify = y_dev)"
   ]
  },
  {
   "cell_type": "code",
   "execution_count": 12,
   "metadata": {
    "id": "FR5vwZje5inE"
   },
   "outputs": [],
   "source": [
    "# over-sampling of training data\n",
    "ros = RandomOverSampler(random_state=42)\n",
    "x_ros, y_ros = ros.fit_resample(x_train, y_train)"
   ]
  },
  {
   "cell_type": "code",
   "execution_count": 13,
   "metadata": {
    "id": "TLiEyzvM5inE"
   },
   "outputs": [],
   "source": [
    "# under sampling of training data\n",
    "rus = RandomUnderSampler(random_state=42)\n",
    "x_rus, y_rus = rus.fit_resample(x_train, y_train)"
   ]
  },
  {
   "cell_type": "code",
   "execution_count": 14,
   "metadata": {
    "id": "YmEYkfHp5inE"
   },
   "outputs": [],
   "source": [
    "# smote sampling of training data\n",
    "smote = SMOTE(random_state=42)\n",
    "x_smote, y_smote = smote.fit_resample(x_train, y_train)"
   ]
  },
  {
   "cell_type": "markdown",
   "metadata": {
    "id": "IxOHvdmn5inE"
   },
   "source": [
    "## model: Decision tree"
   ]
  },
  {
   "cell_type": "code",
   "execution_count": 40,
   "metadata": {
    "id": "eKgb1NRY5inF"
   },
   "outputs": [],
   "source": [
    "from sklearn.metrics import accuracy_score, f1_score, confusion_matrix\n",
    "\n",
    "def model_result(model, x_train, y_train, x_test, y_test):\n",
    "    model.fit(x_train, y_train)\n",
    "    y_train_predict = model.predict(x_train)\n",
    "    y_test_predict = model.predict(x_test)    \n",
    "    # accuracy scores\n",
    "    acc_train = accuracy_score(y_train,y_train_predict)\n",
    "    acc_test = accuracy_score(y_test,y_test_predict)\n",
    "    # print trainind and testing accuracy\n",
    "    print(\"Accuracy of Training data: \", acc_train)\n",
    "    print(\"Accuracy of Testing data: \", acc_test)\n",
    "    # print train and test f1 score\n",
    "    f1_train = f1_score(y_train, y_train_predict , average='weighted')\n",
    "    f1_test = f1_score(y_test, y_test_predict , average='weighted')\n",
    "    print(\"weigted f1 of Training data: \", f1_train)\n",
    "    print(\"weigted f1 of Testing data: \", f1_test)\n",
    "\n",
    "    # confusion_matrix\n",
    "    cf = confusion_matrix(y_test, model.predict(x_test))\n",
    "    sns.heatmap(cf, annot = True, fmt = 'g')"
   ]
  },
  {
   "cell_type": "markdown",
   "metadata": {
    "id": "K9L4jbvkCU6Y"
   },
   "source": [
    "## Modeling and hyperparameter tuning for different sampling"
   ]
  },
  {
   "cell_type": "code",
   "execution_count": 107,
   "metadata": {
    "id": "OGObJXNg5inF"
   },
   "outputs": [],
   "source": [
    "from sklearn.tree import DecisionTreeClassifier\n",
    "from sklearn.model_selection import GridSearchCV\n",
    "def dt_select(x_train,y_train,score='f1_weighted'):\n",
    "    param_grid = {\n",
    "        'max_depth': [4,8,10,12,15,20],\n",
    "        'min_samples_split': np.linspace(0.1, 0.3, 3, endpoint=True),\n",
    "        \"max_features\":[\"log2\",\"sqrt\",None],\n",
    "        \"max_leaf_nodes\": [None,10,20,30],\n",
    "        'ccp_alpha' : np.logspace(-6, -4, 3)\n",
    "    }\n",
    "    # Create a based model\n",
    "    dt = DecisionTreeClassifier(random_state=100)\n",
    "\n",
    "    # Instantiate the grid search model\n",
    "    grid_search = GridSearchCV(estimator = dt, param_grid = param_grid, scoring=score,cv=5)#f1_weighted: Calculate metrics for each label, and find their average weighted by support (the number of true instances for each label). This alters ‘macro’ to account for label imbalance; it can result in an F-score that is not between precision and recall.\n",
    "\n",
    "    grid_model=grid_search.fit(x_train,y_train)\n",
    "    return grid_model"
   ]
  },
  {
   "cell_type": "code",
   "execution_count": 24,
   "metadata": {
    "id": "El6DAbE3BopE"
   },
   "outputs": [],
   "source": [
    "#plot feature importance\n",
    "import matplotlib.pyplot as plt\n",
    "import seaborn as sns\n",
    "def feature_importance(x_train, model):\n",
    "  features = x_train.columns.values\n",
    "  plt.figure(figsize = (12, 6))\n",
    "  ax = sns.barplot(x = features, y = model.best_estimator_.feature_importances_)\n",
    "  ax.tick_params(axis = 'x', rotation = 90)"
   ]
  },
  {
   "cell_type": "markdown",
   "metadata": {
    "id": "ppNnedYb5inF"
   },
   "source": [
    "## random sample (stratified)"
   ]
  },
  {
   "cell_type": "code",
   "execution_count": 21,
   "metadata": {
    "colab": {
     "base_uri": "https://localhost:8080/"
    },
    "id": "2lY0akED5inG",
    "outputId": "426d6a79-7d38-480f-f173-b55a0b61a08f"
   },
   "outputs": [
    {
     "name": "stdout",
     "output_type": "stream",
     "text": [
      "optimal hyperparameters {'ccp_alpha': 1e-06, 'max_depth': 8, 'max_features': 'log2', 'max_leaf_nodes': 20, 'min_samples_split': 0.1}\n",
      "optimal accuracy score 0.7565229975403825\n",
      "test accuracy 0.7559610519052365\n"
     ]
    }
   ],
   "source": [
    "#accuracy as scoring metric\n",
    "random_best = dt_select(x_train,y_train,'accuracy')\n",
    "print(\"optimal hyperparameters\",random_best.best_params_)\n",
    "print(\"optimal accuracy score\", random_best.best_score_)\n",
    "print(\"test accuracy score\",random_best.score(x_test,y_test))"
   ]
  },
  {
   "cell_type": "code",
   "execution_count": 61,
   "metadata": {
    "colab": {
     "base_uri": "https://localhost:8080/"
    },
    "id": "dieAzdY6XKHZ",
    "outputId": "b4c541bf-42e0-4eef-a2c1-4367428da446"
   },
   "outputs": [
    {
     "name": "stdout",
     "output_type": "stream",
     "text": [
      "optimal hyperparameters {'ccp_alpha': 1e-06, 'max_depth': 8, 'max_features': 'log2', 'max_leaf_nodes': 20, 'min_samples_split': 0.1}\n",
      "optimal f1 score 0.6522284055622392\n",
      "test f1 score 0.6517654048788522\n"
     ]
    }
   ],
   "source": [
    "#f1 as scoring metric\n",
    "random_best = dt_select(x_train,y_train,'f1_weighted')\n",
    "print(\"optimal hyperparameters\",random_best.best_params_)\n",
    "print(\"optimal f1 score\", random_best.best_score_)\n",
    "print(\"test f1 score\",random_best.score(x_test,y_test))"
   ]
  },
  {
   "cell_type": "markdown",
   "metadata": {
    "id": "tHxa2z4OZwZl"
   },
   "source": [
    "hyperparamter the same for borh metircs"
   ]
  },
  {
   "cell_type": "code",
   "execution_count": 68,
   "metadata": {
    "colab": {
     "base_uri": "https://localhost:8080/",
     "height": 334
    },
    "id": "mL0vEAadJNN3",
    "outputId": "a64b6df3-4ffd-4147-e50b-216f5fee8bbe"
   },
   "outputs": [
    {
     "name": "stdout",
     "output_type": "stream",
     "text": [
      "Accuracy of Training data:  0.7570021803196205\n",
      "Accuracy of Testing data:  0.7559610519052365\n",
      "weigted f1 of Training data:  0.6537558810074316\n",
      "weigted f1 of Testing data:  0.6517654048788522\n"
     ]
    },
    {
     "data": {
      "image/png": "[encoded data removed]",
      "text/plain": [
       "<Figure size 432x288 with 2 Axes>"
      ]
     },
     "metadata": {
      "needs_background": "light"
     },
     "output_type": "display_data"
    }
   ],
   "source": [
    "random_model = DecisionTreeClassifier(ccp_alpha=1e-06, max_depth=8, max_features='log2', max_leaf_nodes=20, min_samples_split= 0.1,random_state=100)\n",
    "model_result(random_model, x_train, y_train, x_test, y_test)"
   ]
  },
  {
   "cell_type": "markdown",
   "metadata": {
    "id": "v803X6DSCOtl"
   },
   "source": [
    "## oversampling"
   ]
  },
  {
   "cell_type": "code",
   "execution_count": 27,
   "metadata": {
    "colab": {
     "base_uri": "https://localhost:8080/"
    },
    "id": "hJtXbCI5CA2W",
    "outputId": "bedcf4a6-ffd8-4f9d-ae46-27739591df79"
   },
   "outputs": [
    {
     "name": "stdout",
     "output_type": "stream",
     "text": [
      "optimal hyperparameters {'ccp_alpha': 1e-06, 'max_depth': 10, 'max_features': None, 'max_leaf_nodes': None, 'min_samples_split': 0.1}\n",
      "optimal accuracy score 0.4330365961059428\n",
      "test accuracy 0.4513532162845971\n"
     ]
    }
   ],
   "source": [
    "over_best = dt_select(x_ros, y_ros,'accuracy')\n",
    "\n",
    "print(\"optimal hyperparameters\",over_best.best_params_)\n",
    "print(\"optimal accuracy score\", over_best.best_score_)\n",
    "#y_pred=over_best.predict(x_test)\n",
    "print(\"test accuracy\",over_best.score(x_test,y_test))"
   ]
  },
  {
   "cell_type": "code",
   "execution_count": null,
   "metadata": {
    "colab": {
     "base_uri": "https://localhost:8080/",
     "height": 334
    },
    "id": "h6_CF_nUWkdV",
    "outputId": "3ff85ac4-4f4f-4b88-d56f-24340586223d"
   },
   "outputs": [
    {
     "name": "stdout",
     "output_type": "stream",
     "text": [
      "Accuracy of Training data:  0.43381801670520903\n",
      "Accuracy of Testing data:  0.4513532162845971\n",
      "weigted f1 of Training data:  0.4174361475338298\n",
      "weigted f1 of Testing data:  0.5196530701155136\n"
     ]
    },
    {
     "data": {
      "image/png": "[encoded data removed]",
      "text/plain": [
       "<Figure size 432x288 with 2 Axes>"
      ]
     },
     "metadata": {
      "needs_background": "light"
     },
     "output_type": "display_data"
    }
   ],
   "source": [
    "#accuracy as metric for hyperparamter pruning\n",
    "over_model = DecisionTreeClassifier(ccp_alpha=1e-06, max_depth=10, max_features=None, max_leaf_nodes=None, min_samples_split= 0.1,random_state=100)\n",
    "model_result(over_model, x_ros, y_ros, x_test, y_test)"
   ]
  },
  {
   "cell_type": "code",
   "execution_count": 69,
   "metadata": {
    "colab": {
     "base_uri": "https://localhost:8080/"
    },
    "id": "X2et0xX1YWX5",
    "outputId": "feecda35-5d17-4bd8-a399-7ec7c830924d"
   },
   "outputs": [
    {
     "name": "stdout",
     "output_type": "stream",
     "text": [
      "optimal hyperparameters {'ccp_alpha': 1e-06, 'max_depth': 10, 'max_features': None, 'max_leaf_nodes': None, 'min_samples_split': 0.2}\n",
      "optimal accuracy score 0.421665312063899\n",
      "test accuracy 0.5108025286354237\n"
     ]
    }
   ],
   "source": [
    "over_best_f1 = dt_select(x_ros, y_ros,'f1_weighted')\n",
    "\n",
    "print(\"optimal hyperparameters\",over_best_f1.best_params_)\n",
    "print(\"optimal accuracy score\", over_best_f1.best_score_)\n",
    "#y_pred=over_best.predict(x_test)\n",
    "print(\"test accuracy\",over_best_f1.score(x_test,y_test))"
   ]
  },
  {
   "cell_type": "code",
   "execution_count": 71,
   "metadata": {
    "colab": {
     "base_uri": "https://localhost:8080/",
     "height": 334
    },
    "id": "Y0cpVg2UZ6hN",
    "outputId": "a75fc4cc-188f-4472-96d0-0acf2d5391d8"
   },
   "outputs": [
    {
     "name": "stdout",
     "output_type": "stream",
     "text": [
      "Accuracy of Training data:  0.4276934773656033\n",
      "Accuracy of Testing data:  0.4439162769301541\n",
      "weigted f1 of Training data:  0.4198089021584932\n",
      "weigted f1 of Testing data:  0.5108025286354237\n"
     ]
    },
    {
     "data": {
      "image/png": "[encoded data removed]",
      "text/plain": [
       "<Figure size 432x288 with 2 Axes>"
      ]
     },
     "metadata": {
      "needs_background": "light"
     },
     "output_type": "display_data"
    }
   ],
   "source": [
    "#f1 as metric for hyperparamter pruning\n",
    "over_model = DecisionTreeClassifier(ccp_alpha=1e-06, max_depth=10, max_features=None, max_leaf_nodes=None, min_samples_split= 0.2,random_state=100)\n",
    "model_result(over_model, x_ros, y_ros, x_test, y_test)"
   ]
  },
  {
   "cell_type": "code",
   "execution_count": null,
   "metadata": {
    "id": "QIhU4DXraYI3"
   },
   "outputs": [],
   "source": []
  },
  {
   "cell_type": "markdown",
   "metadata": {
    "id": "cXG1isZGad3I"
   },
   "source": [
    "metric accuracy has better performance\n",
    "\n",
    "metric f1 score has more balanced result"
   ]
  },
  {
   "cell_type": "markdown",
   "metadata": {
    "id": "DIqoQfAVDKIM"
   },
   "source": [
    "## undersampling"
   ]
  },
  {
   "cell_type": "code",
   "execution_count": 72,
   "metadata": {
    "colab": {
     "base_uri": "https://localhost:8080/"
    },
    "id": "3MbFXI0rDI2f",
    "outputId": "31bfa222-885c-4dfe-f1e3-112cbff4f168"
   },
   "outputs": [
    {
     "name": "stdout",
     "output_type": "stream",
     "text": [
      "optimal hyperparameters {'ccp_alpha': 1e-06, 'max_depth': 15, 'max_features': None, 'max_leaf_nodes': None, 'min_samples_split': 0.1}\n",
      "optimal accuracy score 0.4214145661174407\n",
      "test accuracy 0.4458330138771755\n"
     ]
    }
   ],
   "source": [
    "under_best = dt_select(x_rus, y_rus,'accuracy')\n",
    "print(\"optimal hyperparameters\",under_best.best_params_)\n",
    "print(\"optimal accuracy score\", under_best.best_score_)\n",
    "#y_pred_under=under_best.predict(x_test)\n",
    "print(\"test accuracy\",under_best.score(x_test,y_test))"
   ]
  },
  {
   "cell_type": "code",
   "execution_count": null,
   "metadata": {
    "colab": {
     "base_uri": "https://localhost:8080/",
     "height": 334
    },
    "id": "MGD2LzLIUnaP",
    "outputId": "014c8c53-a409-4c11-bd3b-d111ecb46b07"
   },
   "outputs": [
    {
     "name": "stdout",
     "output_type": "stream",
     "text": [
      "Accuracy of Training data:  0.4480090052061348\n",
      "Accuracy of Testing data:  0.4458330138771755\n",
      "weigted f1 of Training data:  0.44371474027279645\n",
      "weigted f1 of Testing data:  0.5119051304664004\n"
     ]
    },
    {
     "data": {
      "image/png": "[encoded data removed]",
      "text/plain": [
       "<Figure size 432x288 with 2 Axes>"
      ]
     },
     "metadata": {
      "needs_background": "light"
     },
     "output_type": "display_data"
    }
   ],
   "source": [
    "#accuracy as metric for hyperparamter pruning\n",
    "under_model = DecisionTreeClassifier(ccp_alpha=1e-06, max_depth=15, max_features=None, max_leaf_nodes=None, min_samples_split= 0.1,random_state=100)\n",
    "model_result(under_model, x_rus, y_rus, x_test, y_test)"
   ]
  },
  {
   "cell_type": "code",
   "execution_count": 73,
   "metadata": {
    "colab": {
     "base_uri": "https://localhost:8080/"
    },
    "id": "V53g0T_zNklp",
    "outputId": "e4ac53a0-beef-4351-d45c-398f6da9a9bc"
   },
   "outputs": [
    {
     "name": "stdout",
     "output_type": "stream",
     "text": [
      "optimal hyperparameters {'ccp_alpha': 1e-06, 'max_depth': 20, 'max_features': None, 'max_leaf_nodes': None, 'min_samples_split': 0.1}\n",
      "optimal f1 score 0.4097592041474739\n",
      "test f1 score 0.5123272413515255\n"
     ]
    }
   ],
   "source": [
    "#f1 as score metric\n",
    "under_best_f1 = dt_select(x_rus, y_rus,'f1_weighted')\n",
    "\n",
    "print(\"optimal hyperparameters\",under_best_f1.best_params_)\n",
    "print(\"optimal f1 score\", under_best_f1.best_score_)\n",
    "print(\"test f1 score\",under_best_f1.score(x_test,y_test))"
   ]
  },
  {
   "cell_type": "code",
   "execution_count": 95,
   "metadata": {
    "colab": {
     "base_uri": "https://localhost:8080/",
     "height": 334
    },
    "id": "d0LafmkFa1mC",
    "outputId": "ac71d0a9-b64c-4e3f-aea9-76602cfff651"
   },
   "outputs": [
    {
     "name": "stdout",
     "output_type": "stream",
     "text": [
      "Accuracy of Training data:  0.44955677501055297\n",
      "Accuracy of Testing data:  0.4467530476117458\n",
      "weigted f1 of Training data:  0.4457992102992342\n",
      "weigted f1 of Testing data:  0.5123272413515255\n"
     ]
    },
    {
     "data": {
      "image/png": "[encoded data removed]",
      "text/plain": [
       "<Figure size 432x288 with 2 Axes>"
      ]
     },
     "metadata": {
      "needs_background": "light"
     },
     "output_type": "display_data"
    }
   ],
   "source": [
    "#f1 as metric for hyperparamter pruning\n",
    "under_model = DecisionTreeClassifier(ccp_alpha=1e-06, max_depth=20, max_features=None, max_leaf_nodes=None, min_samples_split= 0.1,random_state=100)\n",
    "model_result(under_model, x_rus, y_rus, x_test, y_test)"
   ]
  },
  {
   "cell_type": "markdown",
   "metadata": {
    "id": "PQLS_EjubOHt"
   },
   "source": [
    "f1 metric has a slightly better performance "
   ]
  },
  {
   "cell_type": "markdown",
   "metadata": {
    "id": "GDFLspcSDNT7"
   },
   "source": [
    "## SMOTE"
   ]
  },
  {
   "cell_type": "code",
   "execution_count": 76,
   "metadata": {
    "colab": {
     "base_uri": "https://localhost:8080/"
    },
    "id": "klEK1TzKDSCd",
    "outputId": "e4b145b1-e3b2-446c-8f15-204441f5f830"
   },
   "outputs": [
    {
     "name": "stdout",
     "output_type": "stream",
     "text": [
      "optimal hyperparameters {'ccp_alpha': 1e-06, 'max_depth': 20, 'max_features': None, 'max_leaf_nodes': None, 'min_samples_split': 0.1}\n",
      "optimal accuracy score 0.4556975133197195\n",
      "test accuracy 0.5261826266963122\n"
     ]
    }
   ],
   "source": [
    "#accuracy as metric\n",
    "smote_best = dt_select(x_smote, y_smote,\"accuracy\")\n",
    "print(\"optimal hyperparameters\",smote_best.best_params_)\n",
    "print(\"optimal accuracy score\", smote_best.best_score_)\n",
    "print(\"test accuracy\",smote_best.score(x_test,y_test))"
   ]
  },
  {
   "cell_type": "code",
   "execution_count": 90,
   "metadata": {
    "colab": {
     "base_uri": "https://localhost:8080/",
     "height": 334
    },
    "id": "bSmTGArWb4bc",
    "outputId": "63052e88-2690-4e72-af85-5756b6f4c394"
   },
   "outputs": [
    {
     "name": "stdout",
     "output_type": "stream",
     "text": [
      "Accuracy of Training data:  0.4577353987814279\n",
      "Accuracy of Testing data:  0.5261826266963122\n",
      "weigted f1 of Training data:  0.42981785140781087\n",
      "weigted f1 of Testing data:  0.5711632775579168\n"
     ]
    },
    {
     "data": {
      "image/png": "[encoded data removed]",
      "text/plain": [
       "<Figure size 432x288 with 2 Axes>"
      ]
     },
     "metadata": {
      "needs_background": "light"
     },
     "output_type": "display_data"
    }
   ],
   "source": [
    "#accuracy as metric for hyperparamter pruning\n",
    "smote_model = DecisionTreeClassifier(ccp_alpha=1e-06, max_depth=20, min_samples_split= 0.1,max_features=None, max_leaf_nodes= None,random_state=100)\n",
    "model_result(smote_model, x_smote, y_smote, x_test, y_test)"
   ]
  },
  {
   "cell_type": "code",
   "execution_count": 78,
   "metadata": {
    "colab": {
     "base_uri": "https://localhost:8080/"
    },
    "id": "VXHz3_hBc1-G",
    "outputId": "ad158200-092d-400b-8d43-fedc7ea076f6"
   },
   "outputs": [
    {
     "name": "stdout",
     "output_type": "stream",
     "text": [
      "optimal hyperparameters {'ccp_alpha': 1e-06, 'max_depth': 20, 'max_features': None, 'max_leaf_nodes': None, 'min_samples_split': 0.2}\n",
      "optimal f1 score 0.42849145788284015\n",
      "test f1 score 0.5144498772570754\n"
     ]
    }
   ],
   "source": [
    "smote_best_f1 = dt_select(x_smote, y_smote,'f1_weighted')\n",
    "print(\"optimal hyperparameters\",smote_best_f1.best_params_)\n",
    "print(\"optimal f1 score\", smote_best_f1.best_score_)\n",
    "print(\"test f1 score\",smote_best_f1.score(x_test,y_test))"
   ]
  },
  {
   "cell_type": "code",
   "execution_count": 97,
   "metadata": {
    "colab": {
     "base_uri": "https://localhost:8080/",
     "height": 334
    },
    "id": "_AHRW923PnWn",
    "outputId": "5cd15420-6262-458e-85f7-a9e5054efeff"
   },
   "outputs": [
    {
     "name": "stdout",
     "output_type": "stream",
     "text": [
      "Accuracy of Training data:  0.4430153852652031\n",
      "Accuracy of Testing data:  0.4491298014260523\n",
      "weigted f1 of Training data:  0.42968144049246615\n",
      "weigted f1 of Testing data:  0.5144498772570754\n"
     ]
    },
    {
     "data": {
      "image/png": "[encoded data removed]",
      "text/plain": [
       "<Figure size 432x288 with 2 Axes>"
      ]
     },
     "metadata": {
      "needs_background": "light"
     },
     "output_type": "display_data"
    }
   ],
   "source": [
    "#f1 as metric for hyperparamter pruning\n",
    "smote_model = DecisionTreeClassifier(ccp_alpha=1e-06, max_depth=20, min_samples_split= 0.2,random_state=100)\n",
    "model_result(smote_model, x_smote, y_smote, x_test, y_test)"
   ]
  },
  {
   "cell_type": "markdown",
   "metadata": {
    "id": "35ZaqYVQjUNv"
   },
   "source": [
    "accuracy has a much better performance, thus we may consider using accuracy as the sole metric"
   ]
  }
 ],
 "metadata": {
  "accelerator": "GPU",
  "colab": {
   "provenance": []
  },
  "gpuClass": "standard",
  "kernelspec": {
   "display_name": "Python 3",
   "language": "python",
   "name": "python3"
  },
  "language_info": {
   "codemirror_mode": {
    "name": "ipython",
    "version": 3
   },
   "file_extension": ".py",
   "mimetype": "text/x-python",
   "name": "python",
   "nbconvert_exporter": "python",
   "pygments_lexer": "ipython3",
   "version": "3.8.8"
  }
 },
 "nbformat": 4,
 "nbformat_minor": 1
}
