{
 "cells": [
  {
   "cell_type": "code",
   "execution_count": 38,
   "id": "99b7f48b",
   "metadata": {},
   "outputs": [],
   "source": [
    "import pandas as pd\n",
    "import matplotlib.pyplot as plt\n",
    "import numpy as np"
   ]
  },
  {
   "cell_type": "markdown",
   "id": "8f8f88d8",
   "metadata": {},
   "source": [
    "## Initial data exploration\n"
   ]
  },
  {
   "cell_type": "code",
   "execution_count": 2,
   "id": "f0e1671f",
   "metadata": {
    "scrolled": true
   },
   "outputs": [],
   "source": [
    "whole=pd.read_csv('2015_Street_Tree_Census_-_Tree_Data.csv')"
   ]
  },
  {
   "cell_type": "code",
   "execution_count": 3,
   "id": "bfb44b64",
   "metadata": {},
   "outputs": [],
   "source": [
    "whole.drop(columns=['tree_id', 'block_id', 'created_at', 'status'],inplace=True)"
   ]
  },
  {
   "cell_type": "code",
   "execution_count": 4,
   "id": "43889e9d",
   "metadata": {},
   "outputs": [],
   "source": [
    "subset=whole.dropna(subset=['health'])"
   ]
  },
  {
   "cell_type": "code",
   "execution_count": 5,
   "id": "39f5e2df",
   "metadata": {},
   "outputs": [],
   "source": [
    "kept = ['tree_dbh', 'curb_loc', 'health', \n",
    "        'spc_common', 'steward', 'guards', 'sidewalk', 'user_type', \n",
    "        'root_stone', 'root_grate', 'root_other', \n",
    "        'trunk_wire', 'trnk_light', 'trnk_other',\n",
    "        'brch_light', 'brch_shoe', 'brch_other', 'zip_city',\n",
    "        'st_senate', 'st_assem', 'borocode', 'cncldist', 'nta_name', \n",
    "        'community board', 'latitude', 'longitude']\n",
    "tree2015=whole[kept].dropna()"
   ]
  },
  {
   "cell_type": "code",
   "execution_count": 7,
   "id": "345c212e",
   "metadata": {},
   "outputs": [],
   "source": [
    "total_num = pd.DataFrame(subset.loc[:,['borough','health']].groupby('borough').count()['health'])#.values[0]\n",
    "bar_data=pd.DataFrame(subset.loc[:,['borough','health']].groupby(['borough','health'])['health'].size().unstack())\n",
    "\n",
    "per_data = bar_data.merge(total_num, how='left', on ='borough')\n",
    "per_data['Fair'] = per_data['Fair']/per_data['health']\n",
    "per_data['Good'] = per_data['Good']/per_data['health']\n",
    "per_data['Poor'] = per_data['Poor']/per_data['health']"
   ]
  },
  {
   "cell_type": "code",
   "execution_count": 43,
   "id": "e31492d2",
   "metadata": {},
   "outputs": [
    {
     "data": {
      "text/html": [
       "<div>\n",
       "<style scoped>\n",
       "    .dataframe tbody tr th:only-of-type {\n",
       "        vertical-align: middle;\n",
       "    }\n",
       "\n",
       "    .dataframe tbody tr th {\n",
       "        vertical-align: top;\n",
       "    }\n",
       "\n",
       "    .dataframe thead th {\n",
       "        text-align: right;\n",
       "    }\n",
       "</style>\n",
       "<table border=\"1\" class=\"dataframe\">\n",
       "  <thead>\n",
       "    <tr style=\"text-align: right;\">\n",
       "      <th></th>\n",
       "      <th>Fair</th>\n",
       "      <th>Good</th>\n",
       "      <th>Poor</th>\n",
       "    </tr>\n",
       "    <tr>\n",
       "      <th>borough</th>\n",
       "      <th></th>\n",
       "      <th></th>\n",
       "      <th></th>\n",
       "    </tr>\n",
       "  </thead>\n",
       "  <tbody>\n",
       "    <tr>\n",
       "      <th>Bronx</th>\n",
       "      <td>0.135100</td>\n",
       "      <td>0.826494</td>\n",
       "      <td>0.038407</td>\n",
       "    </tr>\n",
       "    <tr>\n",
       "      <th>Brooklyn</th>\n",
       "      <td>0.147711</td>\n",
       "      <td>0.814238</td>\n",
       "      <td>0.038051</td>\n",
       "    </tr>\n",
       "    <tr>\n",
       "      <th>Manhattan</th>\n",
       "      <td>0.183574</td>\n",
       "      <td>0.758614</td>\n",
       "      <td>0.057812</td>\n",
       "    </tr>\n",
       "    <tr>\n",
       "      <th>Queens</th>\n",
       "      <td>0.145180</td>\n",
       "      <td>0.815249</td>\n",
       "      <td>0.039572</td>\n",
       "    </tr>\n",
       "    <tr>\n",
       "      <th>Staten Island</th>\n",
       "      <td>0.143284</td>\n",
       "      <td>0.814939</td>\n",
       "      <td>0.041778</td>\n",
       "    </tr>\n",
       "  </tbody>\n",
       "</table>\n",
       "</div>"
      ],
      "text/plain": [
       "                   Fair      Good      Poor\n",
       "borough                                    \n",
       "Bronx          0.135100  0.826494  0.038407\n",
       "Brooklyn       0.147711  0.814238  0.038051\n",
       "Manhattan      0.183574  0.758614  0.057812\n",
       "Queens         0.145180  0.815249  0.039572\n",
       "Staten Island  0.143284  0.814939  0.041778"
      ]
     },
     "execution_count": 43,
     "metadata": {},
     "output_type": "execute_result"
    }
   ],
   "source": [
    "per_data.iloc[:,0:3]"
   ]
  },
  {
   "cell_type": "code",
   "execution_count": 8,
   "id": "1e83dccf",
   "metadata": {},
   "outputs": [
    {
     "data": {
      "image/png": "[encoded data removed]",
      "text/plain": [
       "<Figure size 1080x720 with 1 Axes>"
      ]
     },
     "metadata": {},
     "output_type": "display_data"
    }
   ],
   "source": [
    "import seaborn as sns\n",
    "sns.set(rc={'figure.figsize':(15,10)})\n",
    "#bar_data=pd.DataFrame(subset.loc[:,['borough','health']].groupby(['borough','health'])['health'].size().unstack())\n",
    "per_data.iloc[:,0:3].plot(kind='bar', stacked=True)\n",
    "plt.title('health status by districts')\n",
    "plt.xticks(rotation=0, ha='center')\n",
    "plt.show()\n"
   ]
  },
  {
   "cell_type": "code",
   "execution_count": 25,
   "id": "fb740694",
   "metadata": {},
   "outputs": [
    {
     "data": {
      "text/html": [
       "<div>\n",
       "<style scoped>\n",
       "    .dataframe tbody tr th:only-of-type {\n",
       "        vertical-align: middle;\n",
       "    }\n",
       "\n",
       "    .dataframe tbody tr th {\n",
       "        vertical-align: top;\n",
       "    }\n",
       "\n",
       "    .dataframe thead th {\n",
       "        text-align: right;\n",
       "    }\n",
       "</style>\n",
       "<table border=\"1\" class=\"dataframe\">\n",
       "  <thead>\n",
       "    <tr style=\"text-align: right;\">\n",
       "      <th></th>\n",
       "      <th></th>\n",
       "      <th></th>\n",
       "      <th>0</th>\n",
       "    </tr>\n",
       "    <tr>\n",
       "      <th>root_stone</th>\n",
       "      <th>root_grate</th>\n",
       "      <th>root_other</th>\n",
       "      <th></th>\n",
       "    </tr>\n",
       "  </thead>\n",
       "  <tbody>\n",
       "    <tr>\n",
       "      <th>No</th>\n",
       "      <th>No</th>\n",
       "      <th>No</th>\n",
       "      <td>488433</td>\n",
       "    </tr>\n",
       "    <tr>\n",
       "      <th>Yes</th>\n",
       "      <th>No</th>\n",
       "      <th>No</th>\n",
       "      <td>130265</td>\n",
       "    </tr>\n",
       "    <tr>\n",
       "      <th>No</th>\n",
       "      <th>No</th>\n",
       "      <th>Yes</th>\n",
       "      <td>20626</td>\n",
       "    </tr>\n",
       "    <tr>\n",
       "      <th>Yes</th>\n",
       "      <th>No</th>\n",
       "      <th>Yes</th>\n",
       "      <td>9306</td>\n",
       "    </tr>\n",
       "    <tr>\n",
       "      <th>No</th>\n",
       "      <th>Yes</th>\n",
       "      <th>No</th>\n",
       "      <td>2795</td>\n",
       "    </tr>\n",
       "    <tr>\n",
       "      <th>Yes</th>\n",
       "      <th>Yes</th>\n",
       "      <th>No</th>\n",
       "      <td>351</td>\n",
       "    </tr>\n",
       "    <tr>\n",
       "      <th>No</th>\n",
       "      <th>Yes</th>\n",
       "      <th>Yes</th>\n",
       "      <td>315</td>\n",
       "    </tr>\n",
       "    <tr>\n",
       "      <th>Yes</th>\n",
       "      <th>Yes</th>\n",
       "      <th>Yes</th>\n",
       "      <td>75</td>\n",
       "    </tr>\n",
       "  </tbody>\n",
       "</table>\n",
       "</div>"
      ],
      "text/plain": [
       "                                       0\n",
       "root_stone root_grate root_other        \n",
       "No         No         No          488433\n",
       "Yes        No         No          130265\n",
       "No         No         Yes          20626\n",
       "Yes        No         Yes           9306\n",
       "No         Yes        No            2795\n",
       "Yes        Yes        No             351\n",
       "No         Yes        Yes            315\n",
       "Yes        Yes        Yes             75"
      ]
     },
     "execution_count": 25,
     "metadata": {},
     "output_type": "execute_result"
    }
   ],
   "source": [
    "pd.DataFrame(tree2015.loc[:,['root_stone', 'root_grate','root_other']].value_counts())"
   ]
  },
  {
   "cell_type": "markdown",
   "id": "739efe88",
   "metadata": {},
   "source": [
    "choose top 5 combination"
   ]
  },
  {
   "cell_type": "code",
   "execution_count": 35,
   "id": "e928241d",
   "metadata": {
    "collapsed": true
   },
   "outputs": [
    {
     "name": "stderr",
     "output_type": "stream",
     "text": [
      "<ipython-input-35-be20ec4190bf>:1: UserWarning: Boolean Series key will be reindexed to match DataFrame index.\n",
      "  no_root = tree2015[tree2015['root_stone']=='No'][tree2015['root_grate']=='No'][tree2015['root_other']=='No']['health'].value_counts()\n",
      "<ipython-input-35-be20ec4190bf>:2: UserWarning: Boolean Series key will be reindexed to match DataFrame index.\n",
      "  stone = tree2015[tree2015['root_stone']=='Yes'][tree2015['root_grate']=='No'][tree2015['root_other']=='No']['health'].value_counts()\n",
      "<ipython-input-35-be20ec4190bf>:3: UserWarning: Boolean Series key will be reindexed to match DataFrame index.\n",
      "  other = tree2015[tree2015['root_stone']=='No'][tree2015['root_grate']=='No'][tree2015['root_other']=='Yes']['health'].value_counts()\n",
      "<ipython-input-35-be20ec4190bf>:4: UserWarning: Boolean Series key will be reindexed to match DataFrame index.\n",
      "  stone_other = tree2015[tree2015['root_stone']=='Yes'][tree2015['root_grate']=='No'][tree2015['root_other']=='Yes']['health'].value_counts()\n",
      "<ipython-input-35-be20ec4190bf>:5: UserWarning: Boolean Series key will be reindexed to match DataFrame index.\n",
      "  grate=tree2015[tree2015['root_stone']=='No'][tree2015['root_grate']=='Yes'][tree2015['root_other']=='No']['health'].value_counts()\n"
     ]
    }
   ],
   "source": [
    "no_root = tree2015[tree2015['root_stone']=='No'][tree2015['root_grate']=='No'][tree2015['root_other']=='No']['health'].value_counts()\n",
    "stone = tree2015[tree2015['root_stone']=='Yes'][tree2015['root_grate']=='No'][tree2015['root_other']=='No']['health'].value_counts()\n",
    "other = tree2015[tree2015['root_stone']=='No'][tree2015['root_grate']=='No'][tree2015['root_other']=='Yes']['health'].value_counts()\n",
    "stone_other = tree2015[tree2015['root_stone']=='Yes'][tree2015['root_grate']=='No'][tree2015['root_other']=='Yes']['health'].value_counts()\n",
    "grate=tree2015[tree2015['root_stone']=='No'][tree2015['root_grate']=='Yes'][tree2015['root_other']=='No']['health'].value_counts()"
   ]
  },
  {
   "cell_type": "code",
   "execution_count": 39,
   "id": "8e2d3039",
   "metadata": {},
   "outputs": [],
   "source": [
    "rootProblem=pd.DataFrame([no_root,stone,other, stone_other, grate])"
   ]
  },
  {
   "cell_type": "code",
   "execution_count": 45,
   "id": "492d103e",
   "metadata": {},
   "outputs": [
    {
     "data": {
      "text/plain": [
       "<matplotlib.legend.Legend at 0x7fcd6b61e1f0>"
      ]
     },
     "execution_count": 45,
     "metadata": {},
     "output_type": "execute_result"
    },
    {
     "data": {
      "image/png": "[encoded data removed]",
      "text/plain": [
       "<Figure size 1080x720 with 1 Axes>"
      ]
     },
     "metadata": {},
     "output_type": "display_data"
    }
   ],
   "source": [
    "X_axis = np.arange(5)\n",
    "x=['no root problem','root_stone', 'root_other','root_stone&other','root_grate']\n",
    "#fig, ax = plt.subplots(1,2)\n",
    "y0=rootProblem['Good']\n",
    "y1=rootProblem['Fair']\n",
    "y2=rootProblem['Poor']\n",
    "plt.bar(X_axis-0.2, y0, 0.2, label = 'Good')\n",
    "plt.bar(X_axis, y1, 0.2, label = 'Fair')\n",
    "plt.bar(X_axis+0.2, y2, 0.2, label = 'Poor')\n",
    "plt.xticks(X_axis, x)\n",
    "plt.xlabel(\"root problem\")\n",
    "plt.ylabel(\"number of trees\")\n",
    "plt.title(\"Number of trees in different health status by root problem\")\n",
    "plt.legend(title='health')\n",
    "\n"
   ]
  },
  {
   "cell_type": "code",
   "execution_count": 46,
   "id": "88c84cb1",
   "metadata": {
    "collapsed": true
   },
   "outputs": [
    {
     "name": "stderr",
     "output_type": "stream",
     "text": [
      "<ipython-input-46-0ecd5f2277f3>:1: UserWarning: Boolean Series key will be reindexed to match DataFrame index.\n",
      "  no_root = tree2015[tree2015['root_stone']=='No'][tree2015['root_grate']=='No'][tree2015['root_other']=='No']['health'].value_counts()/488433\n",
      "<ipython-input-46-0ecd5f2277f3>:2: UserWarning: Boolean Series key will be reindexed to match DataFrame index.\n",
      "  stone = tree2015[tree2015['root_stone']=='Yes'][tree2015['root_grate']=='No'][tree2015['root_other']=='No']['health'].value_counts()/130265\n",
      "<ipython-input-46-0ecd5f2277f3>:3: UserWarning: Boolean Series key will be reindexed to match DataFrame index.\n",
      "  other = tree2015[tree2015['root_stone']=='No'][tree2015['root_grate']=='No'][tree2015['root_other']=='Yes']['health'].value_counts()/20626\n",
      "<ipython-input-46-0ecd5f2277f3>:4: UserWarning: Boolean Series key will be reindexed to match DataFrame index.\n",
      "  stone_other = tree2015[tree2015['root_stone']=='Yes'][tree2015['root_grate']=='No'][tree2015['root_other']=='Yes']['health'].value_counts()/9306\n",
      "<ipython-input-46-0ecd5f2277f3>:5: UserWarning: Boolean Series key will be reindexed to match DataFrame index.\n",
      "  grate=tree2015[tree2015['root_stone']=='No'][tree2015['root_grate']=='Yes'][tree2015['root_other']=='No']['health'].value_counts()/2795\n"
     ]
    }
   ],
   "source": [
    "no_root = tree2015[tree2015['root_stone']=='No'][tree2015['root_grate']=='No'][tree2015['root_other']=='No']['health'].value_counts()/488433\n",
    "stone = tree2015[tree2015['root_stone']=='Yes'][tree2015['root_grate']=='No'][tree2015['root_other']=='No']['health'].value_counts()/130265\n",
    "other = tree2015[tree2015['root_stone']=='No'][tree2015['root_grate']=='No'][tree2015['root_other']=='Yes']['health'].value_counts()/20626\n",
    "stone_other = tree2015[tree2015['root_stone']=='Yes'][tree2015['root_grate']=='No'][tree2015['root_other']=='Yes']['health'].value_counts()/9306\n",
    "grate=tree2015[tree2015['root_stone']=='No'][tree2015['root_grate']=='Yes'][tree2015['root_other']=='No']['health'].value_counts()/2795"
   ]
  },
  {
   "cell_type": "code",
   "execution_count": 56,
   "id": "26eda851",
   "metadata": {},
   "outputs": [
    {
     "data": {
      "image/png": "[encoded data removed]",
      "text/plain": [
       "<Figure size 1080x720 with 1 Axes>"
      ]
     },
     "metadata": {},
     "output_type": "display_data"
    }
   ],
   "source": [
    "Per_rootProblem=pd.DataFrame([no_root,stone,other, stone_other, grate])\n",
    "Per_rootProblem.index=x\n",
    "sns.set(rc={'figure.figsize':(15,10)})\n",
    "Per_rootProblem.plot(kind='bar', stacked=True)\n",
    "plt.title('% of trees in different health status by root problem')\n",
    "plt.xticks(rotation=0, ha='center')\n",
    "plt.show()"
   ]
  },
  {
   "cell_type": "code",
   "execution_count": 57,
   "id": "79e8ee99",
   "metadata": {},
   "outputs": [
    {
     "data": {
      "text/html": [
       "<div>\n",
       "<style scoped>\n",
       "    .dataframe tbody tr th:only-of-type {\n",
       "        vertical-align: middle;\n",
       "    }\n",
       "\n",
       "    .dataframe tbody tr th {\n",
       "        vertical-align: top;\n",
       "    }\n",
       "\n",
       "    .dataframe thead th {\n",
       "        text-align: right;\n",
       "    }\n",
       "</style>\n",
       "<table border=\"1\" class=\"dataframe\">\n",
       "  <thead>\n",
       "    <tr style=\"text-align: right;\">\n",
       "      <th></th>\n",
       "      <th></th>\n",
       "      <th></th>\n",
       "      <th>0</th>\n",
       "    </tr>\n",
       "    <tr>\n",
       "      <th>brch_light</th>\n",
       "      <th>brch_shoe</th>\n",
       "      <th>brch_other</th>\n",
       "      <th></th>\n",
       "    </tr>\n",
       "  </thead>\n",
       "  <tbody>\n",
       "    <tr>\n",
       "      <th>No</th>\n",
       "      <th>No</th>\n",
       "      <th>No</th>\n",
       "      <td>567496</td>\n",
       "    </tr>\n",
       "    <tr>\n",
       "      <th>Yes</th>\n",
       "      <th>No</th>\n",
       "      <th>No</th>\n",
       "      <td>59957</td>\n",
       "    </tr>\n",
       "    <tr>\n",
       "      <th>No</th>\n",
       "      <th>No</th>\n",
       "      <th>Yes</th>\n",
       "      <td>21978</td>\n",
       "    </tr>\n",
       "    <tr>\n",
       "      <th>Yes</th>\n",
       "      <th>No</th>\n",
       "      <th>Yes</th>\n",
       "      <td>2324</td>\n",
       "    </tr>\n",
       "    <tr>\n",
       "      <th>No</th>\n",
       "      <th>Yes</th>\n",
       "      <th>No</th>\n",
       "      <td>281</td>\n",
       "    </tr>\n",
       "    <tr>\n",
       "      <th>Yes</th>\n",
       "      <th>Yes</th>\n",
       "      <th>No</th>\n",
       "      <td>77</td>\n",
       "    </tr>\n",
       "    <tr>\n",
       "      <th>No</th>\n",
       "      <th>Yes</th>\n",
       "      <th>Yes</th>\n",
       "      <td>46</td>\n",
       "    </tr>\n",
       "    <tr>\n",
       "      <th>Yes</th>\n",
       "      <th>Yes</th>\n",
       "      <th>Yes</th>\n",
       "      <td>7</td>\n",
       "    </tr>\n",
       "  </tbody>\n",
       "</table>\n",
       "</div>"
      ],
      "text/plain": [
       "                                      0\n",
       "brch_light brch_shoe brch_other        \n",
       "No         No        No          567496\n",
       "Yes        No        No           59957\n",
       "No         No        Yes          21978\n",
       "Yes        No        Yes           2324\n",
       "No         Yes       No             281\n",
       "Yes        Yes       No              77\n",
       "No         Yes       Yes             46\n",
       "Yes        Yes       Yes              7"
      ]
     },
     "execution_count": 57,
     "metadata": {},
     "output_type": "execute_result"
    }
   ],
   "source": [
    "pd.DataFrame(tree2015.loc[:,['brch_light', 'brch_shoe', 'brch_other']].value_counts())"
   ]
  },
  {
   "cell_type": "code",
   "execution_count": null,
   "id": "86e23553",
   "metadata": {},
   "outputs": [],
   "source": []
  },
  {
   "cell_type": "markdown",
   "id": "97165214",
   "metadata": {},
   "source": [
    "# sample imbalance data"
   ]
  },
  {
   "cell_type": "code",
   "execution_count": 9,
   "id": "a3539684",
   "metadata": {},
   "outputs": [
    {
     "data": {
      "text/plain": [
       "Good    528845\n",
       "Fair     96504\n",
       "Poor     26817\n",
       "Name: health, dtype: int64"
      ]
     },
     "execution_count": 9,
     "metadata": {},
     "output_type": "execute_result"
    }
   ],
   "source": [
    "tree2015['health'].value_counts()"
   ]
  },
  {
   "cell_type": "markdown",
   "id": "5d70dc25",
   "metadata": {},
   "source": [
    "undersample good"
   ]
  },
  {
   "cell_type": "code",
   "execution_count": 10,
   "id": "1a581764",
   "metadata": {},
   "outputs": [
    {
     "data": {
      "text/plain": [
       "Poor    21509\n",
       "Fair    21509\n",
       "Good    21509\n",
       "Name: health, dtype: int64"
      ]
     },
     "execution_count": 10,
     "metadata": {},
     "output_type": "execute_result"
    }
   ],
   "source": [
    "from imblearn.under_sampling import RandomUnderSampler \n",
    "from sklearn.model_selection import train_test_split\n",
    "X=tree2015.drop(columns=['health'])\n",
    "y=tree2015['health']\n",
    "X_dev, X_test, y_dev, y_test = train_test_split(X, y,\n",
    "                                                    test_size=0.2, random_state=42)\n",
    "rus = RandomUnderSampler(replacement=False)\n",
    "X_dev_subsample,y_dev_subsample = rus.fit_resample(X_dev,y_dev)\n",
    "y_dev_subsample.value_counts()"
   ]
  },
  {
   "cell_type": "code",
   "execution_count": 12,
   "id": "3ae6bfd3",
   "metadata": {},
   "outputs": [
    {
     "data": {
      "text/plain": [
       "Good    422872\n",
       "Fair     77351\n",
       "Poor     21509\n",
       "Name: health, dtype: int64"
      ]
     },
     "execution_count": 12,
     "metadata": {},
     "output_type": "execute_result"
    }
   ],
   "source": [
    "y_dev.value_counts()"
   ]
  }
 ],
 "metadata": {
  "kernelspec": {
   "display_name": "Python 3",
   "language": "python",
   "name": "python3"
  },
  "language_info": {
   "codemirror_mode": {
    "name": "ipython",
    "version": 3
   },
   "file_extension": ".py",
   "mimetype": "text/x-python",
   "name": "python",
   "nbconvert_exporter": "python",
   "pygments_lexer": "ipython3",
   "version": "3.8.8"
  }
 },
 "nbformat": 4,
 "nbformat_minor": 5
}
